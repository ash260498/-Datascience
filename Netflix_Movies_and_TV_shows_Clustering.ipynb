{
  "nbformat": 4,
  "nbformat_minor": 0,
  "metadata": {
    "colab": {
      "provenance": [],
      "collapsed_sections": [
        "mDgbUHAGgjLW",
        "K5QZ13OEpz2H",
        "lQ7QKXXCp7Bj",
        "448CDAPjqfQr",
        "t6dVpIINYklI",
        "ijmpgYnKYklI",
        "-JiQyfWJYklI",
        "fge-S5ZAYoAp",
        "85gYPyotYoAp",
        "RoGjAbkUYoAp",
        "iky9q4vBYrdO",
        "F6T5p64dYrdO",
        "y-Ehk30pYrdP",
        "QHF8YVU7Yuh3",
        "GwzvFGzlYuh3",
        "qYpmQ266Yuh3",
        "bbFf2-_FphqN",
        "_ouA3fa0phqN",
        "Seke61FWphqN",
        "t27r6nlMphqO",
        "r2jJGEOYphqO",
        "b0JNsNcRphqO",
        "jj7wYXLtphqO",
        "eZrbJ2SmphqO",
        "rFu4xreNphqO",
        "YJ55k-q6phqO",
        "gCFgpxoyphqP",
        "OVtJsKN_phqQ",
        "lssrdh5qphqQ",
        "U2RJ9gkRphqQ",
        "1M8mcRywphqQ",
        "tgIPom80phqQ",
        "JMzcOPDDphqR",
        "x-EpHcCOp1ci",
        "X_VqEhTip1ck",
        "8zGJKyg5p1ck",
        "PVzmfK_Ep1ck",
        "n3dbpmDWp1ck",
        "ylSl6qgtp1ck",
        "ZWILFDl5p1ck",
        "M7G43BXep1ck",
        "Ag9LCva-p1cl",
        "E6MkPsBcp1cl",
        "2cELzS2fp1cl",
        "3MPXvC8up1cl",
        "NC_X3p0fY2L0",
        "UV0SzAkaZNRQ",
        "YPEH6qLeZNRQ",
        "q29F0dvdveiT",
        "EXh0U9oCveiU",
        "22aHeOlLveiV",
        "Yfr_Vlr8HBkt",
        "8yEUt7NnHlrM",
        "tEA2Xm5dHt1r",
        "I79__PHVH19G",
        "Ou-I18pAyIpj",
        "fF3858GYyt-u",
        "4_0_7-oCpUZd",
        "hwyV_J3ipUZe",
        "3yB-zSqbpUZe",
        "dEUvejAfpUZe",
        "Fd15vwWVpUZf",
        "bn_IUdTipZyH",
        "49K5P_iCpZyH",
        "Nff-vKELpZyI",
        "kLW572S8pZyI",
        "dWbDXHzopZyI",
        "yLjJCtPM0KBk",
        "xiyOF9F70UgQ",
        "7wuGOrhz0itI",
        "id1riN9m0vUs",
        "578E2V7j08f6",
        "89xtkJwZ18nB",
        "67NQN5KX2AMe",
        "Iwf50b-R2tYG",
        "GMQiZwjn3iu7",
        "WVIkgGqN3qsr",
        "XkPnILGE3zoT",
        "Hlsf0x5436Go",
        "mT9DMSJo4nBL",
        "c49ITxTc407N",
        "OeJFEK0N496M",
        "9ExmJH0g5HBk",
        "cJNqERVU536h",
        "k5UmGsbsOxih",
        "T0VqWOYE6DLQ",
        "qBMux9mC6MCf",
        "-oLEiFgy-5Pf",
        "C74aWNz2AliB",
        "2DejudWSA-a0",
        "pEMng2IbBLp7",
        "rAdphbQ9Bhjc",
        "TNVZ9zx19K6k",
        "nqoHp30x9hH9",
        "rMDnDkt2B6du",
        "yiiVWRdJDDil",
        "1UUpS68QDMuG",
        "kexQrXU-DjzY",
        "T5CmagL3EC8N",
        "BhH2vgX9EjGr",
        "qjKvONjwE8ra",
        "P1XJ9OREExlT",
        "VFOzZv6IFROw",
        "TIqpNgepFxVj",
        "VfCC591jGiD4",
        "OB4l2ZhMeS1U",
        "ArJBuiUVfxKd",
        "4qY1EAkEfxKe",
        "PiV4Ypx8fxKe",
        "TfvqoZmBfxKf",
        "dJ2tPlVmpsJ0",
        "JWYfwnehpsJ1",
        "-jK_YjpMpsJ2",
        "HAih1iBOpsJ2",
        "zVGeBEFhpsJ2",
        "bmKjuQ-FpsJ3",
        "Fze-IPXLpx6K",
        "7AN1z2sKpx6M",
        "9PIHJqyupx6M",
        "_-qAgymDpx6N",
        "Z-hykwinpx6N",
        "h_CCil-SKHpo",
        "cBFFvTBNJzUa",
        "HvGl1hHyA_VK",
        "EyNgTHvd2WFk",
        "KH5McJBi2d8v",
        "iW_Lq9qf2h6X",
        "-Kee-DAl2viO",
        "gCX9965dhzqZ",
        "gIfDvo9L0UH2"
      ],
      "include_colab_link": true
    },
    "kernelspec": {
      "name": "python3",
      "display_name": "Python 3"
    },
    "language_info": {
      "name": "python"
    }
  },
  "cells": [
    {
      "cell_type": "markdown",
      "metadata": {
        "id": "view-in-github",
        "colab_type": "text"
      },
      "source": [
        "<a href=\"https://colab.research.google.com/github/ash260498/-Datascience/blob/main/Netflix_Movies_and_TV_shows_Clustering.ipynb\" target=\"_parent\"><img src=\"https://colab.research.google.com/assets/colab-badge.svg\" alt=\"Open In Colab\"/></a>"
      ]
    },
    {
      "cell_type": "markdown",
      "source": [
        "# **Project Name**    - Netflix Movies and TV Shows clustering\n",
        "\n"
      ],
      "metadata": {
        "id": "vncDsAP0Gaoa"
      }
    },
    {
      "cell_type": "markdown",
      "source": [
        "##### **Project Type**    - Unsupervised\n",
        "##### **Contribution**    - Individual\n",
        "##### **Team Member 1 -**  Aswathi Rajesh\n"
      ],
      "metadata": {
        "id": "beRrZCGUAJYm"
      }
    },
    {
      "cell_type": "markdown",
      "source": [
        "# **Project Summary -**"
      ],
      "metadata": {
        "id": "FJNUwmbgGyua"
      }
    },
    {
      "cell_type": "markdown",
      "source": [
        "Integrating this dataset with other external datasets such as IMDB ratings, rotten tomatoes can also provide many interesting findings.It is crucial that they effectively cluster the shows that are hosted on their platform in order to enhance the user experience, thereby preventing subscriber churn. We will be able to understand the shows that are similar to and different from one another by creating clusters, which may be leveraged to offer the consumers personalized show suggestions depending on their preferences. The goal of this project is to classify/group the Netflix shows into certain clusters such that the shows within a cluster are similar to each other and the shows in different clusters are dissimilar to each other.The objective of this project is to analyze and cluster TV shows and movies available on Netflix using Python. The goal is to group similar content together based on various features and attributes, allowing for better understanding of Netflix's content library and potential recommendations for users."
      ],
      "metadata": {
        "id": "F6v_1wHtG2nS"
      }
    },
    {
      "cell_type": "markdown",
      "source": [
        "# **GitHub Link -**"
      ],
      "metadata": {
        "id": "w6K7xa23Elo4"
      }
    },
    {
      "cell_type": "markdown",
      "source": [
        "https://github.com/ash260498/-Datascience/blob/main/Netflix_Movies_and_TV_shows_Clustering.ipynb"
      ],
      "metadata": {
        "id": "h1o69JH3Eqqn"
      }
    },
    {
      "cell_type": "markdown",
      "source": [
        "# **Problem Statement**\n"
      ],
      "metadata": {
        "id": "yQaldy8SH6Dl"
      }
    },
    {
      "cell_type": "markdown",
      "source": [
        "**Netflix has a vast library of movies and TV shows, and it can be challenging for users to navigate and discover content that aligns with their preferences. The aim of this project is to develop a clustering solution that can group similar movies and TV shows together based on various attributes such as genre, release year, duration, cast members, directors, and more. By clustering the content, we can provide users with a more organized and personalized viewing experience.The goal of this project is to develop an efficient clustering solution that organizes Netflix's content library, provides insights into the content, and offers personalized recommendations to users. This will improve the user experience by facilitating content discovery and enhancing the relevance of recommendations based on individual preferences.**"
      ],
      "metadata": {
        "id": "DpeJGUA3kjGy"
      }
    },
    {
      "cell_type": "markdown",
      "source": [
        "# **General Guidelines** : -  "
      ],
      "metadata": {
        "id": "mDgbUHAGgjLW"
      }
    },
    {
      "cell_type": "markdown",
      "source": [
        "1.   Well-structured, formatted, and commented code is required.\n",
        "2.   Exception Handling, Production Grade Code & Deployment Ready Code will be a plus. Those students will be awarded some additional credits.\n",
        "     \n",
        "     The additional credits will have advantages over other students during Star Student selection.\n",
        "       \n",
        "             [ Note: - Deployment Ready Code is defined as, the whole .ipynb notebook should be executable in one go\n",
        "                       without a single error logged. ]\n",
        "\n",
        "3.   Each and every logic should have proper comments.\n",
        "4. You may add as many number of charts you want. Make Sure for each and every chart the following format should be answered.\n",
        "        \n",
        "\n",
        "```\n",
        "# Chart visualization code\n",
        "```\n",
        "            \n",
        "\n",
        "*   Why did you pick the specific chart?\n",
        "*   What is/are the insight(s) found from the chart?\n",
        "* Will the gained insights help creating a positive business impact?\n",
        "Are there any insights that lead to negative growth? Justify with specific reason.\n",
        "\n",
        "5. You have to create at least 15 logical & meaningful charts having important insights.\n",
        "\n",
        "\n",
        "[ Hints : - Do the Vizualization in  a structured way while following \"UBM\" Rule.\n",
        "\n",
        "U - Univariate Analysis,\n",
        "\n",
        "B - Bivariate Analysis (Numerical - Categorical, Numerical - Numerical, Categorical - Categorical)\n",
        "\n",
        "M - Multivariate Analysis\n",
        " ]\n",
        "\n",
        "\n",
        "\n",
        "\n",
        "\n",
        "6. You may add more ml algorithms for model creation. Make sure for each and every algorithm, the following format should be answered.\n",
        "\n",
        "\n",
        "*   Explain the ML Model used and it's performance using Evaluation metric Score Chart.\n",
        "\n",
        "\n",
        "*   Cross- Validation & Hyperparameter Tuning\n",
        "\n",
        "*   Have you seen any improvement? Note down the improvement with updates Evaluation metric Score Chart.\n",
        "\n",
        "*   Explain each evaluation metric's indication towards business and the business impact pf the ML model used.\n",
        "\n",
        "\n",
        "\n",
        "\n",
        "\n",
        "\n",
        "\n",
        "\n",
        "\n",
        "\n",
        "\n",
        "\n",
        "\n",
        "\n",
        "\n",
        "\n",
        "\n",
        "\n"
      ],
      "metadata": {
        "id": "ZrxVaUj-hHfC"
      }
    },
    {
      "cell_type": "markdown",
      "source": [
        "# ***Let's Begin !***"
      ],
      "metadata": {
        "id": "O_i_v8NEhb9l"
      }
    },
    {
      "cell_type": "markdown",
      "source": [
        "## ***1. Know Your Data***"
      ],
      "metadata": {
        "id": "HhfV-JJviCcP"
      }
    },
    {
      "cell_type": "markdown",
      "source": [
        "### Import Libraries"
      ],
      "metadata": {
        "id": "Y3lxredqlCYt"
      }
    },
    {
      "cell_type": "code",
      "source": [
        "#import libraries\n",
        "# importing the required libraries\n",
        "import pandas as pd\n",
        "import numpy as np\n",
        "import matplotlib.pyplot as plt\n",
        "import seaborn as sns\n",
        "from datetime import datetime as dt\n",
        "\n",
        "import warnings\n",
        "warnings.filterwarnings('ignore')\n",
        "from wordcloud import WordCloud, STOPWORDS\n",
        "import re, string, unicodedata\n",
        "import nltk\n",
        "#import inflect\n",
        "from bs4 import BeautifulSoup\n",
        "from nltk import word_tokenize, sent_tokenize\n",
        "from nltk.corpus import stopwords\n",
        "from nltk.stem import LancasterStemmer, WordNetLemmatizer\n",
        "from sklearn.feature_extraction.text import TfidfVectorizer\n",
        "from sklearn.decomposition import PCA\n",
        "from nltk.stem import WordNetLemmatizer\n",
        "nltk.download('wordnet')\n",
        "import nltk\n",
        "nltk.download('stopwords')\n",
        "from nltk.corpus import stopwords\n",
        "import string\n",
        "string.punctuation\n",
        "nltk.download('omw-1.4')\n",
        "from nltk.tokenize import TweetTokenizer\n",
        "\n",
        "from sklearn.cluster import KMeans\n",
        "from sklearn.metrics import silhouette_score\n",
        "from sklearn.cluster import AgglomerativeClustering\n",
        "import scipy.cluster.hierarchy as shc\n",
        "\n",
        "from sklearn.feature_extraction.text import CountVectorizer\n",
        "from sklearn.metrics.pairwise import cosine_similarity\n",
        "\n",
        "%matplotlib inline\n",
        "sns.set()"
      ],
      "metadata": {
        "id": "M8Vqi-pPk-HR",
        "colab": {
          "base_uri": "https://localhost:8080/"
        },
        "outputId": "ab2e3083-44e0-47b9-b84d-bde4c18fe305"
      },
      "execution_count": 1,
      "outputs": [
        {
          "output_type": "stream",
          "name": "stderr",
          "text": [
            "[nltk_data] Downloading package wordnet to /root/nltk_data...\n",
            "[nltk_data] Downloading package stopwords to /root/nltk_data...\n",
            "[nltk_data]   Unzipping corpora/stopwords.zip.\n",
            "[nltk_data] Downloading package omw-1.4 to /root/nltk_data...\n"
          ]
        }
      ]
    },
    {
      "cell_type": "code",
      "source": [
        "# Mount Drive\n",
        "from google.colab import drive\n",
        "drive.mount('/content/drive')"
      ],
      "metadata": {
        "colab": {
          "base_uri": "https://localhost:8080/"
        },
        "id": "L_IBnY1EQrPA",
        "outputId": "02cfd90e-e29c-4425-ca41-f39b1285a281"
      },
      "execution_count": 2,
      "outputs": [
        {
          "output_type": "stream",
          "name": "stdout",
          "text": [
            "Mounted at /content/drive\n"
          ]
        }
      ]
    },
    {
      "cell_type": "markdown",
      "source": [
        "### Dataset Loading"
      ],
      "metadata": {
        "id": "3RnN4peoiCZX"
      }
    },
    {
      "cell_type": "code",
      "source": [
        "# Load Dataset\n",
        "#Importing data by reading csv file\n",
        "file_path = '/content/drive/MyDrive/AlmaBetter/UnsupervisedML/NETFLIX_MOVIES_AND_TV_SHOWS_CLUSTERING.csv'\n",
        "df=pd.read_csv(file_path)\n"
      ],
      "metadata": {
        "id": "4CkvbW_SlZ_R"
      },
      "execution_count": 3,
      "outputs": []
    },
    {
      "cell_type": "markdown",
      "source": [
        "### Dataset First View"
      ],
      "metadata": {
        "id": "x71ZqKXriCWQ"
      }
    },
    {
      "cell_type": "code",
      "source": [
        "# Dataset First Look\n",
        "original_df = pd.read_csv(file_path,index_col='show_id')\n",
        "df = original_df.copy()\n",
        "# top 5 rows\n",
        "df.head()"
      ],
      "metadata": {
        "id": "LWNFOSvLl09H",
        "colab": {
          "base_uri": "https://localhost:8080/",
          "height": 368
        },
        "outputId": "80b18c14-2296-4e2a-b4ce-d035daa7541b"
      },
      "execution_count": 4,
      "outputs": [
        {
          "output_type": "execute_result",
          "data": {
            "text/plain": [
              "            type  title           director  \\\n",
              "show_id                                      \n",
              "s1       TV Show     3%                NaN   \n",
              "s2         Movie   7:19  Jorge Michel Grau   \n",
              "s3         Movie  23:59       Gilbert Chan   \n",
              "s4         Movie      9        Shane Acker   \n",
              "s5         Movie     21     Robert Luketic   \n",
              "\n",
              "                                                      cast        country  \\\n",
              "show_id                                                                     \n",
              "s1       João Miguel, Bianca Comparato, Michel Gomes, R...         Brazil   \n",
              "s2       Demián Bichir, Héctor Bonilla, Oscar Serrano, ...         Mexico   \n",
              "s3       Tedd Chan, Stella Chung, Henley Hii, Lawrence ...      Singapore   \n",
              "s4       Elijah Wood, John C. Reilly, Jennifer Connelly...  United States   \n",
              "s5       Jim Sturgess, Kevin Spacey, Kate Bosworth, Aar...  United States   \n",
              "\n",
              "                date_added  release_year rating   duration  \\\n",
              "show_id                                                      \n",
              "s1         August 14, 2020          2020  TV-MA  4 Seasons   \n",
              "s2       December 23, 2016          2016  TV-MA     93 min   \n",
              "s3       December 20, 2018          2011      R     78 min   \n",
              "s4       November 16, 2017          2009  PG-13     80 min   \n",
              "s5         January 1, 2020          2008  PG-13    123 min   \n",
              "\n",
              "                                                 listed_in  \\\n",
              "show_id                                                      \n",
              "s1       International TV Shows, TV Dramas, TV Sci-Fi &...   \n",
              "s2                            Dramas, International Movies   \n",
              "s3                     Horror Movies, International Movies   \n",
              "s4       Action & Adventure, Independent Movies, Sci-Fi...   \n",
              "s5                                                  Dramas   \n",
              "\n",
              "                                               description  \n",
              "show_id                                                     \n",
              "s1       In a future where the elite inhabit an island ...  \n",
              "s2       After a devastating earthquake hits Mexico Cit...  \n",
              "s3       When an army recruit is found dead, his fellow...  \n",
              "s4       In a postapocalyptic world, rag-doll robots hi...  \n",
              "s5       A brilliant group of students become card-coun...  "
            ],
            "text/html": [
              "\n",
              "  <div id=\"df-fed6b388-69a1-4709-aa9b-e9ddc88535d1\">\n",
              "    <div class=\"colab-df-container\">\n",
              "      <div>\n",
              "<style scoped>\n",
              "    .dataframe tbody tr th:only-of-type {\n",
              "        vertical-align: middle;\n",
              "    }\n",
              "\n",
              "    .dataframe tbody tr th {\n",
              "        vertical-align: top;\n",
              "    }\n",
              "\n",
              "    .dataframe thead th {\n",
              "        text-align: right;\n",
              "    }\n",
              "</style>\n",
              "<table border=\"1\" class=\"dataframe\">\n",
              "  <thead>\n",
              "    <tr style=\"text-align: right;\">\n",
              "      <th></th>\n",
              "      <th>type</th>\n",
              "      <th>title</th>\n",
              "      <th>director</th>\n",
              "      <th>cast</th>\n",
              "      <th>country</th>\n",
              "      <th>date_added</th>\n",
              "      <th>release_year</th>\n",
              "      <th>rating</th>\n",
              "      <th>duration</th>\n",
              "      <th>listed_in</th>\n",
              "      <th>description</th>\n",
              "    </tr>\n",
              "    <tr>\n",
              "      <th>show_id</th>\n",
              "      <th></th>\n",
              "      <th></th>\n",
              "      <th></th>\n",
              "      <th></th>\n",
              "      <th></th>\n",
              "      <th></th>\n",
              "      <th></th>\n",
              "      <th></th>\n",
              "      <th></th>\n",
              "      <th></th>\n",
              "      <th></th>\n",
              "    </tr>\n",
              "  </thead>\n",
              "  <tbody>\n",
              "    <tr>\n",
              "      <th>s1</th>\n",
              "      <td>TV Show</td>\n",
              "      <td>3%</td>\n",
              "      <td>NaN</td>\n",
              "      <td>João Miguel, Bianca Comparato, Michel Gomes, R...</td>\n",
              "      <td>Brazil</td>\n",
              "      <td>August 14, 2020</td>\n",
              "      <td>2020</td>\n",
              "      <td>TV-MA</td>\n",
              "      <td>4 Seasons</td>\n",
              "      <td>International TV Shows, TV Dramas, TV Sci-Fi &amp;...</td>\n",
              "      <td>In a future where the elite inhabit an island ...</td>\n",
              "    </tr>\n",
              "    <tr>\n",
              "      <th>s2</th>\n",
              "      <td>Movie</td>\n",
              "      <td>7:19</td>\n",
              "      <td>Jorge Michel Grau</td>\n",
              "      <td>Demián Bichir, Héctor Bonilla, Oscar Serrano, ...</td>\n",
              "      <td>Mexico</td>\n",
              "      <td>December 23, 2016</td>\n",
              "      <td>2016</td>\n",
              "      <td>TV-MA</td>\n",
              "      <td>93 min</td>\n",
              "      <td>Dramas, International Movies</td>\n",
              "      <td>After a devastating earthquake hits Mexico Cit...</td>\n",
              "    </tr>\n",
              "    <tr>\n",
              "      <th>s3</th>\n",
              "      <td>Movie</td>\n",
              "      <td>23:59</td>\n",
              "      <td>Gilbert Chan</td>\n",
              "      <td>Tedd Chan, Stella Chung, Henley Hii, Lawrence ...</td>\n",
              "      <td>Singapore</td>\n",
              "      <td>December 20, 2018</td>\n",
              "      <td>2011</td>\n",
              "      <td>R</td>\n",
              "      <td>78 min</td>\n",
              "      <td>Horror Movies, International Movies</td>\n",
              "      <td>When an army recruit is found dead, his fellow...</td>\n",
              "    </tr>\n",
              "    <tr>\n",
              "      <th>s4</th>\n",
              "      <td>Movie</td>\n",
              "      <td>9</td>\n",
              "      <td>Shane Acker</td>\n",
              "      <td>Elijah Wood, John C. Reilly, Jennifer Connelly...</td>\n",
              "      <td>United States</td>\n",
              "      <td>November 16, 2017</td>\n",
              "      <td>2009</td>\n",
              "      <td>PG-13</td>\n",
              "      <td>80 min</td>\n",
              "      <td>Action &amp; Adventure, Independent Movies, Sci-Fi...</td>\n",
              "      <td>In a postapocalyptic world, rag-doll robots hi...</td>\n",
              "    </tr>\n",
              "    <tr>\n",
              "      <th>s5</th>\n",
              "      <td>Movie</td>\n",
              "      <td>21</td>\n",
              "      <td>Robert Luketic</td>\n",
              "      <td>Jim Sturgess, Kevin Spacey, Kate Bosworth, Aar...</td>\n",
              "      <td>United States</td>\n",
              "      <td>January 1, 2020</td>\n",
              "      <td>2008</td>\n",
              "      <td>PG-13</td>\n",
              "      <td>123 min</td>\n",
              "      <td>Dramas</td>\n",
              "      <td>A brilliant group of students become card-coun...</td>\n",
              "    </tr>\n",
              "  </tbody>\n",
              "</table>\n",
              "</div>\n",
              "      <button class=\"colab-df-convert\" onclick=\"convertToInteractive('df-fed6b388-69a1-4709-aa9b-e9ddc88535d1')\"\n",
              "              title=\"Convert this dataframe to an interactive table.\"\n",
              "              style=\"display:none;\">\n",
              "        \n",
              "  <svg xmlns=\"http://www.w3.org/2000/svg\" height=\"24px\"viewBox=\"0 0 24 24\"\n",
              "       width=\"24px\">\n",
              "    <path d=\"M0 0h24v24H0V0z\" fill=\"none\"/>\n",
              "    <path d=\"M18.56 5.44l.94 2.06.94-2.06 2.06-.94-2.06-.94-.94-2.06-.94 2.06-2.06.94zm-11 1L8.5 8.5l.94-2.06 2.06-.94-2.06-.94L8.5 2.5l-.94 2.06-2.06.94zm10 10l.94 2.06.94-2.06 2.06-.94-2.06-.94-.94-2.06-.94 2.06-2.06.94z\"/><path d=\"M17.41 7.96l-1.37-1.37c-.4-.4-.92-.59-1.43-.59-.52 0-1.04.2-1.43.59L10.3 9.45l-7.72 7.72c-.78.78-.78 2.05 0 2.83L4 21.41c.39.39.9.59 1.41.59.51 0 1.02-.2 1.41-.59l7.78-7.78 2.81-2.81c.8-.78.8-2.07 0-2.86zM5.41 20L4 18.59l7.72-7.72 1.47 1.35L5.41 20z\"/>\n",
              "  </svg>\n",
              "      </button>\n",
              "      \n",
              "  <style>\n",
              "    .colab-df-container {\n",
              "      display:flex;\n",
              "      flex-wrap:wrap;\n",
              "      gap: 12px;\n",
              "    }\n",
              "\n",
              "    .colab-df-convert {\n",
              "      background-color: #E8F0FE;\n",
              "      border: none;\n",
              "      border-radius: 50%;\n",
              "      cursor: pointer;\n",
              "      display: none;\n",
              "      fill: #1967D2;\n",
              "      height: 32px;\n",
              "      padding: 0 0 0 0;\n",
              "      width: 32px;\n",
              "    }\n",
              "\n",
              "    .colab-df-convert:hover {\n",
              "      background-color: #E2EBFA;\n",
              "      box-shadow: 0px 1px 2px rgba(60, 64, 67, 0.3), 0px 1px 3px 1px rgba(60, 64, 67, 0.15);\n",
              "      fill: #174EA6;\n",
              "    }\n",
              "\n",
              "    [theme=dark] .colab-df-convert {\n",
              "      background-color: #3B4455;\n",
              "      fill: #D2E3FC;\n",
              "    }\n",
              "\n",
              "    [theme=dark] .colab-df-convert:hover {\n",
              "      background-color: #434B5C;\n",
              "      box-shadow: 0px 1px 3px 1px rgba(0, 0, 0, 0.15);\n",
              "      filter: drop-shadow(0px 1px 2px rgba(0, 0, 0, 0.3));\n",
              "      fill: #FFFFFF;\n",
              "    }\n",
              "  </style>\n",
              "\n",
              "      <script>\n",
              "        const buttonEl =\n",
              "          document.querySelector('#df-fed6b388-69a1-4709-aa9b-e9ddc88535d1 button.colab-df-convert');\n",
              "        buttonEl.style.display =\n",
              "          google.colab.kernel.accessAllowed ? 'block' : 'none';\n",
              "\n",
              "        async function convertToInteractive(key) {\n",
              "          const element = document.querySelector('#df-fed6b388-69a1-4709-aa9b-e9ddc88535d1');\n",
              "          const dataTable =\n",
              "            await google.colab.kernel.invokeFunction('convertToInteractive',\n",
              "                                                     [key], {});\n",
              "          if (!dataTable) return;\n",
              "\n",
              "          const docLinkHtml = 'Like what you see? Visit the ' +\n",
              "            '<a target=\"_blank\" href=https://colab.research.google.com/notebooks/data_table.ipynb>data table notebook</a>'\n",
              "            + ' to learn more about interactive tables.';\n",
              "          element.innerHTML = '';\n",
              "          dataTable['output_type'] = 'display_data';\n",
              "          await google.colab.output.renderOutput(dataTable, element);\n",
              "          const docLink = document.createElement('div');\n",
              "          docLink.innerHTML = docLinkHtml;\n",
              "          element.appendChild(docLink);\n",
              "        }\n",
              "      </script>\n",
              "    </div>\n",
              "  </div>\n",
              "  "
            ]
          },
          "metadata": {},
          "execution_count": 4
        }
      ]
    },
    {
      "cell_type": "markdown",
      "source": [
        "### Dataset Rows & Columns count"
      ],
      "metadata": {
        "id": "7hBIi_osiCS2"
      }
    },
    {
      "cell_type": "code",
      "source": [
        "# Dataset Rows & Columns count\n",
        "# dataframe shape\n",
        "num_rows = df.shape[0]\n",
        "num_columns=df.shape[1]\n",
        "print(f\"Number of rows: {num_rows}\")\n",
        "print(f\"Number of columns:{num_columns}\")"
      ],
      "metadata": {
        "id": "Kllu7SJgmLij",
        "colab": {
          "base_uri": "https://localhost:8080/"
        },
        "outputId": "afa360ff-fd29-47d5-ef12-c140536941df"
      },
      "execution_count": 5,
      "outputs": [
        {
          "output_type": "stream",
          "name": "stdout",
          "text": [
            "Number of rows: 7787\n",
            "Number of columns:11\n"
          ]
        }
      ]
    },
    {
      "cell_type": "markdown",
      "source": [
        "### Dataset Information"
      ],
      "metadata": {
        "id": "JlHwYmJAmNHm"
      }
    },
    {
      "cell_type": "code",
      "source": [
        "# Dataset Info\n",
        "df.info()\n"
      ],
      "metadata": {
        "id": "e9hRXRi6meOf",
        "colab": {
          "base_uri": "https://localhost:8080/"
        },
        "outputId": "6509da7c-c8c2-4934-ea1a-fe34dd8e311e"
      },
      "execution_count": 6,
      "outputs": [
        {
          "output_type": "stream",
          "name": "stdout",
          "text": [
            "<class 'pandas.core.frame.DataFrame'>\n",
            "Index: 7787 entries, s1 to s7787\n",
            "Data columns (total 11 columns):\n",
            " #   Column        Non-Null Count  Dtype \n",
            "---  ------        --------------  ----- \n",
            " 0   type          7787 non-null   object\n",
            " 1   title         7787 non-null   object\n",
            " 2   director      5398 non-null   object\n",
            " 3   cast          7069 non-null   object\n",
            " 4   country       7280 non-null   object\n",
            " 5   date_added    7777 non-null   object\n",
            " 6   release_year  7787 non-null   int64 \n",
            " 7   rating        7780 non-null   object\n",
            " 8   duration      7787 non-null   object\n",
            " 9   listed_in     7787 non-null   object\n",
            " 10  description   7787 non-null   object\n",
            "dtypes: int64(1), object(10)\n",
            "memory usage: 730.0+ KB\n"
          ]
        }
      ]
    },
    {
      "cell_type": "code",
      "source": [
        "df.nunique()\n"
      ],
      "metadata": {
        "colab": {
          "base_uri": "https://localhost:8080/"
        },
        "id": "X8ZpfDnX4GdB",
        "outputId": "fd0e2767-ba9b-495a-b09e-2df08f8d1bd9"
      },
      "execution_count": 7,
      "outputs": [
        {
          "output_type": "execute_result",
          "data": {
            "text/plain": [
              "type               2\n",
              "title           7787\n",
              "director        4049\n",
              "cast            6831\n",
              "country          681\n",
              "date_added      1565\n",
              "release_year      73\n",
              "rating            14\n",
              "duration         216\n",
              "listed_in        492\n",
              "description     7769\n",
              "dtype: int64"
            ]
          },
          "metadata": {},
          "execution_count": 7
        }
      ]
    },
    {
      "cell_type": "markdown",
      "source": [
        "#### Duplicate Values"
      ],
      "metadata": {
        "id": "35m5QtbWiB9F"
      }
    },
    {
      "cell_type": "code",
      "source": [
        "# Dataset Duplicate Value Count\n",
        "df.duplicated().value_counts()"
      ],
      "metadata": {
        "id": "1sLdpKYkmox0",
        "colab": {
          "base_uri": "https://localhost:8080/"
        },
        "outputId": "01447ac9-e6bc-4318-d369-731274810e3a"
      },
      "execution_count": 8,
      "outputs": [
        {
          "output_type": "execute_result",
          "data": {
            "text/plain": [
              "False    7787\n",
              "dtype: int64"
            ]
          },
          "metadata": {},
          "execution_count": 8
        }
      ]
    },
    {
      "cell_type": "markdown",
      "source": [
        "#### Missing Values/Null Values"
      ],
      "metadata": {
        "id": "PoPl-ycgm1ru"
      }
    },
    {
      "cell_type": "code",
      "source": [
        "# Missing Values/Null Values Count\n",
        "null_value_counts = df.isnull().sum()\n",
        "print(null_value_counts)"
      ],
      "metadata": {
        "id": "GgHWkxvamxVg",
        "colab": {
          "base_uri": "https://localhost:8080/"
        },
        "outputId": "38ceae23-ca02-481e-e8b1-4f6c7e286e93"
      },
      "execution_count": 9,
      "outputs": [
        {
          "output_type": "stream",
          "name": "stdout",
          "text": [
            "type               0\n",
            "title              0\n",
            "director        2389\n",
            "cast             718\n",
            "country          507\n",
            "date_added        10\n",
            "release_year       0\n",
            "rating             7\n",
            "duration           0\n",
            "listed_in          0\n",
            "description        0\n",
            "dtype: int64\n"
          ]
        }
      ]
    },
    {
      "cell_type": "code",
      "source": [
        "# Visualizing the missing values\n",
        "plt.figure(figsize=(10,5))\n",
        "sns.heatmap(df.isnull(), cbar=False)"
      ],
      "metadata": {
        "id": "3q5wnI3om9sJ",
        "colab": {
          "base_uri": "https://localhost:8080/",
          "height": 557
        },
        "outputId": "cdbb0fa1-4f70-4fc9-f59a-376462979d89"
      },
      "execution_count": 10,
      "outputs": [
        {
          "output_type": "execute_result",
          "data": {
            "text/plain": [
              "<Axes: ylabel='show_id'>"
            ]
          },
          "metadata": {},
          "execution_count": 10
        },
        {
          "output_type": "display_data",
          "data": {
            "text/plain": [
              "<Figure size 1000x500 with 1 Axes>"
            ],
            "image/png": "[encoded data removed]"
          },
          "metadata": {}
        }
      ]
    },
    {
      "cell_type": "markdown",
      "source": [
        "### What did you know about your dataset?"
      ],
      "metadata": {
        "id": "H0kj-8xxnORC"
      }
    },
    {
      "cell_type": "markdown",
      "source": [
        "This dataset consists of tv shows and movies available on Netflix as of 2019. In 2018, they released an interesting report which shows that the number of TV shows on Netflix has nearly tripled since 2010. The streaming service’s number of movies has decreased by more than 2,000 titles since 2010, while its number of TV shows has nearly tripled. It will be interesting to explore what all other insights can be obtained from the same dataset.There are about 7787 row and 11 coulmns in the dataset.The various fields are show_id , type,title, director,cast, country , date_added,release_year,rating, duration,listed_in, description.Main libraries used are pandas for data manipulation and aggregation.Matplotlib and seaborn for visualization and behaviour with respect to target variable.And Numpy for computationaly efficient operations."
      ],
      "metadata": {
        "id": "gfoNAAC-nUe_"
      }
    },
    {
      "cell_type": "markdown",
      "source": [
        "## ***2. Understanding Your Variables***"
      ],
      "metadata": {
        "id": "nA9Y7ga8ng1Z"
      }
    },
    {
      "cell_type": "code",
      "source": [
        "# Dataset Columns\n",
        "# Check Unique Values for each variable.\n",
        "for column in df.columns:\n",
        "  #Get unique values for the current columns\n",
        "  unique_values=df[column].unique()\n",
        "  print(f\"Unique values for column'{column}:\")\n",
        "  print(unique_values)"
      ],
      "metadata": {
        "id": "j7xfkqrt5Ag5",
        "colab": {
          "base_uri": "https://localhost:8080/"
        },
        "outputId": "25c57129-04a4-4cf3-cf55-d3064cbae4e9"
      },
      "execution_count": 11,
      "outputs": [
        {
          "output_type": "stream",
          "name": "stdout",
          "text": [
            "Unique values for column'type:\n",
            "['TV Show' 'Movie']\n",
            "Unique values for column'title:\n",
            "['3%' '7:19' '23:59' ... 'Zulu Man in Japan' \"Zumbo's Just Desserts\"\n",
            " \"ZZ TOP: THAT LITTLE OL' BAND FROM TEXAS\"]\n",
            "Unique values for column'director:\n",
            "[nan 'Jorge Michel Grau' 'Gilbert Chan' ... 'Josef Fares' 'Mozez Singh'\n",
            " 'Sam Dunn']\n",
            "Unique values for column'cast:\n",
            "['João Miguel, Bianca Comparato, Michel Gomes, Rodolfo Valente, Vaneza Oliveira, Rafael Lozano, Viviane Porto, Mel Fronckowiak, Sergio Mamberti, Zezé Motta, Celso Frateschi'\n",
            " 'Demián Bichir, Héctor Bonilla, Oscar Serrano, Azalia Ortiz, Octavio Michel, Carmen Beato'\n",
            " 'Tedd Chan, Stella Chung, Henley Hii, Lawrence Koh, Tommy Kuan, Josh Lai, Mark Lee, Susan Leong, Benjamin Lim'\n",
            " ...\n",
            " 'Vicky Kaushal, Sarah-Jane Dias, Raaghav Chanana, Manish Chaudhary, Meghna Malik, Malkeet Rauni, Anita Shabdish, Chittaranjan Tripathy'\n",
            " 'Nasty C' 'Adriano Zumbo, Rachel Khoo']\n",
            "Unique values for column'country:\n",
            "['Brazil' 'Mexico' 'Singapore' 'United States' 'Turkey' 'Egypt' 'India'\n",
            " 'Poland, United States' 'Thailand' 'Nigeria' nan\n",
            " 'Norway, Iceland, United States' 'United Kingdom' 'Japan' 'South Korea'\n",
            " 'Italy' 'Canada' 'Indonesia' 'Romania' 'Spain' 'Iceland'\n",
            " 'South Africa, Nigeria' 'France' 'United States, South Africa'\n",
            " 'Portugal, Spain' 'Hong Kong, China, Singapore' 'United States, Germany'\n",
            " 'South Africa, China, United States' 'Argentina'\n",
            " 'United States, France, Serbia' 'Germany' 'Denmark, France, Poland'\n",
            " 'Poland' 'Kenya' 'New Zealand, United Kingdom' 'Pakistan' 'Australia'\n",
            " 'Australia, United States' 'Mexico, United States' 'United States, China'\n",
            " 'China, Hong Kong' 'Taiwan' 'United States, United Kingdom'\n",
            " 'France, South Korea, Japan' 'United States, Canada'\n",
            " 'United Kingdom, United States' 'Netherlands, Denmark, South Africa'\n",
            " 'Canada, United States' 'Denmark' 'Hong Kong'\n",
            " 'France, Netherlands, Singapore' 'China' 'Philippines'\n",
            " 'United Kingdom, Spain, United States'\n",
            " 'United Arab Emirates, United States' 'Netherlands'\n",
            " 'United Kingdom, Hong Kong' 'Iran, France'\n",
            " 'United States, United Kingdom, France'\n",
            " 'United Kingdom, France, Belgium, United States, China'\n",
            " 'Argentina, Brazil, France, Poland, Germany, Denmark'\n",
            " 'Israel, United States' 'United States, Mexico'\n",
            " 'Uruguay, Argentina, Spain' 'Singapore, France'\n",
            " 'United Kingdom, United States, France, Germany' 'Turkey, United States'\n",
            " 'Bulgaria, United States' 'Australia, France'\n",
            " 'Hong Kong, Iceland, United States' 'United Arab Emirates'\n",
            " 'United States, Chile' 'Germany, France, Russia'\n",
            " 'Mauritius, South Africa' 'United States, Japan' 'Lebanon'\n",
            " 'United States, Bulgaria' 'Colombia' 'Uruguay, Argentina'\n",
            " 'Egypt, Algeria' 'France, Egypt' 'Uruguay' 'Soviet Union, India'\n",
            " 'Sweden, United States' 'South Africa' 'Malaysia'\n",
            " 'Ireland, United Kingdom, United States' 'Spain, Italy'\n",
            " 'United Kingdom, France, Germany' 'United States, Germany, Canada'\n",
            " 'United States, India' 'Japan, United States' 'Denmark, United States'\n",
            " 'South Africa, United States' 'Canada, Luxembourg'\n",
            " 'Serbia, United States' 'Canada, Nigeria' 'Iceland, Sweden, Belgium'\n",
            " 'Ireland, Canada' 'United States, Italy' 'Finland' 'India, Germany'\n",
            " 'China, Spain, South Korea, United States' 'Spain, Belgium'\n",
            " 'United Kingdom, Canada, United States, Germany'\n",
            " 'Brazil, Netherlands, United States, Colombia, Austria, Germany'\n",
            " 'France, Canada, Belgium'\n",
            " 'India, United Kingdom, China, Canada, Japan, South Korea, United States'\n",
            " 'France, Belgium' 'Indonesia, South Korea, Singapore' 'Norway' 'Peru'\n",
            " 'France, Senegal, Belgium' 'Canada, France' 'Chile'\n",
            " 'Romania, France, Switzerland, Germany'\n",
            " 'Bulgaria, United States, Spain, Canada' 'Sweden, Netherlands' 'Ghana'\n",
            " 'France, United States, Mexico'\n",
            " 'Australia, United Kingdom, United Arab Emirates, Canada'\n",
            " 'Singapore, United States' 'Japan, Canada, United States' 'Saudi Arabia'\n",
            " 'Australia, Armenia, Japan, Jordan, Mexico, Mongolia, New Zealand, Philippines, South Africa, Sweden, United States, Uruguay'\n",
            " 'United States, France' 'Norway, Denmark, Netherlands, Sweden' 'Namibia'\n",
            " 'Mexico, Finland' 'United States, Australia' 'Russia' 'Australia, Canada'\n",
            " 'United Kingdom, Ireland' 'Belgium, France' 'New Zealand'\n",
            " 'Uruguay, Spain, Mexico' 'South Korea, China'\n",
            " 'United States, Canada, Indonesia, United Kingdom, China, Singapore'\n",
            " 'India, Iran' 'United States, France, Japan' 'United Kingdom, France'\n",
            " 'Turkey, India' 'Philippines, Qatar' 'Vietnam'\n",
            " 'Ireland, Luxembourg, Belgium'\n",
            " 'Saudi Arabia, Syria, Egypt, Lebanon, Kuwait' 'Russia, United States'\n",
            " 'United Kingdom, Russia, United States' 'Argentina, Spain'\n",
            " 'Germany, Jordan, Netherlands' 'Hong Kong, China'\n",
            " 'Argentina, United States' 'France, Belgium, Spain'\n",
            " 'Germany, United States' 'Denmark, Sweden, Israel, United States'\n",
            " 'Ireland, United Kingdom' 'United States, Iceland'\n",
            " 'United Arab Emirates, United Kingdom, India' 'Sweden'\n",
            " 'Norway, Germany, Sweden' 'Finland, France' 'Denmark, Spain'\n",
            " 'United Kingdom, Russia' 'United States, United Kingdom, Australia'\n",
            " 'India, United Kingdom' 'United States, Canada, Ireland'\n",
            " 'Canada, United Kingdom' 'United States, Israel, Italy, South Africa'\n",
            " 'India, United States' 'United Kingdom, China' 'Indonesia, Singapore'\n",
            " 'Netherlands, Denmark, France, Germany' 'South Korea, Japan'\n",
            " 'Philippines, Canada, United Kingdom, United States'\n",
            " 'France, Malta, United States' 'Kuwait' 'United Kingdom, Pakistan'\n",
            " 'Ireland' 'France, New Zealand'\n",
            " 'United Kingdom, United States, Australia'\n",
            " 'United Kingdom, Czech Republic, United States, Germany, Bahamas'\n",
            " 'United States, Australia, China' 'China, Germany, India, United States'\n",
            " 'Germany, Sri Lanka' 'United States, Sweden'\n",
            " 'Canada, United States, Cayman Islands' 'India, France'\n",
            " 'United Kingdom, Canada' 'United States, India, Bangladesh'\n",
            " 'United States, Canada, France' 'Taiwan, China, France, United States'\n",
            " 'Brazil, France, Germany' 'United States,'\n",
            " 'Turkey, France, Germany, Poland' 'Australia, New Zealand, United States'\n",
            " 'Germany, United States, Hong Kong, Singapore'\n",
            " 'France, Germany, Switzerland' 'Mexico, Argentina'\n",
            " 'Italy, United States, Argentina'\n",
            " 'Germany, France, Luxembourg, United Kingdom, United States'\n",
            " 'Canada, United States, United Kingdom' 'United Kingdom, Canada, Italy'\n",
            " 'Czech Republic, France' 'Zimbabwe'\n",
            " 'United Kingdom, France, Germany, Spain'\n",
            " 'Taiwan, Hong Kong, United States, China' 'China, United States'\n",
            " 'Canada, Brazil' 'United Kingdom, Australia' 'Hungary'\n",
            " 'Germany, Australia' 'United Kingdom, Poland, United States' 'Bulgaria'\n",
            " 'Philippines, United States' 'Finland, Germany' 'United States, Thailand'\n",
            " 'Spain, Belgium, Switzerland, United States, China, United Kingdom'\n",
            " 'Denmark, Zimbabwe' 'United Kingdom, South Africa'\n",
            " 'Finland, Sweden, Norway, Latvia, Germany' 'United Kingdom, India'\n",
            " 'South Africa, United States, New Zealand, Canada' 'France, Qatar'\n",
            " 'France, Algeria' 'United States, Italy, United Kingdom, Liechtenstein'\n",
            " 'Denmark, France, Belgium, Italy, Netherlands, United States, United Kingdom'\n",
            " 'United States, Australia, Mexico'\n",
            " 'United Kingdom, Czech Republic, Germany, United States'\n",
            " 'Russia, Poland, Serbia' 'France, China, Japan, United States'\n",
            " 'United States, South Korea, China' 'Germany, Belgium' 'Chile, Argentina'\n",
            " 'China, United States, United Kingdom' 'Pakistan, Norway, United States'\n",
            " 'United Kingdom, Japan, United States' 'Philippines, Singapore'\n",
            " 'United States, Canada, Belgium, United Kingdom' 'Venezuela'\n",
            " 'Argentina, Uruguay, Serbia' 'United States, Mexico, Colombia'\n",
            " 'Colombia, Peru, United Kingdom' 'Brazil, United States'\n",
            " 'Czech Republic, United States'\n",
            " 'Canada, France, Italy, Morocco, United States' 'Canada, Spain, France'\n",
            " 'Hong Kong, United States' 'France, Canada, China, Cambodia'\n",
            " 'United States, Indonesia' 'Spain, France' 'Spain, Mexico, France'\n",
            " 'Spain, France, Italy' 'Spain, France, United States'\n",
            " 'United States, France, Canada' 'Israel' 'Italy, France'\n",
            " 'United Kingdom, Canada, United States' 'Cambodia, United States'\n",
            " 'China, Japan' 'United Arab Emirates, United States, United Kingdom'\n",
            " 'Argentina, Italy' 'United Kingdom, Israel, Russia'\n",
            " 'Italy, Switzerland, Albania, Poland' 'Spain, Cuba'\n",
            " 'United States, Brazil' 'United States, France, Mexico'\n",
            " 'United States, Nicaragua' 'Austria, Germany'\n",
            " 'United Arab Emirates, Jordan, Lebanon'\n",
            " 'France, United Kingdom, United States'\n",
            " 'United Kingdom, United States, Spain, Germany, Greece, Canada'\n",
            " 'France, Belgium, Luxembourg, Cambodia,' 'Italy, Turkey' 'Brazil, France'\n",
            " 'India, Turkey' 'Kenya, United States' 'United States, South Korea'\n",
            " 'South Korea, United States' 'Italy, Canada, France'\n",
            " 'Thailand, United States' 'United Kingdom, Denmark, Canada, Croatia'\n",
            " 'Netherlands, Belgium'\n",
            " 'United Kingdom, Canada, United States, Cayman Islands' 'Italy, Germany'\n",
            " 'United States, France, United Kingdom, Japan'\n",
            " 'United States, United Kingdom, Denmark, Sweden'\n",
            " 'United States, United Kingdom, Italy'\n",
            " 'United States, France, Canada, Spain' 'Uruguay, Guatemala'\n",
            " 'Germany, Australia, France, China'\n",
            " 'United States, United Kingdom, Japan'\n",
            " 'United States, United Kingdom, Canada'\n",
            " 'Italy, Switzerland, France, Germany' 'Russia, United States, China'\n",
            " 'United States, Canada, Germany' 'United States, Czech Republic'\n",
            " 'Ireland, United States' 'United States, United Arab Emirates'\n",
            " 'France, Australia, Germany' 'Hong Kong, China, United States'\n",
            " 'Lebanon, United Arab Emirates, France, Switzerland, Germany'\n",
            " 'United States, South Korea, Japan' 'Romania, United States'\n",
            " 'West Germany' 'United States, Ireland' 'Chile, Italy'\n",
            " 'Ireland, United Kingdom, Italy, United States' 'Belgium' 'Poland,'\n",
            " 'Slovenia, Croatia, Germany, Czech Republic, Qatar'\n",
            " 'Canada, United Kingdom, Netherlands'\n",
            " 'United Kingdom, United States, France' 'Indonesia, United Kingdom'\n",
            " 'United States, Spain, Germany' 'India, Japan'\n",
            " 'Switzerland, France, Belgium, United States'\n",
            " 'China, South Korea, United States' 'United Kingdom, France, Belgium'\n",
            " 'Canada, Ireland, United States'\n",
            " 'United Kingdom, United States, Dominican Republic'\n",
            " 'United States, Senegal' 'Germany, United Kingdom, United States'\n",
            " 'United States, Canada, United Kingdom' 'Canada, United States, France'\n",
            " 'United Kingdom, Germany, Canada' 'Argentina, France'\n",
            " 'South Africa, Germany, Netherlands, France'\n",
            " 'Canada, United States, United Kingdom, France, Luxembourg'\n",
            " 'Finland, Germany, Belgium' 'United States, United Kingdom, Germany'\n",
            " 'Taiwan, China' 'Cambodia' 'Spain, Portugal'\n",
            " 'Ireland, United States, France' 'Jordan' 'Austria'\n",
            " 'Germany, United States, Canada'\n",
            " 'United Kingdom, Germany, Canada, United States'\n",
            " 'United States, France, Canada, Lebanon, Qatar' 'Indonesia, Netherlands'\n",
            " 'Netherlands, Belgium, United Kingdom, United States'\n",
            " 'China, United States, Australia' 'France, Belgium, China, United States'\n",
            " 'Spain, United Kingdom' 'United States, Chile, Israel' 'Bangladesh'\n",
            " 'United Kingdom, Norway, Denmark, Germany, Sweden'\n",
            " 'United States, Japan, Canada' 'Norway, Denmark, Sweden'\n",
            " 'China, India, Nepal' 'United States, Argentina'\n",
            " 'Mexico, United States, Spain, Colombia'\n",
            " 'Colombia, Mexico, United States' 'United Kingdom, Belgium, Sweden'\n",
            " 'Nigeria, United Kingdom' 'United Kingdom, South Korea'\n",
            " 'United States, Taiwan' 'Netherlands, Belgium, Germany, Jordan'\n",
            " 'France, Canada' 'United Kingdom, France, United States'\n",
            " 'Denmark, Singapore, Canada, United States' 'Denmark, China'\n",
            " 'Malaysia, Singapore, Hong Kong' 'Norway, United States'\n",
            " 'United States, Philippines' 'United States, Greece, Brazil'\n",
            " 'France, United States' 'South Korea, France'\n",
            " 'United States, Australia, Samoa, United Kingdom' 'Canada, South Africa'\n",
            " 'United Kingdom, Italy' 'Germany, United Kingdom' 'China, United Kingdom'\n",
            " 'Argentina, Chile, Peru' 'United States, Russia' 'Uruguay, Germany'\n",
            " 'Turkey, Azerbaijan' 'United States, China, Hong Kong'\n",
            " 'Canada, Germany, France, United States'\n",
            " 'Argentina, United States, Mexico' 'France, United Kingdom, India'\n",
            " 'China, Taiwan' 'Italy, United Kingdom, France' 'Poland, West Germany'\n",
            " 'Germany, United States, Sweden' 'Canada, Spain'\n",
            " 'United Kingdom, France, Belgium, United States' 'France, Japan'\n",
            " 'Netherlands, Germany, Italy, Canada' 'United States, Cambodia'\n",
            " 'United States, Greece' 'United States, China, Colombia'\n",
            " 'United States, Spain, Italy' 'Norway, United Kingdom, France, Ireland'\n",
            " 'United States, Bermuda, Ecuador' 'United Kingdom, Poland'\n",
            " 'China, Canada, United States' 'United States, Spain' 'India, Mexico'\n",
            " 'United Kingdom, West Germany' 'Pakistan, United States'\n",
            " 'Israel, Sweden, Germany, Netherlands' 'Chile, United States, France'\n",
            " 'France, Morocco' 'United Kingdom, Germany' 'Georgia, Germany, France'\n",
            " 'Switzerland, France' 'Turkey, South Korea' 'Italy, India'\n",
            " 'United States, Botswana' 'United States, Colombia, Mexico'\n",
            " 'Chile, Argentina, France, Spain, United States'\n",
            " 'Puerto Rico, United States, Colombia' 'United States, Nigeria'\n",
            " 'Germany, United States, France' 'Spain, Germany, Denmark, United States'\n",
            " 'United Kingdom, United States, Japan' 'Netherlands, United States'\n",
            " 'United States, India, South Korea, China'\n",
            " 'Denmark, Germany, Belgium, United Kingdom, France'\n",
            " 'Denmark, Germany, Belgium, United Kingdom, France, Sweden'\n",
            " 'France, Switzerland, Spain, United States, United Arab Emirates'\n",
            " 'Norway, Sweden' 'United States, Ireland, United Kingdom, India'\n",
            " 'United Kingdom, Singapore' 'Spain, Germany' 'Germany, Czech Republic'\n",
            " 'Denmark, Brazil, France, Portugal, Sweden'\n",
            " 'Brazil, India, China, United States' 'India, Germany, Austria'\n",
            " 'Italy, United States' 'Denmark, France, United States, Sweden'\n",
            " 'Australia, Iraq' 'China, Morocco, Hong Kong' 'Spain, Colombia'\n",
            " 'Australia, United Arab Emirates' 'Canada, United States, Germany'\n",
            " 'France, Belgium, Italy' 'United Kingdom, Thailand' 'Venezuela, Colombia'\n",
            " 'France, Luxembourg, Canada' 'India, Nepal' 'Mexico, Spain'\n",
            " 'Colombia, United States' 'Colombia, Mexico'\n",
            " 'France, Germany, Czech Republic, Belgium'\n",
            " 'Germany, China, United Kingdom' 'Canada, Hungary, United States'\n",
            " 'Pakistan, United Arab Emirates' 'France, United Kingdom'\n",
            " 'Spain, United Kingdom, United States' 'United Kingdom, Kenya'\n",
            " 'United States, Norway, Canada' 'Canada, United States, Ireland'\n",
            " 'Switzerland, Vatican City, Italy, Germany, France'\n",
            " 'Portugal, France, Poland, United States' 'France, Japan, United States'\n",
            " 'United States, New Zealand' 'United States, New Zealand, Japan'\n",
            " 'United States, Netherlands, Japan, France' 'India, Switzerland'\n",
            " 'Canada, India' 'Canada, Japan, United States' 'United States, Morocco'\n",
            " 'United States, Mexico, Spain, Malta' 'Norway, Denmark'\n",
            " 'South Korea, Canada, United States, China' 'Singapore, Japan, France'\n",
            " 'Canada, Mexico, Germany, South Africa'\n",
            " 'United Kingdom, United States, Canada'\n",
            " 'Germany, France, United States, Canada, United Kingdom'\n",
            " 'Peru, Germany, Norway' 'Singapore, Malaysia' 'United States, Uruguay'\n",
            " 'India, Canada' 'Ireland, Canada, United Kingdom, United States'\n",
            " 'United States, Germany, Australia' 'Senegal' 'Israel, Germany, France'\n",
            " 'Australia, France, Ireland' 'South Africa, Angola'\n",
            " 'Austria, Czech Republic' 'Australia, India'\n",
            " 'United States, United Kingdom, Canada, Japan'\n",
            " 'Sweden, United Kingdom, Finland' 'Hong Kong, Taiwan'\n",
            " 'United States, United Kingdom, Spain, South Korea'\n",
            " 'South Korea, China, United States' 'Guatemala' 'Ukraine'\n",
            " 'United States, United Kingdom, Canada, China'\n",
            " 'Italy, South Africa, West Germany, Australia, United States'\n",
            " 'United Kingdom, Finland, Germany' 'South Africa, United States, Germany'\n",
            " 'United States, Germany, United Kingdom, Australia' 'India, Soviet Union'\n",
            " 'Italy, France, Switzerland' 'Canada, France, United States'\n",
            " 'United States, Colombia' 'India, Malaysia' 'Switzerland, United States'\n",
            " 'Thailand, Canada, United States' 'China, Hong Kong, United States'\n",
            " 'United Kingdom, New Zealand'\n",
            " 'United Kingdom, France, Germany, United States'\n",
            " 'South Korea, Czech Republic' 'Czech Republic, United Kingdom, France'\n",
            " 'Australia, United Kingdom, Canada'\n",
            " 'Canada, United Kingdom, United States' 'United States, Hungary'\n",
            " 'Jamaica, United States' 'Switzerland'\n",
            " 'Australia, United Kingdom, United States, New Zealand, Italy, France'\n",
            " 'France, United States, Canada' 'Australia, United Kingdom'\n",
            " 'United States, Denmark'\n",
            " 'United Kingdom, France, Canada, Belgium, United States'\n",
            " 'Denmark, United Kingdom, Sweden' 'Belarus' 'Cyprus'\n",
            " 'Lebanon, United States, United Arab Emirates' 'United States, Hong Kong'\n",
            " 'United States, Kazakhstan'\n",
            " 'Argentina, France, United States, Germany, Qatar'\n",
            " 'United States, Germany, United Kingdom'\n",
            " 'United States, Germany, United Kingdom, Italy'\n",
            " 'United States, New Zealand, United Kingdom' 'Finland, United States'\n",
            " 'Spain, France, Uruguay' 'France, Belgium, United States'\n",
            " 'France, Canada, United States' 'Spain, Argentina'\n",
            " 'United Kingdom, India, United States' 'Chile, France'\n",
            " 'United States, United Kingdom, France, Germany, Japan' 'Canada, Norway'\n",
            " 'United States, Hungary, Ireland, Canada' 'United States, Canada, China'\n",
            " 'United Kingdom, Malawi'\n",
            " 'Ireland, Canada, Luxembourg, United States, United Kingdom, Philippines, India'\n",
            " 'United States, Czech Republic, United Kingdom' 'Ghana, United States'\n",
            " 'Israel, Germany' 'Spain, Mexico' 'Mexico, France'\n",
            " 'Brazil, United Kingdom'\n",
            " 'France, Belgium, Luxembourg, Romania, Canada, United States'\n",
            " 'Israel, Germany, Poland, Luxembourg, Belgium, France, United States'\n",
            " 'France, Germany' 'United States, Malta, France, United Kingdom'\n",
            " 'United Kingdom, United States, Germany, Denmark, Belgium, Japan'\n",
            " 'Austria, United States' 'Canada, Australia' 'Greece, United States'\n",
            " 'United Kingdom, France, Belgium, Canada, United States'\n",
            " 'Argentina, Chile' 'Czech Republic, Slovakia'\n",
            " 'United Kingdom, Germany, United States, France'\n",
            " 'United Kingdom, Lithuania' 'Egypt, France' 'Spain, France, Canada'\n",
            " 'United States, Greece, United Kingdom'\n",
            " 'United Kingdom, China, United States, India' 'Taiwan, Malaysia'\n",
            " 'United States, Sweden, Norway' 'United Kingdom, United States, Morocco'\n",
            " 'United States, United Kingdom, Morocco' 'United States, China, Canada'\n",
            " 'Spain, Canada, United States' 'Canada, Belgium'\n",
            " 'United States, India, United Arab Emirates'\n",
            " 'United Kingdom, Canada, France, United States'\n",
            " 'Spain, Thailand, United States' 'Canada, Germany, South Africa'\n",
            " 'India, Germany, France' 'United States, Israel, United Kingdom, Canada'\n",
            " 'United Kingdom, Hungary, Australia' 'Lebanon, France'\n",
            " 'Belgium, Ireland, Netherlands, Germany, Afghanistan' 'Chile, Peru'\n",
            " 'Paraguay, Argentina'\n",
            " 'United Kingdom, Italy, Israel, Peru, United States' 'Norway, Germany'\n",
            " 'France, Canada, Italy, United States, China'\n",
            " 'Netherlands, Germany, Denmark, United Kingdom' 'France, Lebanon'\n",
            " 'Ireland, United Kingdom, Greece, France, Netherlands'\n",
            " 'Denmark, Indonesia, Finland, Norway, United Kingdom, Israel, France, United States, Germany, Netherlands'\n",
            " 'New Zealand, United States' 'Argentina, Uruguay, Spain, France'\n",
            " 'United Kingdom, Germany, United States'\n",
            " 'United States, Australia, South Africa, United Kingdom' 'Italy, Belgium'\n",
            " 'United States, Germany, Mexico' 'Chile, Spain, Argentina, Germany'\n",
            " 'Germany, Italy' 'United Kingdom, Nigeria'\n",
            " 'Belgium, United Kingdom, United States' 'Australia, New Zealand'\n",
            " 'Spain, Switzerland' 'Indonesia, United States'\n",
            " 'Canada, South Korea, United States' 'France, Iran, United States'\n",
            " 'Croatia' 'Somalia, Kenya, Sudan, South Africa, United States'\n",
            " 'Ireland, France, Iceland, United States, Mexico, Belgium, United Kingdom, Hong Kong'\n",
            " 'Spain, United States' 'United States, Canada, Japan, Panama'\n",
            " 'United Kingdom, Spain, Belgium' 'Serbia, South Korea, Slovenia'\n",
            " 'Denmark, United Kingdom, South Africa, Sweden, Belgium'\n",
            " 'Germany, Canada, United States' 'Ireland, South Africa'\n",
            " 'Canada, Germany' 'Spain, France, Canada, United States'\n",
            " 'India, United Kingdom, Canada, United States'\n",
            " 'United States, Belgium, Canada' 'United States, France, Canada, Belgium'\n",
            " 'United Kingdom, Egypt, United States'\n",
            " 'United Kingdom, Germany, United Arab Emirates, New Zealand'\n",
            " 'United Kingdom, France, United States, Belgium, Luxembourg, China, Germany'\n",
            " 'United Kingdom, Spain, United States, Germany'\n",
            " 'United States, France, Italy, United Kingdom' 'Georgia'\n",
            " 'United States, United Kingdom, India'\n",
            " 'Ireland, Canada, United States, United Kingdom'\n",
            " 'New Zealand, United Kingdom, Australia' 'United States, Poland'\n",
            " 'United Arab Emirates, Romania'\n",
            " 'United Kingdom, Australia, Canada, United States' 'Mexico, Netherlands'\n",
            " 'Spain, Italy, Argentina' 'Germany, United States, Italy'\n",
            " 'United States, Venezuela' 'United Kingdom, Canada, Japan'\n",
            " 'Canada, Japan, Netherlands'\n",
            " 'United Kingdom, United States, Czech Republic'\n",
            " 'United Kingdom, China, United States' 'United Kingdom, Brazil, Germany'\n",
            " 'Thailand, China, United States'\n",
            " 'United Kingdom, Namibia, South Africa, Zimbabwe, United States'\n",
            " 'United Kingdom, South Africa, Australia, United States'\n",
            " 'Canada, United States, India, United Kingdom'\n",
            " 'United States, Brazil, South Korea, Mexico, Japan, Germany'\n",
            " 'France, Lebanon, United Kingdom' 'United Kingdom, Jordan, Qatar, Iran'\n",
            " 'Switzerland, United Kingdom, United States' 'Belgium, Netherlands'\n",
            " 'United Kingdom, Germany, France, United States'\n",
            " 'Romania, United Kingdom' 'Lebanon, Qatar'\n",
            " 'United Kingdom, India, Sweden' 'United Kingdom, Belgium'\n",
            " 'India, Pakistan' 'United Kingdom,'\n",
            " 'Saudi Arabia, Netherlands, Germany, Jordan, United Arab Emirates, United States'\n",
            " 'France, Brazil, Spain, Belgium'\n",
            " 'United States, Brazil, India, Uganda, China'\n",
            " 'United Kingdom, Ireland, United States' 'Lebanon, Canada, France'\n",
            " 'India, Australia' 'Austria, Iraq, United States'\n",
            " 'France, Norway, Lebanon, Belgium'\n",
            " 'United Kingdom, France, United States, Belgium'\n",
            " 'Saudi Arabia, United Arab Emirates'\n",
            " 'Peru, United States, United Kingdom'\n",
            " 'Germany, United States, United Kingdom, Canada'\n",
            " 'Uruguay, Argentina, Germany, Spain' 'France, Luxembourg, United States'\n",
            " 'United Kingdom, Spain'\n",
            " 'Canada, India, Thailand, United States, United Arab Emirates'\n",
            " 'Romania, Bulgaria, Hungary' 'United States, East Germany, West Germany'\n",
            " 'France, Netherlands, South Africa, Finland'\n",
            " 'United Kingdom, Ukraine, United States' 'Egypt, Austria, United States'\n",
            " 'Russia, Spain' 'Croatia, Slovenia, Serbia, Montenegro' 'Japan, Canada'\n",
            " 'United States, France, South Korea, Indonesia'\n",
            " 'United Arab Emirates, Jordan'\n",
            " 'Sweden, Czech Republic, United Kingdom, Denmark, Netherlands']\n",
            "Unique values for column'date_added:\n",
            "['August 14, 2020' 'December 23, 2016' 'December 20, 2018' ...\n",
            " 'December 6, 2018' 'March 9, 2016' 'January 11, 2020']\n",
            "Unique values for column'release_year:\n",
            "[2020 2016 2011 2009 2008 2019 1997 2017 2018 2014 2015 2010 2005 2013\n",
            " 2012 2006 2000 2003 1989 2004 1977 1971 1993 2007 1998 1988 1996 2002\n",
            " 1986 1990 1979 1980 1974 2001 1999 1966 1991 1982 1994 1995 1978 1992\n",
            " 1972 1975 2021 1973 1967 1960 1981 1958 1976 1968 1956 1985 1965 1984\n",
            " 1983 1987 1945 1946 1962 1925 1942 1969 1955 1963 1964 1954 1970 1944\n",
            " 1947 1959 1943]\n",
            "Unique values for column'rating:\n",
            "['TV-MA' 'R' 'PG-13' 'TV-14' 'TV-PG' 'NR' 'TV-G' 'TV-Y' nan 'TV-Y7' 'PG'\n",
            " 'G' 'NC-17' 'TV-Y7-FV' 'UR']\n",
            "Unique values for column'duration:\n",
            "['4 Seasons' '93 min' '78 min' '80 min' '123 min' '1 Season' '95 min'\n",
            " '119 min' '118 min' '143 min' '103 min' '89 min' '91 min' '149 min'\n",
            " '144 min' '124 min' '87 min' '110 min' '128 min' '117 min' '100 min'\n",
            " '2 Seasons' '84 min' '99 min' '90 min' '102 min' '104 min' '105 min'\n",
            " '56 min' '125 min' '81 min' '97 min' '106 min' '107 min' '109 min'\n",
            " '44 min' '75 min' '101 min' '3 Seasons' '37 min' '113 min' '114 min'\n",
            " '130 min' '94 min' '140 min' '135 min' '82 min' '70 min' '121 min'\n",
            " '92 min' '164 min' '53 min' '83 min' '116 min' '86 min' '120 min'\n",
            " '96 min' '126 min' '129 min' '77 min' '137 min' '148 min' '28 min'\n",
            " '122 min' '176 min' '85 min' '22 min' '68 min' '111 min' '29 min'\n",
            " '142 min' '168 min' '21 min' '59 min' '20 min' '98 min' '108 min'\n",
            " '76 min' '26 min' '156 min' '30 min' '57 min' '150 min' '133 min'\n",
            " '115 min' '154 min' '127 min' '146 min' '136 min' '88 min' '131 min'\n",
            " '24 min' '112 min' '74 min' '63 min' '38 min' '25 min' '174 min' '60 min'\n",
            " '153 min' '158 min' '151 min' '162 min' '54 min' '51 min' '69 min'\n",
            " '64 min' '147 min' '42 min' '79 min' '5 Seasons' '40 min' '45 min'\n",
            " '172 min' '10 min' '163 min' '9 Seasons' '55 min' '72 min' '61 min'\n",
            " '71 min' '160 min' '171 min' '48 min' '139 min' '157 min' '15 min'\n",
            " '65 min' '134 min' '161 min' '62 min' '8 Seasons' '186 min' '49 min'\n",
            " '73 min' '58 min' '165 min' '166 min' '138 min' '159 min' '141 min'\n",
            " '132 min' '52 min' '67 min' '34 min' '66 min' '312 min' '180 min'\n",
            " '47 min' '6 Seasons' '155 min' '14 min' '177 min' '11 min' '9 min'\n",
            " '46 min' '145 min' '11 Seasons' '7 Seasons' '13 Seasons' '8 min' '12 min'\n",
            " '12 Seasons' '10 Seasons' '43 min' '50 min' '23 min' '185 min' '200 min'\n",
            " '169 min' '27 min' '170 min' '196 min' '33 min' '181 min' '204 min'\n",
            " '32 min' '35 min' '167 min' '16 Seasons' '179 min' '193 min' '13 min'\n",
            " '214 min' '17 min' '173 min' '192 min' '209 min' '187 min' '41 min'\n",
            " '182 min' '224 min' '233 min' '189 min' '152 min' '19 min' '15 Seasons'\n",
            " '208 min' '237 min' '31 min' '178 min' '230 min' '194 min' '228 min'\n",
            " '195 min' '3 min' '16 min' '5 min' '18 min' '205 min' '190 min' '36 min'\n",
            " '201 min' '253 min' '203 min' '191 min']\n",
            "Unique values for column'listed_in:\n",
            "['International TV Shows, TV Dramas, TV Sci-Fi & Fantasy'\n",
            " 'Dramas, International Movies' 'Horror Movies, International Movies'\n",
            " 'Action & Adventure, Independent Movies, Sci-Fi & Fantasy' 'Dramas'\n",
            " 'International TV Shows, TV Dramas, TV Mysteries'\n",
            " 'Horror Movies, International Movies, Thrillers' 'Dramas, Thrillers'\n",
            " 'Crime TV Shows, International TV Shows, TV Dramas'\n",
            " 'Crime TV Shows, Docuseries, International TV Shows'\n",
            " 'Documentaries, International Movies, Sports Movies'\n",
            " 'Independent Movies, Sci-Fi & Fantasy, Thrillers'\n",
            " 'Dramas, International Movies, Thrillers'\n",
            " 'International TV Shows, TV Dramas'\n",
            " 'Comedies, Dramas, Independent Movies' 'Sports Movies'\n",
            " 'Dramas, Independent Movies, International Movies'\n",
            " 'Action & Adventure, Dramas, International Movies'\n",
            " 'Anime Series, International TV Shows' 'Documentaries' 'Reality TV'\n",
            " 'Documentaries, International Movies' 'TV Comedies'\n",
            " 'Dramas, International Movies, Romantic Movies' 'Comedies'\n",
            " 'Comedies, Romantic Movies' 'Documentaries, Sports Movies'\n",
            " 'Comedies, Dramas, International Movies'\n",
            " 'International TV Shows, Romantic TV Shows, TV Comedies'\n",
            " 'Comedies, International Movies' 'Action & Adventure, Sci-Fi & Fantasy'\n",
            " 'Dramas, Romantic Movies' 'Dramas, Romantic Movies, Sports Movies'\n",
            " 'Comedies, International Movies, Romantic Movies' 'Action & Adventure'\n",
            " 'International TV Shows, Romantic TV Shows, TV Dramas'\n",
            " 'Docuseries, Science & Nature TV'\n",
            " 'Dramas, International Movies, Sports Movies' 'Movies'\n",
            " 'British TV Shows, International TV Shows, Reality TV'\n",
            " 'Dramas, Independent Movies, Sports Movies'\n",
            " 'International TV Shows, Korean TV Shows, Romantic TV Shows'\n",
            " 'Horror Movies, Independent Movies, Thrillers'\n",
            " 'Crime TV Shows, TV Dramas, TV Mysteries' 'Crime TV Shows, Docuseries'\n",
            " 'Horror Movies, Thrillers' 'Action & Adventure, International Movies'\n",
            " 'Horror Movies, Independent Movies' 'Documentaries, Music & Musicals'\n",
            " 'International Movies, Music & Musicals' 'Sci-Fi & Fantasy'\n",
            " 'Dramas, Independent Movies' 'British TV Shows, Reality TV'\n",
            " 'Action & Adventure, Comedies, International Movies' 'Comedies, Dramas'\n",
            " 'Dramas, LGBTQ Movies' 'Documentaries, Faith & Spirituality'\n",
            " 'Action & Adventure, Comedies'\n",
            " \"Kids' TV, TV Action & Adventure, TV Sci-Fi & Fantasy\"\n",
            " 'International Movies, Thrillers' \"Kids' TV\"\n",
            " 'International TV Shows, Romantic TV Shows, Spanish-Language TV Shows'\n",
            " 'Children & Family Movies, Comedies' 'Comedies, LGBTQ Movies'\n",
            " 'Comedies, Dramas, Romantic Movies' 'Action & Adventure, Dramas'\n",
            " 'Dramas, Independent Movies, Romantic Movies'\n",
            " 'Comedies, Independent Movies, Thrillers' 'TV Shows' 'Docuseries'\n",
            " 'Comedies, International Movies, Music & Musicals'\n",
            " 'Docuseries, International TV Shows, Science & Nature TV'\n",
            " 'British TV Shows, Docuseries, Science & Nature TV'\n",
            " 'Children & Family Movies, Dramas, Sports Movies'\n",
            " 'Children & Family Movies' 'Dramas, Sci-Fi & Fantasy'\n",
            " 'International TV Shows, TV Comedies, TV Dramas'\n",
            " 'Action & Adventure, Classic Movies, Dramas'\n",
            " 'Children & Family Movies, Dramas'\n",
            " 'Action & Adventure, International Movies, Romantic Movies'\n",
            " 'Children & Family Movies, Dramas, Romantic Movies'\n",
            " 'Children & Family Movies, Comedies, Music & Musicals'\n",
            " 'Classic Movies, Cult Movies, Dramas'\n",
            " 'Action & Adventure, International Movies, Sci-Fi & Fantasy'\n",
            " 'Comedies, Independent Movies' 'Comedies, Horror Movies'\n",
            " 'Children & Family Movies, Comedies, Romantic Movies'\n",
            " 'International TV Shows, TV Dramas, TV Horror' 'Thrillers'\n",
            " 'Stand-Up Comedy & Talk Shows, TV Comedies'\n",
            " 'International TV Shows, Romantic TV Shows, Teen TV Shows'\n",
            " 'Crime TV Shows, International TV Shows, Korean TV Shows'\n",
            " 'Comedies, International Movies, Sports Movies'\n",
            " 'Dramas, LGBTQ Movies, Romantic Movies' 'Comedies, Cult Movies'\n",
            " 'Dramas, Independent Movies, LGBTQ Movies'\n",
            " 'International TV Shows, Reality TV' 'Stand-Up Comedy'\n",
            " 'Documentaries, LGBTQ Movies'\n",
            " \"Kids' TV, TV Action & Adventure, TV Comedies\"\n",
            " 'Anime Features, International Movies'\n",
            " 'Music & Musicals, Romantic Movies' 'Comedies, Music & Musicals'\n",
            " 'International TV Shows, TV Comedies'\n",
            " 'International Movies, Romantic Movies'\n",
            " 'Anime Features, Children & Family Movies, International Movies'\n",
            " 'British TV Shows, TV Comedies, TV Dramas' 'TV Dramas' 'Horror Movies'\n",
            " 'Action & Adventure, Children & Family Movies, Independent Movies'\n",
            " 'Dramas, International Movies, Music & Musicals'\n",
            " 'Comedies, International Movies, Sci-Fi & Fantasy'\n",
            " 'International TV Shows, Korean TV Shows, Stand-Up Comedy & Talk Shows'\n",
            " 'Docuseries, Science & Nature TV, TV Comedies' 'Dramas, Sports Movies'\n",
            " 'Dramas, Music & Musicals, Romantic Movies'\n",
            " 'Children & Family Movies, Comedies, International Movies'\n",
            " 'Action & Adventure, Documentaries, International Movies'\n",
            " 'Comedies, International Movies, Thrillers'\n",
            " 'Action & Adventure, Dramas, Romantic Movies'\n",
            " 'Horror Movies, Independent Movies, International Movies'\n",
            " 'Dramas, Independent Movies, Sci-Fi & Fantasy'\n",
            " 'International Movies, Sci-Fi & Fantasy'\n",
            " 'Docuseries, Reality TV, Science & Nature TV'\n",
            " 'British TV Shows, Docuseries, International TV Shows'\n",
            " 'Docuseries, International TV Shows'\n",
            " 'British TV Shows, International TV Shows, TV Comedies'\n",
            " 'Action & Adventure, Horror Movies'\n",
            " 'British TV Shows, Reality TV, Romantic TV Shows'\n",
            " 'Crime TV Shows, International TV Shows, TV Action & Adventure'\n",
            " 'International TV Shows, Reality TV, Romantic TV Shows'\n",
            " 'International Movies, Music & Musicals, Romantic Movies'\n",
            " 'TV Comedies, TV Dramas'\n",
            " 'Anime Series, Crime TV Shows, International TV Shows'\n",
            " \"Kids' TV, TV Comedies, TV Dramas\" 'Action & Adventure, Comedies, Dramas'\n",
            " 'Documentaries, International Movies, Music & Musicals'\n",
            " \"Kids' TV, TV Comedies\" 'Classic Movies, Dramas, International Movies'\n",
            " 'Comedies, Independent Movies, International Movies'\n",
            " 'Classic Movies, Comedies, Dramas'\n",
            " 'International TV Shows, TV Action & Adventure, TV Mysteries'\n",
            " 'Comedies, International Movies, LGBTQ Movies'\n",
            " 'Children & Family Movies, Comedies, Sci-Fi & Fantasy'\n",
            " 'TV Dramas, Teen TV Shows' 'Children & Family Movies, Independent Movies'\n",
            " 'International TV Shows, Spanish-Language TV Shows, TV Comedies'\n",
            " 'Crime TV Shows, TV Action & Adventure, TV Dramas'\n",
            " 'Action & Adventure, Anime Features, International Movies'\n",
            " 'Action & Adventure, Classic Movies, Comedies'\n",
            " 'Crime TV Shows, TV Dramas' 'TV Horror, TV Mysteries, TV Thrillers'\n",
            " 'TV Dramas, TV Thrillers' 'Comedies, Cult Movies, Dramas'\n",
            " 'Crime TV Shows, TV Comedies, Teen TV Shows'\n",
            " 'Dramas, Faith & Spirituality' 'Comedies, Dramas, LGBTQ Movies'\n",
            " 'Action & Adventure, Comedies, Cult Movies'\n",
            " 'International TV Shows, TV Action & Adventure, TV Comedies'\n",
            " 'Dramas, Independent Movies, Music & Musicals'\n",
            " 'International TV Shows, TV Horror, TV Thrillers'\n",
            " 'International TV Shows, TV Horror, TV Mysteries'\n",
            " 'International TV Shows, TV Dramas, Teen TV Shows'\n",
            " 'Anime Series, International TV Shows, Teen TV Shows'\n",
            " 'Dramas, Sci-Fi & Fantasy, Thrillers'\n",
            " 'TV Action & Adventure, TV Dramas, TV Mysteries'\n",
            " 'Crime TV Shows, International TV Shows, TV Comedies'\n",
            " 'Action & Adventure, Comedies, Sci-Fi & Fantasy' \"Anime Series, Kids' TV\"\n",
            " 'Crime TV Shows, International TV Shows, Spanish-Language TV Shows'\n",
            " 'Horror Movies, Sci-Fi & Fantasy, Thrillers'\n",
            " 'International TV Shows, Korean TV Shows, TV Dramas'\n",
            " 'Stand-Up Comedy & Talk Shows'\n",
            " 'International Movies, Sci-Fi & Fantasy, Thrillers'\n",
            " 'Crime TV Shows, TV Action & Adventure'\n",
            " 'International TV Shows, Korean TV Shows, TV Action & Adventure'\n",
            " 'TV Action & Adventure, TV Comedies, TV Horror'\n",
            " 'International TV Shows, Romantic TV Shows'\n",
            " \"Crime TV Shows, Kids' TV, TV Comedies\"\n",
            " 'TV Comedies, TV Dramas, Teen TV Shows'\n",
            " 'Docuseries, International TV Shows, Reality TV'\n",
            " \"Classic & Cult TV, Kids' TV, TV Action & Adventure\"\n",
            " 'Horror Movies, Sci-Fi & Fantasy'\n",
            " 'Romantic TV Shows, TV Dramas, TV Sci-Fi & Fantasy'\n",
            " 'Dramas, International Movies, Sci-Fi & Fantasy'\n",
            " 'Children & Family Movies, Sports Movies'\n",
            " 'Dramas, Independent Movies, Thrillers'\n",
            " 'Independent Movies, International Movies, Thrillers'\n",
            " 'British TV Shows, TV Comedies'\n",
            " 'International TV Shows, Spanish-Language TV Shows, TV Dramas'\n",
            " 'Action & Adventure, Comedies, Independent Movies'\n",
            " 'International TV Shows, TV Action & Adventure, TV Dramas'\n",
            " 'Children & Family Movies, Music & Musicals' 'Music & Musicals'\n",
            " 'Action & Adventure, International Movies, Music & Musicals'\n",
            " 'Comedies, Sports Movies' 'Classic Movies, Thrillers'\n",
            " 'Docuseries, Reality TV' 'Crime TV Shows, TV Dramas, TV Horror'\n",
            " 'Crime TV Shows, TV Comedies, TV Dramas'\n",
            " 'British TV Shows, Docuseries, Reality TV'\n",
            " 'Reality TV, Science & Nature TV, TV Action & Adventure'\n",
            " 'Children & Family Movies, Documentaries, International Movies'\n",
            " 'Crime TV Shows, Romantic TV Shows, TV Dramas'\n",
            " 'British TV Shows, Docuseries'\n",
            " 'Documentaries, LGBTQ Movies, Music & Musicals'\n",
            " 'Romantic TV Shows, TV Dramas' 'Independent Movies, Thrillers'\n",
            " 'International TV Shows, TV Action & Adventure, TV Horror'\n",
            " 'Children & Family Movies, Documentaries, Sports Movies'\n",
            " 'Stand-Up Comedy & Talk Shows, TV Mysteries, TV Sci-Fi & Fantasy'\n",
            " 'International TV Shows, Reality TV, TV Comedies'\n",
            " 'Dramas, International Movies, LGBTQ Movies'\n",
            " 'Action & Adventure, Dramas, Independent Movies'\n",
            " 'British TV Shows, International TV Shows, TV Dramas'\n",
            " 'TV Action & Adventure, TV Dramas, TV Sci-Fi & Fantasy'\n",
            " 'TV Action & Adventure, TV Dramas, TV Horror'\n",
            " 'Action & Adventure, Anime Features, Sci-Fi & Fantasy' 'Anime Series'\n",
            " 'TV Dramas, TV Mysteries, TV Thrillers'\n",
            " 'Music & Musicals, Stand-Up Comedy'\n",
            " 'Docuseries, International TV Shows, Spanish-Language TV Shows'\n",
            " 'Crime TV Shows, International TV Shows, Reality TV'\n",
            " \"British TV Shows, Kids' TV\" 'Docuseries, Spanish-Language TV Shows'\n",
            " 'Crime TV Shows, TV Dramas, TV Thrillers'\n",
            " 'Documentaries, International Movies, LGBTQ Movies'\n",
            " 'British TV Shows, Crime TV Shows, International TV Shows'\n",
            " 'Action & Adventure, Independent Movies'\n",
            " 'Classic Movies, Dramas, Romantic Movies'\n",
            " 'Crime TV Shows, Romantic TV Shows, Spanish-Language TV Shows'\n",
            " 'Children & Family Movies, Comedies, Dramas' 'Cult Movies, Horror Movies'\n",
            " \"Kids' TV, TV Thrillers\" 'Classic Movies, Cult Movies, Horror Movies'\n",
            " 'Anime Series, Crime TV Shows, TV Thrillers'\n",
            " 'Anime Series, TV Horror, TV Thrillers' 'Classic Movies, Dramas'\n",
            " 'British TV Shows, Crime TV Shows, Docuseries'\n",
            " 'Action & Adventure, International Movies, Thrillers'\n",
            " 'Anime Series, Teen TV Shows'\n",
            " 'Children & Family Movies, Dramas, International Movies'\n",
            " 'Dramas, Faith & Spirituality, International Movies'\n",
            " 'TV Horror, TV Mysteries, Teen TV Shows'\n",
            " 'Children & Family Movies, Classic Movies'\n",
            " 'TV Dramas, TV Sci-Fi & Fantasy' 'Reality TV, Teen TV Shows'\n",
            " 'Docuseries, Reality TV, Teen TV Shows' 'Classic & Cult TV, TV Comedies'\n",
            " 'International TV Shows, Korean TV Shows, Reality TV'\n",
            " 'International TV Shows, Stand-Up Comedy & Talk Shows, TV Comedies'\n",
            " 'British TV Shows, International TV Shows, Romantic TV Shows'\n",
            " 'International TV Shows, TV Dramas, TV Thrillers' 'Anime Features'\n",
            " 'TV Horror, TV Mysteries, TV Sci-Fi & Fantasy'\n",
            " 'Children & Family Movies, Classic Movies, Comedies'\n",
            " 'Comedies, Faith & Spirituality, Romantic Movies'\n",
            " 'Classic Movies, Comedies, International Movies'\n",
            " 'Action & Adventure, Horror Movies, Sci-Fi & Fantasy'\n",
            " 'Action & Adventure, Classic Movies'\n",
            " 'TV Dramas, TV Sci-Fi & Fantasy, TV Thrillers'\n",
            " 'Comedies, Sci-Fi & Fantasy' 'Action & Adventure, Cult Movies, Dramas'\n",
            " 'TV Action & Adventure, TV Dramas' \"Kids' TV, Korean TV Shows\"\n",
            " 'Action & Adventure, Independent Movies, International Movies'\n",
            " 'Dramas, Faith & Spirituality, Independent Movies'\n",
            " 'Docuseries, TV Comedies'\n",
            " 'Documentaries, Faith & Spirituality, Music & Musicals'\n",
            " 'Romantic TV Shows, TV Comedies' \"Kids' TV, Spanish-Language TV Shows\"\n",
            " \"British TV Shows, Kids' TV, TV Thrillers\"\n",
            " 'Action & Adventure, Romantic Movies'\n",
            " 'British TV Shows, Classic & Cult TV, TV Comedies'\n",
            " 'Action & Adventure, Horror Movies, International Movies'\n",
            " 'Children & Family Movies, Documentaries'\n",
            " \"British TV Shows, Kids' TV, TV Comedies\"\n",
            " 'Horror Movies, Independent Movies, Sci-Fi & Fantasy'\n",
            " 'TV Sci-Fi & Fantasy, TV Thrillers'\n",
            " 'Romantic TV Shows, TV Comedies, TV Dramas'\n",
            " 'Reality TV, Romantic TV Shows'\n",
            " 'Classic Movies, Dramas, Independent Movies'\n",
            " 'Romantic TV Shows, TV Dramas, Teen TV Shows'\n",
            " 'TV Action & Adventure, TV Sci-Fi & Fantasy'\n",
            " 'British TV Shows, TV Horror, TV Thrillers'\n",
            " 'International Movies, Sports Movies' 'International Movies'\n",
            " 'Anime Series, International TV Shows, TV Horror'\n",
            " 'International TV Shows' 'Dramas, Music & Musicals, Sports Movies'\n",
            " 'International TV Shows, Spanish-Language TV Shows, TV Action & Adventure'\n",
            " 'Cult Movies, Dramas, International Movies'\n",
            " 'TV Action & Adventure, TV Comedies, TV Sci-Fi & Fantasy'\n",
            " 'Reality TV, Science & Nature TV'\n",
            " 'Action & Adventure, Anime Features, Children & Family Movies'\n",
            " \"Kids' TV, TV Action & Adventure\"\n",
            " 'Children & Family Movies, Sci-Fi & Fantasy' \"Crime TV Shows, Kids' TV\"\n",
            " 'International Movies, Music & Musicals, Thrillers'\n",
            " 'Crime TV Shows, Spanish-Language TV Shows, TV Action & Adventure'\n",
            " \"Classic & Cult TV, Kids' TV, Spanish-Language TV Shows\"\n",
            " 'Romantic TV Shows, Spanish-Language TV Shows, TV Dramas'\n",
            " 'Action & Adventure, Cult Movies, International Movies'\n",
            " 'Crime TV Shows, Spanish-Language TV Shows, TV Dramas'\n",
            " 'Action & Adventure, Children & Family Movies, Dramas'\n",
            " 'Dramas, Romantic Movies, Sci-Fi & Fantasy'\n",
            " 'Action & Adventure, Dramas, Sci-Fi & Fantasy'\n",
            " 'International TV Shows, TV Mysteries, TV Thrillers'\n",
            " 'Anime Series, International TV Shows, TV Thrillers'\n",
            " 'Horror Movies, International Movies, Sci-Fi & Fantasy'\n",
            " 'Comedies, Cult Movies, International Movies'\n",
            " 'Comedies, Music & Musicals, Romantic Movies'\n",
            " 'Children & Family Movies, Comedies, Faith & Spirituality'\n",
            " 'Crime TV Shows, Docuseries, TV Mysteries'\n",
            " 'Crime TV Shows, Docuseries, Science & Nature TV'\n",
            " 'British TV Shows, Crime TV Shows, TV Dramas'\n",
            " 'Classic Movies, Comedies, Cult Movies'\n",
            " 'International Movies, Romantic Movies, Thrillers'\n",
            " 'Classic Movies, Dramas, Music & Musicals'\n",
            " 'Cult Movies, Horror Movies, Thrillers' 'Anime Features, Romantic Movies'\n",
            " 'Comedies, Dramas, Music & Musicals'\n",
            " 'Anime Features, International Movies, Romantic Movies'\n",
            " 'Documentaries, Faith & Spirituality, International Movies'\n",
            " 'Action & Adventure, Classic Movies, Sci-Fi & Fantasy'\n",
            " 'International TV Shows, Stand-Up Comedy & Talk Shows'\n",
            " \"British TV Shows, Kids' TV, TV Dramas\"\n",
            " 'Classic & Cult TV, TV Action & Adventure, TV Horror'\n",
            " 'Children & Family Movies, Dramas, Faith & Spirituality'\n",
            " 'TV Action & Adventure, TV Comedies'\n",
            " 'Action & Adventure, Anime Features, Horror Movies'\n",
            " 'Crime TV Shows, International TV Shows, Romantic TV Shows'\n",
            " 'Classic Movies, Comedies, Music & Musicals'\n",
            " 'Comedies, Horror Movies, International Movies'\n",
            " \"Kids' TV, Spanish-Language TV Shows, Teen TV Shows\" 'Independent Movies'\n",
            " 'Crime TV Shows, International TV Shows, TV Mysteries'\n",
            " 'Action & Adventure, Thrillers' \"Kids' TV, TV Dramas, Teen TV Shows\"\n",
            " 'Anime Series, Crime TV Shows' \"Kids' TV, TV Dramas\"\n",
            " 'Crime TV Shows, TV Action & Adventure, TV Comedies'\n",
            " 'TV Comedies, Teen TV Shows' 'Reality TV, TV Horror, TV Thrillers'\n",
            " 'Documentaries, Horror Movies'\n",
            " 'Classic & Cult TV, TV Horror, TV Mysteries'\n",
            " 'Action & Adventure, Cult Movies, Sci-Fi & Fantasy'\n",
            " 'Anime Series, International TV Shows, Romantic TV Shows'\n",
            " 'Action & Adventure, Comedies, Romantic Movies'\n",
            " 'Comedies, Dramas, Faith & Spirituality'\n",
            " 'Comedies, Faith & Spirituality, International Movies' 'Romantic Movies'\n",
            " 'Dramas, Horror Movies, Sci-Fi & Fantasy'\n",
            " 'International TV Shows, Korean TV Shows, TV Comedies'\n",
            " 'Comedies, Independent Movies, LGBTQ Movies'\n",
            " 'TV Comedies, TV Dramas, TV Sci-Fi & Fantasy' 'Dramas, Music & Musicals'\n",
            " 'Dramas, Faith & Spirituality, Romantic Movies'\n",
            " 'International TV Shows, TV Action & Adventure, TV Sci-Fi & Fantasy'\n",
            " 'Reality TV, TV Comedies' \"Docuseries, Kids' TV, Science & Nature TV\"\n",
            " 'Action & Adventure, Sci-Fi & Fantasy, Thrillers'\n",
            " 'Action & Adventure, Children & Family Movies, Sci-Fi & Fantasy'\n",
            " 'Action & Adventure, Children & Family Movies, Classic Movies'\n",
            " 'Horror Movies, International Movies, Romantic Movies'\n",
            " 'TV Action & Adventure' 'TV Comedies, TV Dramas, TV Horror'\n",
            " 'British TV Shows, International TV Shows, Stand-Up Comedy & Talk Shows'\n",
            " 'Dramas, Music & Musicals, Sci-Fi & Fantasy'\n",
            " 'Spanish-Language TV Shows, TV Dramas' 'Documentaries, Stand-Up Comedy'\n",
            " 'Classic & Cult TV, TV Action & Adventure, TV Dramas'\n",
            " 'British TV Shows, TV Dramas, TV Sci-Fi & Fantasy'\n",
            " 'Anime Features, Music & Musicals'\n",
            " 'International TV Shows, TV Comedies, TV Sci-Fi & Fantasy'\n",
            " 'Comedies, Independent Movies, Romantic Movies'\n",
            " 'Comedies, Cult Movies, Horror Movies'\n",
            " 'Comedies, Cult Movies, Sports Movies' 'Classic Movies, Documentaries'\n",
            " 'Sci-Fi & Fantasy, Thrillers'\n",
            " 'Classic & Cult TV, Crime TV Shows, International TV Shows'\n",
            " \"Kids' TV, Korean TV Shows, TV Comedies\"\n",
            " 'British TV Shows, Romantic TV Shows, TV Dramas'\n",
            " 'Action & Adventure, Faith & Spirituality, Sci-Fi & Fantasy'\n",
            " 'TV Dramas, TV Sci-Fi & Fantasy, Teen TV Shows'\n",
            " 'Action & Adventure, Children & Family Movies'\n",
            " 'Comedies, Horror Movies, Independent Movies'\n",
            " 'Action & Adventure, Classic Movies, Cult Movies'\n",
            " 'TV Dramas, TV Horror, TV Mysteries'\n",
            " 'International Movies, Romantic Movies, Sci-Fi & Fantasy'\n",
            " 'Anime Series, Romantic TV Shows, Teen TV Shows'\n",
            " 'TV Action & Adventure, TV Horror, TV Sci-Fi & Fantasy'\n",
            " 'Anime Features, Music & Musicals, Sci-Fi & Fantasy'\n",
            " 'Action & Adventure, Anime Features, Classic Movies'\n",
            " 'International TV Shows, Reality TV, Spanish-Language TV Shows'\n",
            " 'Anime Series, Romantic TV Shows'\n",
            " 'International TV Shows, Reality TV, TV Action & Adventure'\n",
            " 'TV Comedies, TV Dramas, TV Mysteries'\n",
            " 'Docuseries, Science & Nature TV, TV Dramas'\n",
            " 'Crime TV Shows, TV Action & Adventure, TV Thrillers'\n",
            " 'Anime Features, Children & Family Movies' 'Docuseries, TV Dramas'\n",
            " 'British TV Shows, International TV Shows, TV Action & Adventure'\n",
            " 'Comedies, Cult Movies, Independent Movies'\n",
            " 'Action & Adventure, Horror Movies, Independent Movies'\n",
            " 'British TV Shows, Docuseries, TV Comedies' 'Comedies, Documentaries'\n",
            " 'British TV Shows, Classic & Cult TV, International TV Shows'\n",
            " 'TV Comedies, TV Sci-Fi & Fantasy'\n",
            " 'TV Comedies, TV Sci-Fi & Fantasy, Teen TV Shows'\n",
            " 'Documentaries, Dramas, International Movies'\n",
            " 'Action & Adventure, Classic Movies, International Movies'\n",
            " 'Cult Movies, Independent Movies, Thrillers'\n",
            " 'Comedies, Independent Movies, Music & Musicals'\n",
            " 'TV Action & Adventure, TV Dramas, Teen TV Shows'\n",
            " 'Romantic TV Shows, TV Action & Adventure, TV Dramas'\n",
            " 'Crime TV Shows, TV Comedies'\n",
            " 'Classic Movies, Cult Movies, Documentaries'\n",
            " 'Children & Family Movies, Comedies, Cult Movies'\n",
            " \"Classic & Cult TV, Kids' TV, TV Comedies\"\n",
            " 'Classic Movies, Dramas, LGBTQ Movies'\n",
            " 'Comedies, Romantic Movies, Sports Movies'\n",
            " \"Anime Series, Kids' TV, TV Action & Adventure\"\n",
            " 'Action & Adventure, Children & Family Movies, Comedies'\n",
            " 'Reality TV, TV Comedies, TV Horror'\n",
            " 'Classic Movies, Dramas, Sports Movies'\n",
            " \"Kids' TV, TV Action & Adventure, TV Dramas\"\n",
            " 'Action & Adventure, Sci-Fi & Fantasy, Sports Movies'\n",
            " 'Dramas, Romantic Movies, Thrillers' 'Action & Adventure, Cult Movies'\n",
            " 'Children & Family Movies, Dramas, Independent Movies'\n",
            " 'Children & Family Movies, Comedies, LGBTQ Movies'\n",
            " 'Action & Adventure, Comedies, Music & Musicals'\n",
            " 'Classic Movies, Horror Movies, Thrillers'\n",
            " 'Classic & Cult TV, TV Dramas, TV Sci-Fi & Fantasy'\n",
            " 'Children & Family Movies, Comedies, Sports Movies'\n",
            " 'Docuseries, Stand-Up Comedy & Talk Shows'\n",
            " 'Action & Adventure, Dramas, Faith & Spirituality'\n",
            " 'TV Comedies, TV Horror, TV Thrillers'\n",
            " 'Classic Movies, Comedies, Independent Movies'\n",
            " 'Crime TV Shows, TV Horror, TV Mysteries'\n",
            " 'Children & Family Movies, Classic Movies, Dramas'\n",
            " 'Romantic TV Shows, Spanish-Language TV Shows, TV Comedies'\n",
            " 'Dramas, Faith & Spirituality, Sports Movies'\n",
            " 'Classic & Cult TV, TV Action & Adventure, TV Sci-Fi & Fantasy'\n",
            " 'International TV Shows, Korean TV Shows, TV Horror'\n",
            " 'Classic Movies, Comedies, Romantic Movies'\n",
            " 'Dramas, Horror Movies, Music & Musicals'\n",
            " 'Cult Movies, Horror Movies, Independent Movies'\n",
            " 'Classic Movies, Dramas, Thrillers'\n",
            " 'TV Dramas, TV Mysteries, TV Sci-Fi & Fantasy'\n",
            " 'Classic Movies, Independent Movies, Thrillers'\n",
            " 'TV Comedies, TV Mysteries'\n",
            " 'International TV Shows, Romantic TV Shows, TV Mysteries'\n",
            " \"Kids' TV, TV Comedies, Teen TV Shows\"\n",
            " 'Crime TV Shows, TV Action & Adventure, TV Sci-Fi & Fantasy'\n",
            " \"Kids' TV, TV Comedies, TV Sci-Fi & Fantasy\"\n",
            " 'Anime Series, International TV Shows, Spanish-Language TV Shows'\n",
            " 'Cult Movies, Dramas, Thrillers'\n",
            " 'International TV Shows, Spanish-Language TV Shows, TV Horror'\n",
            " 'Children & Family Movies, Faith & Spirituality'\n",
            " 'Comedies, Music & Musicals, Sports Movies'\n",
            " 'Classic Movies, Comedies, Sports Movies'\n",
            " 'Comedies, Dramas, Sports Movies'\n",
            " 'Action & Adventure, Dramas, Sports Movies'\n",
            " \"Kids' TV, Reality TV, TV Dramas\"\n",
            " 'Horror Movies, LGBTQ Movies, Music & Musicals'\n",
            " 'Comedies, LGBTQ Movies, Music & Musicals'\n",
            " 'International TV Shows, Romantic TV Shows, TV Action & Adventure'\n",
            " 'Cult Movies, Documentaries, LGBTQ Movies'\n",
            " 'Action & Adventure, Romantic Movies, Sci-Fi & Fantasy'\n",
            " 'Classic & Cult TV, TV Sci-Fi & Fantasy'\n",
            " 'TV Action & Adventure, TV Mysteries, TV Sci-Fi & Fantasy'\n",
            " 'Children & Family Movies, Dramas, Music & Musicals'\n",
            " 'Docuseries, TV Sci-Fi & Fantasy'\n",
            " \"British TV Shows, Classic & Cult TV, Kids' TV\"\n",
            " 'Action & Adventure, International Movies, Sports Movies'\n",
            " 'Docuseries, Science & Nature TV, TV Action & Adventure'\n",
            " 'Comedies, Cult Movies, LGBTQ Movies'\n",
            " 'Crime TV Shows, International TV Shows, TV Sci-Fi & Fantasy'\n",
            " 'Comedies, Horror Movies, Sci-Fi & Fantasy'\n",
            " 'Action & Adventure, Comedies, Horror Movies'\n",
            " 'Classic & Cult TV, Crime TV Shows, TV Dramas' 'TV Horror, Teen TV Shows'\n",
            " 'Reality TV, Spanish-Language TV Shows'\n",
            " 'Action & Adventure, Documentaries, Sports Movies'\n",
            " 'Anime Features, International Movies, Sci-Fi & Fantasy'\n",
            " 'LGBTQ Movies, Thrillers' 'Action & Adventure, Sports Movies'\n",
            " 'International Movies, LGBTQ Movies, Romantic Movies'\n",
            " \"Kids' TV, Reality TV, Science & Nature TV\"\n",
            " 'International TV Shows, Spanish-Language TV Shows, Stand-Up Comedy & Talk Shows']\n",
            "Unique values for column'description:\n",
            "['In a future where the elite inhabit an island paradise far from the crowded slums, you get one chance to join the 3% saved from squalor.'\n",
            " 'After a devastating earthquake hits Mexico City, trapped survivors from all walks of life wait to be rescued while trying desperately to stay alive.'\n",
            " \"When an army recruit is found dead, his fellow soldiers are forced to confront a terrifying secret that's haunting their jungle island training camp.\"\n",
            " ...\n",
            " \"In this documentary, South African rapper Nasty C hits the stage and streets of Tokyo, introducing himself to the city's sights, sounds and culture.\"\n",
            " 'Dessert wizard Adriano Zumbo looks for the next “Willy Wonka” in this tense competition that finds skilled amateurs competing for a $100,000 prize.'\n",
            " 'This documentary delves into the mystique behind the blues-rock trio and explores how the enigmatic band created their iconic look and sound.']\n"
          ]
        }
      ]
    },
    {
      "cell_type": "code",
      "source": [
        "# Dataset Describe\n",
        "df.describe()"
      ],
      "metadata": {
        "id": "DnOaZdaE5Q5t",
        "colab": {
          "base_uri": "https://localhost:8080/",
          "height": 300
        },
        "outputId": "332b9622-6574-4eac-927b-4c965dba6c1a"
      },
      "execution_count": 12,
      "outputs": [
        {
          "output_type": "execute_result",
          "data": {
            "text/plain": [
              "       release_year\n",
              "count   7787.000000\n",
              "mean    2013.932580\n",
              "std        8.757395\n",
              "min     1925.000000\n",
              "25%     2013.000000\n",
              "50%     2017.000000\n",
              "75%     2018.000000\n",
              "max     2021.000000"
            ],
            "text/html": [
              "\n",
              "  <div id=\"df-5dfe990b-0837-4684-99d6-55939bde2cb4\">\n",
              "    <div class=\"colab-df-container\">\n",
              "      <div>\n",
              "<style scoped>\n",
              "    .dataframe tbody tr th:only-of-type {\n",
              "        vertical-align: middle;\n",
              "    }\n",
              "\n",
              "    .dataframe tbody tr th {\n",
              "        vertical-align: top;\n",
              "    }\n",
              "\n",
              "    .dataframe thead th {\n",
              "        text-align: right;\n",
              "    }\n",
              "</style>\n",
              "<table border=\"1\" class=\"dataframe\">\n",
              "  <thead>\n",
              "    <tr style=\"text-align: right;\">\n",
              "      <th></th>\n",
              "      <th>release_year</th>\n",
              "    </tr>\n",
              "  </thead>\n",
              "  <tbody>\n",
              "    <tr>\n",
              "      <th>count</th>\n",
              "      <td>7787.000000</td>\n",
              "    </tr>\n",
              "    <tr>\n",
              "      <th>mean</th>\n",
              "      <td>2013.932580</td>\n",
              "    </tr>\n",
              "    <tr>\n",
              "      <th>std</th>\n",
              "      <td>8.757395</td>\n",
              "    </tr>\n",
              "    <tr>\n",
              "      <th>min</th>\n",
              "      <td>1925.000000</td>\n",
              "    </tr>\n",
              "    <tr>\n",
              "      <th>25%</th>\n",
              "      <td>2013.000000</td>\n",
              "    </tr>\n",
              "    <tr>\n",
              "      <th>50%</th>\n",
              "      <td>2017.000000</td>\n",
              "    </tr>\n",
              "    <tr>\n",
              "      <th>75%</th>\n",
              "      <td>2018.000000</td>\n",
              "    </tr>\n",
              "    <tr>\n",
              "      <th>max</th>\n",
              "      <td>2021.000000</td>\n",
              "    </tr>\n",
              "  </tbody>\n",
              "</table>\n",
              "</div>\n",
              "      <button class=\"colab-df-convert\" onclick=\"convertToInteractive('df-5dfe990b-0837-4684-99d6-55939bde2cb4')\"\n",
              "              title=\"Convert this dataframe to an interactive table.\"\n",
              "              style=\"display:none;\">\n",
              "        \n",
              "  <svg xmlns=\"http://www.w3.org/2000/svg\" height=\"24px\"viewBox=\"0 0 24 24\"\n",
              "       width=\"24px\">\n",
              "    <path d=\"M0 0h24v24H0V0z\" fill=\"none\"/>\n",
              "    <path d=\"M18.56 5.44l.94 2.06.94-2.06 2.06-.94-2.06-.94-.94-2.06-.94 2.06-2.06.94zm-11 1L8.5 8.5l.94-2.06 2.06-.94-2.06-.94L8.5 2.5l-.94 2.06-2.06.94zm10 10l.94 2.06.94-2.06 2.06-.94-2.06-.94-.94-2.06-.94 2.06-2.06.94z\"/><path d=\"M17.41 7.96l-1.37-1.37c-.4-.4-.92-.59-1.43-.59-.52 0-1.04.2-1.43.59L10.3 9.45l-7.72 7.72c-.78.78-.78 2.05 0 2.83L4 21.41c.39.39.9.59 1.41.59.51 0 1.02-.2 1.41-.59l7.78-7.78 2.81-2.81c.8-.78.8-2.07 0-2.86zM5.41 20L4 18.59l7.72-7.72 1.47 1.35L5.41 20z\"/>\n",
              "  </svg>\n",
              "      </button>\n",
              "      \n",
              "  <style>\n",
              "    .colab-df-container {\n",
              "      display:flex;\n",
              "      flex-wrap:wrap;\n",
              "      gap: 12px;\n",
              "    }\n",
              "\n",
              "    .colab-df-convert {\n",
              "      background-color: #E8F0FE;\n",
              "      border: none;\n",
              "      border-radius: 50%;\n",
              "      cursor: pointer;\n",
              "      display: none;\n",
              "      fill: #1967D2;\n",
              "      height: 32px;\n",
              "      padding: 0 0 0 0;\n",
              "      width: 32px;\n",
              "    }\n",
              "\n",
              "    .colab-df-convert:hover {\n",
              "      background-color: #E2EBFA;\n",
              "      box-shadow: 0px 1px 2px rgba(60, 64, 67, 0.3), 0px 1px 3px 1px rgba(60, 64, 67, 0.15);\n",
              "      fill: #174EA6;\n",
              "    }\n",
              "\n",
              "    [theme=dark] .colab-df-convert {\n",
              "      background-color: #3B4455;\n",
              "      fill: #D2E3FC;\n",
              "    }\n",
              "\n",
              "    [theme=dark] .colab-df-convert:hover {\n",
              "      background-color: #434B5C;\n",
              "      box-shadow: 0px 1px 3px 1px rgba(0, 0, 0, 0.15);\n",
              "      filter: drop-shadow(0px 1px 2px rgba(0, 0, 0, 0.3));\n",
              "      fill: #FFFFFF;\n",
              "    }\n",
              "  </style>\n",
              "\n",
              "      <script>\n",
              "        const buttonEl =\n",
              "          document.querySelector('#df-5dfe990b-0837-4684-99d6-55939bde2cb4 button.colab-df-convert');\n",
              "        buttonEl.style.display =\n",
              "          google.colab.kernel.accessAllowed ? 'block' : 'none';\n",
              "\n",
              "        async function convertToInteractive(key) {\n",
              "          const element = document.querySelector('#df-5dfe990b-0837-4684-99d6-55939bde2cb4');\n",
              "          const dataTable =\n",
              "            await google.colab.kernel.invokeFunction('convertToInteractive',\n",
              "                                                     [key], {});\n",
              "          if (!dataTable) return;\n",
              "\n",
              "          const docLinkHtml = 'Like what you see? Visit the ' +\n",
              "            '<a target=\"_blank\" href=https://colab.research.google.com/notebooks/data_table.ipynb>data table notebook</a>'\n",
              "            + ' to learn more about interactive tables.';\n",
              "          element.innerHTML = '';\n",
              "          dataTable['output_type'] = 'display_data';\n",
              "          await google.colab.output.renderOutput(dataTable, element);\n",
              "          const docLink = document.createElement('div');\n",
              "          docLink.innerHTML = docLinkHtml;\n",
              "          element.appendChild(docLink);\n",
              "        }\n",
              "      </script>\n",
              "    </div>\n",
              "  </div>\n",
              "  "
            ]
          },
          "metadata": {},
          "execution_count": 12
        }
      ]
    },
    {
      "cell_type": "markdown",
      "source": [
        "### Variables Description"
      ],
      "metadata": {
        "id": "PBTbrJXOngz2"
      }
    },
    {
      "cell_type": "markdown",
      "source": [
        "These variables provide details about the content, genre, cast, crew, release year, duration, and other relevant characteristics of the media.It includes both categorical and numerical features. Categorical variables describe qualitative attributes, such as genre (e.g., action, comedy, drama) or target audience (e.g., kids, adults). Numerical variables, on the other hand, provide quantitative information, such as the release year, duration in minutes, or average user ratings.This clustering can help in various applications, such as content recommendation, user segmentation, or content analysis for business purposes."
      ],
      "metadata": {
        "id": "aJV4KIxSnxay"
      }
    },
    {
      "cell_type": "markdown",
      "source": [
        "### Check Unique Values for each variable."
      ],
      "metadata": {
        "id": "u3PMJOP6ngxN"
      }
    },
    {
      "cell_type": "code",
      "source": [
        "# Check Unique Values for each variable.\n",
        "df['type'].unique()"
      ],
      "metadata": {
        "id": "zms12Yq5n-jE",
        "colab": {
          "base_uri": "https://localhost:8080/"
        },
        "outputId": "c0ad1cf9-b8e7-48e5-95c3-9b0d8d9b7422"
      },
      "execution_count": 22,
      "outputs": [
        {
          "output_type": "execute_result",
          "data": {
            "text/plain": [
              "array(['TV Show', 'Movie'], dtype=object)"
            ]
          },
          "metadata": {},
          "execution_count": 22
        }
      ]
    },
    {
      "cell_type": "markdown",
      "source": [
        "## 3. ***Data Wrangling***"
      ],
      "metadata": {
        "id": "dauF4eBmngu3"
      }
    },
    {
      "cell_type": "markdown",
      "source": [
        "### Data Wrangling Code"
      ],
      "metadata": {
        "id": "bKJF3rekwFvQ"
      }
    },
    {
      "cell_type": "code",
      "source": [
        "# Write your code to make your dataset analysis ready.\n",
        "yearly_movies=df[df.type =='TV Show']['release_year'].value_counts().sort_index(ascending=False).head(15)\n",
        "yearly_shows=df[df.type =='Movie']['release_year'].value_counts().sort_index(ascending=False).head(15)\n",
        "total_content=df['release_year'].value_counts().sort_index(ascending=False).head(15)"
      ],
      "metadata": {
        "id": "wk-9a2fpoLcV"
      },
      "execution_count": null,
      "outputs": []
    },
    {
      "cell_type": "code",
      "source": [
        "yearly_movies.head()"
      ],
      "metadata": {
        "colab": {
          "base_uri": "https://localhost:8080/"
        },
        "id": "AwixiGZtNklJ",
        "outputId": "d798dbd0-f46d-498e-8999-1d5652a5f72c"
      },
      "execution_count": 14,
      "outputs": [
        {
          "output_type": "execute_result",
          "data": {
            "text/plain": [
              "2021     19\n",
              "2020    457\n",
              "2019    414\n",
              "2018    387\n",
              "2017    268\n",
              "Name: release_year, dtype: int64"
            ]
          },
          "metadata": {},
          "execution_count": 14
        }
      ]
    },
    {
      "cell_type": "code",
      "source": [
        "#Finding unique values present in the release year\n",
        "df['release_year'].unique()"
      ],
      "metadata": {
        "colab": {
          "base_uri": "https://localhost:8080/"
        },
        "id": "vTU2oREEOLlS",
        "outputId": "909c478e-38e5-45a7-918d-5526307a0c42"
      },
      "execution_count": 17,
      "outputs": [
        {
          "output_type": "execute_result",
          "data": {
            "text/plain": [
              "array([2020, 2016, 2011, 2009, 2008, 2019, 1997, 2017, 2018, 2014, 2015,\n",
              "       2010, 2005, 2013, 2012, 2006, 2000, 2003, 1989, 2004, 1977, 1971,\n",
              "       1993, 2007, 1998, 1988, 1996, 2002, 1986, 1990, 1979, 1980, 1974,\n",
              "       2001, 1999, 1966, 1991, 1982, 1994, 1995, 1978, 1992, 1972, 1975,\n",
              "       2021, 1973, 1967, 1960, 1981, 1958, 1976, 1968, 1956, 1985, 1965,\n",
              "       1984, 1983, 1987, 1945, 1946, 1962, 1925, 1942, 1969, 1955, 1963,\n",
              "       1964, 1954, 1970, 1944, 1947, 1959, 1943])"
            ]
          },
          "metadata": {},
          "execution_count": 17
        }
      ]
    },
    {
      "cell_type": "code",
      "source": [
        "#checking the datatype present in the release year\n",
        "type(df['release_year'][0])"
      ],
      "metadata": {
        "colab": {
          "base_uri": "https://localhost:8080/"
        },
        "id": "JYACGHDoObfL",
        "outputId": "395038f1-c044-420f-a54d-e6941283dade"
      },
      "execution_count": 18,
      "outputs": [
        {
          "output_type": "execute_result",
          "data": {
            "text/plain": [
              "numpy.int64"
            ]
          },
          "metadata": {},
          "execution_count": 18
        }
      ]
    },
    {
      "cell_type": "code",
      "source": [
        "df['release_year'].value_counts().to_frame().T"
      ],
      "metadata": {
        "colab": {
          "base_uri": "https://localhost:8080/",
          "height": 110
        },
        "id": "sKpbUgqdOr0e",
        "outputId": "e17381a9-4f71-434b-90a2-db445ecfd074"
      },
      "execution_count": 19,
      "outputs": [
        {
          "output_type": "execute_result",
          "data": {
            "text/plain": [
              "              2018  2017  2019  2016  2020  2015  2014  2013  2012  2010  ...  \\\n",
              "release_year  1121  1012   996   882   868   541   334   267   219   173  ...   \n",
              "\n",
              "              1969  1963  1954  1970  1956  1925  1964  1966  1947  1959  \n",
              "release_year     2     2     2     2     2     1     1     1     1     1  \n",
              "\n",
              "[1 rows x 73 columns]"
            ],
            "text/html": [
              "\n",
              "  <div id=\"df-7a6f3b9f-ea72-4924-8557-11a9a58cbe08\">\n",
              "    <div class=\"colab-df-container\">\n",
              "      <div>\n",
              "<style scoped>\n",
              "    .dataframe tbody tr th:only-of-type {\n",
              "        vertical-align: middle;\n",
              "    }\n",
              "\n",
              "    .dataframe tbody tr th {\n",
              "        vertical-align: top;\n",
              "    }\n",
              "\n",
              "    .dataframe thead th {\n",
              "        text-align: right;\n",
              "    }\n",
              "</style>\n",
              "<table border=\"1\" class=\"dataframe\">\n",
              "  <thead>\n",
              "    <tr style=\"text-align: right;\">\n",
              "      <th></th>\n",
              "      <th>2018</th>\n",
              "      <th>2017</th>\n",
              "      <th>2019</th>\n",
              "      <th>2016</th>\n",
              "      <th>2020</th>\n",
              "      <th>2015</th>\n",
              "      <th>2014</th>\n",
              "      <th>2013</th>\n",
              "      <th>2012</th>\n",
              "      <th>2010</th>\n",
              "      <th>...</th>\n",
              "      <th>1969</th>\n",
              "      <th>1963</th>\n",
              "      <th>1954</th>\n",
              "      <th>1970</th>\n",
              "      <th>1956</th>\n",
              "      <th>1925</th>\n",
              "      <th>1964</th>\n",
              "      <th>1966</th>\n",
              "      <th>1947</th>\n",
              "      <th>1959</th>\n",
              "    </tr>\n",
              "  </thead>\n",
              "  <tbody>\n",
              "    <tr>\n",
              "      <th>release_year</th>\n",
              "      <td>1121</td>\n",
              "      <td>1012</td>\n",
              "      <td>996</td>\n",
              "      <td>882</td>\n",
              "      <td>868</td>\n",
              "      <td>541</td>\n",
              "      <td>334</td>\n",
              "      <td>267</td>\n",
              "      <td>219</td>\n",
              "      <td>173</td>\n",
              "      <td>...</td>\n",
              "      <td>2</td>\n",
              "      <td>2</td>\n",
              "      <td>2</td>\n",
              "      <td>2</td>\n",
              "      <td>2</td>\n",
              "      <td>1</td>\n",
              "      <td>1</td>\n",
              "      <td>1</td>\n",
              "      <td>1</td>\n",
              "      <td>1</td>\n",
              "    </tr>\n",
              "  </tbody>\n",
              "</table>\n",
              "<p>1 rows × 73 columns</p>\n",
              "</div>\n",
              "      <button class=\"colab-df-convert\" onclick=\"convertToInteractive('df-7a6f3b9f-ea72-4924-8557-11a9a58cbe08')\"\n",
              "              title=\"Convert this dataframe to an interactive table.\"\n",
              "              style=\"display:none;\">\n",
              "        \n",
              "  <svg xmlns=\"http://www.w3.org/2000/svg\" height=\"24px\"viewBox=\"0 0 24 24\"\n",
              "       width=\"24px\">\n",
              "    <path d=\"M0 0h24v24H0V0z\" fill=\"none\"/>\n",
              "    <path d=\"M18.56 5.44l.94 2.06.94-2.06 2.06-.94-2.06-.94-.94-2.06-.94 2.06-2.06.94zm-11 1L8.5 8.5l.94-2.06 2.06-.94-2.06-.94L8.5 2.5l-.94 2.06-2.06.94zm10 10l.94 2.06.94-2.06 2.06-.94-2.06-.94-.94-2.06-.94 2.06-2.06.94z\"/><path d=\"M17.41 7.96l-1.37-1.37c-.4-.4-.92-.59-1.43-.59-.52 0-1.04.2-1.43.59L10.3 9.45l-7.72 7.72c-.78.78-.78 2.05 0 2.83L4 21.41c.39.39.9.59 1.41.59.51 0 1.02-.2 1.41-.59l7.78-7.78 2.81-2.81c.8-.78.8-2.07 0-2.86zM5.41 20L4 18.59l7.72-7.72 1.47 1.35L5.41 20z\"/>\n",
              "  </svg>\n",
              "      </button>\n",
              "      \n",
              "  <style>\n",
              "    .colab-df-container {\n",
              "      display:flex;\n",
              "      flex-wrap:wrap;\n",
              "      gap: 12px;\n",
              "    }\n",
              "\n",
              "    .colab-df-convert {\n",
              "      background-color: #E8F0FE;\n",
              "      border: none;\n",
              "      border-radius: 50%;\n",
              "      cursor: pointer;\n",
              "      display: none;\n",
              "      fill: #1967D2;\n",
              "      height: 32px;\n",
              "      padding: 0 0 0 0;\n",
              "      width: 32px;\n",
              "    }\n",
              "\n",
              "    .colab-df-convert:hover {\n",
              "      background-color: #E2EBFA;\n",
              "      box-shadow: 0px 1px 2px rgba(60, 64, 67, 0.3), 0px 1px 3px 1px rgba(60, 64, 67, 0.15);\n",
              "      fill: #174EA6;\n",
              "    }\n",
              "\n",
              "    [theme=dark] .colab-df-convert {\n",
              "      background-color: #3B4455;\n",
              "      fill: #D2E3FC;\n",
              "    }\n",
              "\n",
              "    [theme=dark] .colab-df-convert:hover {\n",
              "      background-color: #434B5C;\n",
              "      box-shadow: 0px 1px 3px 1px rgba(0, 0, 0, 0.15);\n",
              "      filter: drop-shadow(0px 1px 2px rgba(0, 0, 0, 0.3));\n",
              "      fill: #FFFFFF;\n",
              "    }\n",
              "  </style>\n",
              "\n",
              "      <script>\n",
              "        const buttonEl =\n",
              "          document.querySelector('#df-7a6f3b9f-ea72-4924-8557-11a9a58cbe08 button.colab-df-convert');\n",
              "        buttonEl.style.display =\n",
              "          google.colab.kernel.accessAllowed ? 'block' : 'none';\n",
              "\n",
              "        async function convertToInteractive(key) {\n",
              "          const element = document.querySelector('#df-7a6f3b9f-ea72-4924-8557-11a9a58cbe08');\n",
              "          const dataTable =\n",
              "            await google.colab.kernel.invokeFunction('convertToInteractive',\n",
              "                                                     [key], {});\n",
              "          if (!dataTable) return;\n",
              "\n",
              "          const docLinkHtml = 'Like what you see? Visit the ' +\n",
              "            '<a target=\"_blank\" href=https://colab.research.google.com/notebooks/data_table.ipynb>data table notebook</a>'\n",
              "            + ' to learn more about interactive tables.';\n",
              "          element.innerHTML = '';\n",
              "          dataTable['output_type'] = 'display_data';\n",
              "          await google.colab.output.renderOutput(dataTable, element);\n",
              "          const docLink = document.createElement('div');\n",
              "          docLink.innerHTML = docLinkHtml;\n",
              "          element.appendChild(docLink);\n",
              "        }\n",
              "      </script>\n",
              "    </div>\n",
              "  </div>\n",
              "  "
            ]
          },
          "metadata": {},
          "execution_count": 19
        }
      ]
    },
    {
      "cell_type": "code",
      "source": [
        "#checking outliers of release column\n",
        "sns.boxplot(df.release_year)"
      ],
      "metadata": {
        "colab": {
          "base_uri": "https://localhost:8080/",
          "height": 456
        },
        "id": "SeuVsWJYPGGp",
        "outputId": "2a9706dc-3a5b-44e0-c578-88079a7d15c1"
      },
      "execution_count": 21,
      "outputs": [
        {
          "output_type": "execute_result",
          "data": {
            "text/plain": [
              "<Axes: >"
            ]
          },
          "metadata": {},
          "execution_count": 21
        },
        {
          "output_type": "display_data",
          "data": {
            "text/plain": [
              "<Figure size 640x480 with 1 Axes>"
            ],
            "image/png": "[encoded data removed]"
          },
          "metadata": {}
        }
      ]
    },
    {
      "cell_type": "code",
      "source": [
        "release_year_Q1 = df.release_year.quantile(0.25)\n",
        "release_year_Q3 = df.release_year.quantile(0.75)\n",
        "release_year_IQR = release_year_Q3 - release_year_Q1\n",
        "print(f'release_year_Q1 = {release_year_Q1}\\nrelease_year_Q3 = {release_year_Q3}\\nrelease_year_IQR = {release_year_IQR}')"
      ],
      "metadata": {
        "colab": {
          "base_uri": "https://localhost:8080/"
        },
        "id": "TeFGjyywPddz",
        "outputId": "405a7bed-6e99-44d1-f610-a2b4e5c9d63d"
      },
      "execution_count": 22,
      "outputs": [
        {
          "output_type": "stream",
          "name": "stdout",
          "text": [
            "release_year_Q1 = 2013.0\n",
            "release_year_Q3 = 2018.0\n",
            "release_year_IQR = 5.0\n"
          ]
        }
      ]
    },
    {
      "cell_type": "code",
      "source": [
        "release_year_outliers = df[(df.release_year < (release_year_Q1 - 1.5 * release_year_IQR)) |\n",
        "                           ( df.release_year > (release_year_Q3 + 1.5 * release_year_IQR)) ]"
      ],
      "metadata": {
        "id": "1K2oOfmUPg-x"
      },
      "execution_count": 23,
      "outputs": []
    },
    {
      "cell_type": "code",
      "source": [
        "release_year_outliers"
      ],
      "metadata": {
        "colab": {
          "base_uri": "https://localhost:8080/",
          "height": 742
        },
        "id": "sdwkTDmxPosg",
        "outputId": "731190ca-4444-4d83-c3f9-58303c822510"
      },
      "execution_count": 24,
      "outputs": [
        {
          "output_type": "execute_result",
          "data": {
            "text/plain": [
              "            type                 title         director  \\\n",
              "show_id                                                   \n",
              "s8         Movie                   187   Kevin Reynolds   \n",
              "s45        Movie              Æon Flux     Karyn Kusama   \n",
              "s95        Movie               28 Days     Betty Thomas   \n",
              "s98        Movie           3 Deewarein  Nagesh Kukunoor   \n",
              "s106       Movie   300 Miles to Heaven   Maciej Dejczer   \n",
              "...          ...                   ...              ...   \n",
              "s7746      Movie  Yours, Mine and Ours     Raja Gosnell   \n",
              "s7750    TV Show             Yu-Gi-Oh!              NaN   \n",
              "s7755      Movie                  Yuva      Mani Ratnam   \n",
              "s7761      Movie             Zaki Chan       Wael Ihsan   \n",
              "s7783      Movie                  Zozo      Josef Fares   \n",
              "\n",
              "                                                      cast  \\\n",
              "show_id                                                      \n",
              "s8       Samuel L. Jackson, John Heard, Kelly Rowan, Cl...   \n",
              "s45      Charlize Theron, Marton Csokas, Jonny Lee Mill...   \n",
              "s95      Sandra Bullock, Viggo Mortensen, Dominic West,...   \n",
              "s98      Naseeruddin Shah, Jackie Shroff, Juhi Chawla, ...   \n",
              "s106     Krzysztof Stroiński, Andrzej Mellin, Adrianna ...   \n",
              "...                                                    ...   \n",
              "s7746    Dennis Quaid, Rene Russo, Sean Faris, Katija P...   \n",
              "s7750    Dan Green, Eric Stuart, Amy Birnbaum, Darren D...   \n",
              "s7755    Ajay Devgn, Abhishek Bachchan, Vivek Oberoi, E...   \n",
              "s7761    Ahmed Helmy, Yasmin Abdulaziz, Hassan Hosny, H...   \n",
              "s7783    Imad Creidi, Antoinette Turk, Elias Gergi, Car...   \n",
              "\n",
              "                                                   country  \\\n",
              "show_id                                                      \n",
              "s8                                           United States   \n",
              "s45                                          United States   \n",
              "s95                                          United States   \n",
              "s98                                                    NaN   \n",
              "s106                               Denmark, France, Poland   \n",
              "...                                                    ...   \n",
              "s7746                                        United States   \n",
              "s7750                                                Japan   \n",
              "s7755                                                India   \n",
              "s7761                                                Egypt   \n",
              "s7783    Sweden, Czech Republic, United Kingdom, Denmar...   \n",
              "\n",
              "                 date_added  release_year rating   duration  \\\n",
              "show_id                                                       \n",
              "s8         November 1, 2019          1997      R    119 min   \n",
              "s45        February 1, 2018          2005  PG-13     93 min   \n",
              "s95      September 30, 2020          2000  PG-13    104 min   \n",
              "s98       December 31, 2019          2003  TV-MA    121 min   \n",
              "s106        October 1, 2019          1989  TV-14     93 min   \n",
              "...                     ...           ...    ...        ...   \n",
              "s7746     November 20, 2019          2005     PG     88 min   \n",
              "s7750          July 8, 2020          2005  TV-Y7  2 Seasons   \n",
              "s7755         March 1, 2018          2004  TV-14    160 min   \n",
              "s7761          May 19, 2020          2005  TV-PG    109 min   \n",
              "s7783      October 19, 2020          2005  TV-MA     99 min   \n",
              "\n",
              "                                               listed_in  \\\n",
              "show_id                                                    \n",
              "s8                                                Dramas   \n",
              "s45                 Action & Adventure, Sci-Fi & Fantasy   \n",
              "s95                                     Comedies, Dramas   \n",
              "s98              Dramas, International Movies, Thrillers   \n",
              "s106                        Dramas, International Movies   \n",
              "...                                                  ...   \n",
              "s7746                 Children & Family Movies, Comedies   \n",
              "s7750                             Anime Series, Kids' TV   \n",
              "s7755                       Dramas, International Movies   \n",
              "s7761    Comedies, International Movies, Romantic Movies   \n",
              "s7783                       Dramas, International Movies   \n",
              "\n",
              "                                               description  \n",
              "show_id                                                     \n",
              "s8       After one of his high school students attacks ...  \n",
              "s45      Aiming to hasten an uprising, the leader of an...  \n",
              "s95      After her drunken antics result in property da...  \n",
              "s98      A reporter interviews three convicts on death ...  \n",
              "s106     Hoping to help their dissident parents, two br...  \n",
              "...                                                    ...  \n",
              "s7746    When a father of eight and a mother of 10 prep...  \n",
              "s7750    The lives of young Yugi Moto and his friends J...  \n",
              "s7755    An accident on a bridge ties together three yo...  \n",
              "s7761    An unqualified young man has his work cut out ...  \n",
              "s7783    When Lebanon's Civil War deprives Zozo of his ...  \n",
              "\n",
              "[745 rows x 11 columns]"
            ],
            "text/html": [
              "\n",
              "  <div id=\"df-90adf5fb-d54d-4e4c-a4ff-8301836bf677\">\n",
              "    <div class=\"colab-df-container\">\n",
              "      <div>\n",
              "<style scoped>\n",
              "    .dataframe tbody tr th:only-of-type {\n",
              "        vertical-align: middle;\n",
              "    }\n",
              "\n",
              "    .dataframe tbody tr th {\n",
              "        vertical-align: top;\n",
              "    }\n",
              "\n",
              "    .dataframe thead th {\n",
              "        text-align: right;\n",
              "    }\n",
              "</style>\n",
              "<table border=\"1\" class=\"dataframe\">\n",
              "  <thead>\n",
              "    <tr style=\"text-align: right;\">\n",
              "      <th></th>\n",
              "      <th>type</th>\n",
              "      <th>title</th>\n",
              "      <th>director</th>\n",
              "      <th>cast</th>\n",
              "      <th>country</th>\n",
              "      <th>date_added</th>\n",
              "      <th>release_year</th>\n",
              "      <th>rating</th>\n",
              "      <th>duration</th>\n",
              "      <th>listed_in</th>\n",
              "      <th>description</th>\n",
              "    </tr>\n",
              "    <tr>\n",
              "      <th>show_id</th>\n",
              "      <th></th>\n",
              "      <th></th>\n",
              "      <th></th>\n",
              "      <th></th>\n",
              "      <th></th>\n",
              "      <th></th>\n",
              "      <th></th>\n",
              "      <th></th>\n",
              "      <th></th>\n",
              "      <th></th>\n",
              "      <th></th>\n",
              "    </tr>\n",
              "  </thead>\n",
              "  <tbody>\n",
              "    <tr>\n",
              "      <th>s8</th>\n",
              "      <td>Movie</td>\n",
              "      <td>187</td>\n",
              "      <td>Kevin Reynolds</td>\n",
              "      <td>Samuel L. Jackson, John Heard, Kelly Rowan, Cl...</td>\n",
              "      <td>United States</td>\n",
              "      <td>November 1, 2019</td>\n",
              "      <td>1997</td>\n",
              "      <td>R</td>\n",
              "      <td>119 min</td>\n",
              "      <td>Dramas</td>\n",
              "      <td>After one of his high school students attacks ...</td>\n",
              "    </tr>\n",
              "    <tr>\n",
              "      <th>s45</th>\n",
              "      <td>Movie</td>\n",
              "      <td>Æon Flux</td>\n",
              "      <td>Karyn Kusama</td>\n",
              "      <td>Charlize Theron, Marton Csokas, Jonny Lee Mill...</td>\n",
              "      <td>United States</td>\n",
              "      <td>February 1, 2018</td>\n",
              "      <td>2005</td>\n",
              "      <td>PG-13</td>\n",
              "      <td>93 min</td>\n",
              "      <td>Action &amp; Adventure, Sci-Fi &amp; Fantasy</td>\n",
              "      <td>Aiming to hasten an uprising, the leader of an...</td>\n",
              "    </tr>\n",
              "    <tr>\n",
              "      <th>s95</th>\n",
              "      <td>Movie</td>\n",
              "      <td>28 Days</td>\n",
              "      <td>Betty Thomas</td>\n",
              "      <td>Sandra Bullock, Viggo Mortensen, Dominic West,...</td>\n",
              "      <td>United States</td>\n",
              "      <td>September 30, 2020</td>\n",
              "      <td>2000</td>\n",
              "      <td>PG-13</td>\n",
              "      <td>104 min</td>\n",
              "      <td>Comedies, Dramas</td>\n",
              "      <td>After her drunken antics result in property da...</td>\n",
              "    </tr>\n",
              "    <tr>\n",
              "      <th>s98</th>\n",
              "      <td>Movie</td>\n",
              "      <td>3 Deewarein</td>\n",
              "      <td>Nagesh Kukunoor</td>\n",
              "      <td>Naseeruddin Shah, Jackie Shroff, Juhi Chawla, ...</td>\n",
              "      <td>NaN</td>\n",
              "      <td>December 31, 2019</td>\n",
              "      <td>2003</td>\n",
              "      <td>TV-MA</td>\n",
              "      <td>121 min</td>\n",
              "      <td>Dramas, International Movies, Thrillers</td>\n",
              "      <td>A reporter interviews three convicts on death ...</td>\n",
              "    </tr>\n",
              "    <tr>\n",
              "      <th>s106</th>\n",
              "      <td>Movie</td>\n",
              "      <td>300 Miles to Heaven</td>\n",
              "      <td>Maciej Dejczer</td>\n",
              "      <td>Krzysztof Stroiński, Andrzej Mellin, Adrianna ...</td>\n",
              "      <td>Denmark, France, Poland</td>\n",
              "      <td>October 1, 2019</td>\n",
              "      <td>1989</td>\n",
              "      <td>TV-14</td>\n",
              "      <td>93 min</td>\n",
              "      <td>Dramas, International Movies</td>\n",
              "      <td>Hoping to help their dissident parents, two br...</td>\n",
              "    </tr>\n",
              "    <tr>\n",
              "      <th>...</th>\n",
              "      <td>...</td>\n",
              "      <td>...</td>\n",
              "      <td>...</td>\n",
              "      <td>...</td>\n",
              "      <td>...</td>\n",
              "      <td>...</td>\n",
              "      <td>...</td>\n",
              "      <td>...</td>\n",
              "      <td>...</td>\n",
              "      <td>...</td>\n",
              "      <td>...</td>\n",
              "    </tr>\n",
              "    <tr>\n",
              "      <th>s7746</th>\n",
              "      <td>Movie</td>\n",
              "      <td>Yours, Mine and Ours</td>\n",
              "      <td>Raja Gosnell</td>\n",
              "      <td>Dennis Quaid, Rene Russo, Sean Faris, Katija P...</td>\n",
              "      <td>United States</td>\n",
              "      <td>November 20, 2019</td>\n",
              "      <td>2005</td>\n",
              "      <td>PG</td>\n",
              "      <td>88 min</td>\n",
              "      <td>Children &amp; Family Movies, Comedies</td>\n",
              "      <td>When a father of eight and a mother of 10 prep...</td>\n",
              "    </tr>\n",
              "    <tr>\n",
              "      <th>s7750</th>\n",
              "      <td>TV Show</td>\n",
              "      <td>Yu-Gi-Oh!</td>\n",
              "      <td>NaN</td>\n",
              "      <td>Dan Green, Eric Stuart, Amy Birnbaum, Darren D...</td>\n",
              "      <td>Japan</td>\n",
              "      <td>July 8, 2020</td>\n",
              "      <td>2005</td>\n",
              "      <td>TV-Y7</td>\n",
              "      <td>2 Seasons</td>\n",
              "      <td>Anime Series, Kids' TV</td>\n",
              "      <td>The lives of young Yugi Moto and his friends J...</td>\n",
              "    </tr>\n",
              "    <tr>\n",
              "      <th>s7755</th>\n",
              "      <td>Movie</td>\n",
              "      <td>Yuva</td>\n",
              "      <td>Mani Ratnam</td>\n",
              "      <td>Ajay Devgn, Abhishek Bachchan, Vivek Oberoi, E...</td>\n",
              "      <td>India</td>\n",
              "      <td>March 1, 2018</td>\n",
              "      <td>2004</td>\n",
              "      <td>TV-14</td>\n",
              "      <td>160 min</td>\n",
              "      <td>Dramas, International Movies</td>\n",
              "      <td>An accident on a bridge ties together three yo...</td>\n",
              "    </tr>\n",
              "    <tr>\n",
              "      <th>s7761</th>\n",
              "      <td>Movie</td>\n",
              "      <td>Zaki Chan</td>\n",
              "      <td>Wael Ihsan</td>\n",
              "      <td>Ahmed Helmy, Yasmin Abdulaziz, Hassan Hosny, H...</td>\n",
              "      <td>Egypt</td>\n",
              "      <td>May 19, 2020</td>\n",
              "      <td>2005</td>\n",
              "      <td>TV-PG</td>\n",
              "      <td>109 min</td>\n",
              "      <td>Comedies, International Movies, Romantic Movies</td>\n",
              "      <td>An unqualified young man has his work cut out ...</td>\n",
              "    </tr>\n",
              "    <tr>\n",
              "      <th>s7783</th>\n",
              "      <td>Movie</td>\n",
              "      <td>Zozo</td>\n",
              "      <td>Josef Fares</td>\n",
              "      <td>Imad Creidi, Antoinette Turk, Elias Gergi, Car...</td>\n",
              "      <td>Sweden, Czech Republic, United Kingdom, Denmar...</td>\n",
              "      <td>October 19, 2020</td>\n",
              "      <td>2005</td>\n",
              "      <td>TV-MA</td>\n",
              "      <td>99 min</td>\n",
              "      <td>Dramas, International Movies</td>\n",
              "      <td>When Lebanon's Civil War deprives Zozo of his ...</td>\n",
              "    </tr>\n",
              "  </tbody>\n",
              "</table>\n",
              "<p>745 rows × 11 columns</p>\n",
              "</div>\n",
              "      <button class=\"colab-df-convert\" onclick=\"convertToInteractive('df-90adf5fb-d54d-4e4c-a4ff-8301836bf677')\"\n",
              "              title=\"Convert this dataframe to an interactive table.\"\n",
              "              style=\"display:none;\">\n",
              "        \n",
              "  <svg xmlns=\"http://www.w3.org/2000/svg\" height=\"24px\"viewBox=\"0 0 24 24\"\n",
              "       width=\"24px\">\n",
              "    <path d=\"M0 0h24v24H0V0z\" fill=\"none\"/>\n",
              "    <path d=\"M18.56 5.44l.94 2.06.94-2.06 2.06-.94-2.06-.94-.94-2.06-.94 2.06-2.06.94zm-11 1L8.5 8.5l.94-2.06 2.06-.94-2.06-.94L8.5 2.5l-.94 2.06-2.06.94zm10 10l.94 2.06.94-2.06 2.06-.94-2.06-.94-.94-2.06-.94 2.06-2.06.94z\"/><path d=\"M17.41 7.96l-1.37-1.37c-.4-.4-.92-.59-1.43-.59-.52 0-1.04.2-1.43.59L10.3 9.45l-7.72 7.72c-.78.78-.78 2.05 0 2.83L4 21.41c.39.39.9.59 1.41.59.51 0 1.02-.2 1.41-.59l7.78-7.78 2.81-2.81c.8-.78.8-2.07 0-2.86zM5.41 20L4 18.59l7.72-7.72 1.47 1.35L5.41 20z\"/>\n",
              "  </svg>\n",
              "      </button>\n",
              "      \n",
              "  <style>\n",
              "    .colab-df-container {\n",
              "      display:flex;\n",
              "      flex-wrap:wrap;\n",
              "      gap: 12px;\n",
              "    }\n",
              "\n",
              "    .colab-df-convert {\n",
              "      background-color: #E8F0FE;\n",
              "      border: none;\n",
              "      border-radius: 50%;\n",
              "      cursor: pointer;\n",
              "      display: none;\n",
              "      fill: #1967D2;\n",
              "      height: 32px;\n",
              "      padding: 0 0 0 0;\n",
              "      width: 32px;\n",
              "    }\n",
              "\n",
              "    .colab-df-convert:hover {\n",
              "      background-color: #E2EBFA;\n",
              "      box-shadow: 0px 1px 2px rgba(60, 64, 67, 0.3), 0px 1px 3px 1px rgba(60, 64, 67, 0.15);\n",
              "      fill: #174EA6;\n",
              "    }\n",
              "\n",
              "    [theme=dark] .colab-df-convert {\n",
              "      background-color: #3B4455;\n",
              "      fill: #D2E3FC;\n",
              "    }\n",
              "\n",
              "    [theme=dark] .colab-df-convert:hover {\n",
              "      background-color: #434B5C;\n",
              "      box-shadow: 0px 1px 3px 1px rgba(0, 0, 0, 0.15);\n",
              "      filter: drop-shadow(0px 1px 2px rgba(0, 0, 0, 0.3));\n",
              "      fill: #FFFFFF;\n",
              "    }\n",
              "  </style>\n",
              "\n",
              "      <script>\n",
              "        const buttonEl =\n",
              "          document.querySelector('#df-90adf5fb-d54d-4e4c-a4ff-8301836bf677 button.colab-df-convert');\n",
              "        buttonEl.style.display =\n",
              "          google.colab.kernel.accessAllowed ? 'block' : 'none';\n",
              "\n",
              "        async function convertToInteractive(key) {\n",
              "          const element = document.querySelector('#df-90adf5fb-d54d-4e4c-a4ff-8301836bf677');\n",
              "          const dataTable =\n",
              "            await google.colab.kernel.invokeFunction('convertToInteractive',\n",
              "                                                     [key], {});\n",
              "          if (!dataTable) return;\n",
              "\n",
              "          const docLinkHtml = 'Like what you see? Visit the ' +\n",
              "            '<a target=\"_blank\" href=https://colab.research.google.com/notebooks/data_table.ipynb>data table notebook</a>'\n",
              "            + ' to learn more about interactive tables.';\n",
              "          element.innerHTML = '';\n",
              "          dataTable['output_type'] = 'display_data';\n",
              "          await google.colab.output.renderOutput(dataTable, element);\n",
              "          const docLink = document.createElement('div');\n",
              "          docLink.innerHTML = docLinkHtml;\n",
              "          element.appendChild(docLink);\n",
              "        }\n",
              "      </script>\n",
              "    </div>\n",
              "  </div>\n",
              "  "
            ]
          },
          "metadata": {},
          "execution_count": 24
        }
      ]
    },
    {
      "cell_type": "code",
      "source": [
        "# 15 percentile value is 2009\n",
        "df[\"release_year\"] = np.where(df[\"release_year\"] <2009, df.release_year.mean(),df['release_year'])"
      ],
      "metadata": {
        "id": "rOimEVCOP5JP"
      },
      "execution_count": 25,
      "outputs": []
    },
    {
      "cell_type": "code",
      "source": [
        "df.release_year.describe()"
      ],
      "metadata": {
        "colab": {
          "base_uri": "https://localhost:8080/"
        },
        "id": "VtKF-uwIP8h5",
        "outputId": "41eadb69-cd15-4702-896c-909aacb3fd31"
      },
      "execution_count": 26,
      "outputs": [
        {
          "output_type": "execute_result",
          "data": {
            "text/plain": [
              "count    7787.000000\n",
              "mean     2016.257594\n",
              "std         2.727605\n",
              "min      2009.000000\n",
              "25%      2013.932580\n",
              "50%      2017.000000\n",
              "75%      2018.000000\n",
              "max      2021.000000\n",
              "Name: release_year, dtype: float64"
            ]
          },
          "metadata": {},
          "execution_count": 26
        }
      ]
    },
    {
      "cell_type": "code",
      "source": [
        "print(f\"Datatype of release_year = \",type(df.release_year.iloc[0]))\n",
        "df.release_year = df.release_year.astype(\"int64\")\n",
        "print(f\"Datatype of release_year = \",type(df.release_year.iloc[0]))"
      ],
      "metadata": {
        "colab": {
          "base_uri": "https://localhost:8080/"
        },
        "id": "4DzlSz_lQGzR",
        "outputId": "d9c73482-8a67-4bd3-8237-b00364ed2e90"
      },
      "execution_count": 28,
      "outputs": [
        {
          "output_type": "stream",
          "name": "stdout",
          "text": [
            "Datatype of release_year =  <class 'numpy.float64'>\n",
            "Datatype of release_year =  <class 'numpy.int64'>\n"
          ]
        }
      ]
    },
    {
      "cell_type": "code",
      "source": [
        "df.title.nunique()"
      ],
      "metadata": {
        "colab": {
          "base_uri": "https://localhost:8080/"
        },
        "id": "nH2Yx6uSQKvg",
        "outputId": "c887a5ba-d981-4304-8f96-48aa8a7fe7df"
      },
      "execution_count": 29,
      "outputs": [
        {
          "output_type": "execute_result",
          "data": {
            "text/plain": [
              "7787"
            ]
          },
          "metadata": {},
          "execution_count": 29
        }
      ]
    },
    {
      "cell_type": "code",
      "source": [
        "#checking number of unique values present in the country\n",
        "df.country.nunique()"
      ],
      "metadata": {
        "colab": {
          "base_uri": "https://localhost:8080/"
        },
        "id": "TvLt6FW0QeUA",
        "outputId": "82b6928c-9b70-426b-a9ea-a587229d038a"
      },
      "execution_count": 31,
      "outputs": [
        {
          "output_type": "execute_result",
          "data": {
            "text/plain": [
              "681"
            ]
          },
          "metadata": {},
          "execution_count": 31
        }
      ]
    },
    {
      "cell_type": "code",
      "source": [
        "df.country.value_counts().rename_axis('Country').reset_index(name='counts').T"
      ],
      "metadata": {
        "colab": {
          "base_uri": "https://localhost:8080/",
          "height": 272
        },
        "id": "HBkwcSjuQfjA",
        "outputId": "ebc76621-0634-435f-c7dc-ed8af541c487"
      },
      "execution_count": 32,
      "outputs": [
        {
          "output_type": "execute_result",
          "data": {
            "text/plain": [
              "                   0      1               2      3            4       5    \\\n",
              "Country  United States  India  United Kingdom  Japan  South Korea  Canada   \n",
              "counts            2555    923             397    226          183     177   \n",
              "\n",
              "           6       7      8       9    ...                                671  \\\n",
              "Country  Spain  France  Egypt  Turkey  ...  United States, South Korea, Japan   \n",
              "counts     134     115    101     100  ...                                  1   \n",
              "\n",
              "                                                       672  \\\n",
              "Country  Lebanon, United Arab Emirates, France, Switzer...   \n",
              "counts                                                   1   \n",
              "\n",
              "                                673                     674  \\\n",
              "Country  France, Australia, Germany  Ireland, United States   \n",
              "counts                            1                       1   \n",
              "\n",
              "                                    675                           676  \\\n",
              "Country  United States, Canada, Germany  Russia, United States, China   \n",
              "counts                                1                             1   \n",
              "\n",
              "                                         677  \\\n",
              "Country  Italy, Switzerland, France, Germany   \n",
              "counts                                     1   \n",
              "\n",
              "                                           678  \\\n",
              "Country  United States, United Kingdom, Canada   \n",
              "counts                                       1   \n",
              "\n",
              "                                          679  \\\n",
              "Country  United States, United Kingdom, Japan   \n",
              "counts                                      1   \n",
              "\n",
              "                                                       680  \n",
              "Country  Sweden, Czech Republic, United Kingdom, Denmar...  \n",
              "counts                                                   1  \n",
              "\n",
              "[2 rows x 681 columns]"
            ],
            "text/html": [
              "\n",
              "  <div id=\"df-aa0bb726-73d4-4c5d-b59b-9a4d0f2b0a64\">\n",
              "    <div class=\"colab-df-container\">\n",
              "      <div>\n",
              "<style scoped>\n",
              "    .dataframe tbody tr th:only-of-type {\n",
              "        vertical-align: middle;\n",
              "    }\n",
              "\n",
              "    .dataframe tbody tr th {\n",
              "        vertical-align: top;\n",
              "    }\n",
              "\n",
              "    .dataframe thead th {\n",
              "        text-align: right;\n",
              "    }\n",
              "</style>\n",
              "<table border=\"1\" class=\"dataframe\">\n",
              "  <thead>\n",
              "    <tr style=\"text-align: right;\">\n",
              "      <th></th>\n",
              "      <th>0</th>\n",
              "      <th>1</th>\n",
              "      <th>2</th>\n",
              "      <th>3</th>\n",
              "      <th>4</th>\n",
              "      <th>5</th>\n",
              "      <th>6</th>\n",
              "      <th>7</th>\n",
              "      <th>8</th>\n",
              "      <th>9</th>\n",
              "      <th>...</th>\n",
              "      <th>671</th>\n",
              "      <th>672</th>\n",
              "      <th>673</th>\n",
              "      <th>674</th>\n",
              "      <th>675</th>\n",
              "      <th>676</th>\n",
              "      <th>677</th>\n",
              "      <th>678</th>\n",
              "      <th>679</th>\n",
              "      <th>680</th>\n",
              "    </tr>\n",
              "  </thead>\n",
              "  <tbody>\n",
              "    <tr>\n",
              "      <th>Country</th>\n",
              "      <td>United States</td>\n",
              "      <td>India</td>\n",
              "      <td>United Kingdom</td>\n",
              "      <td>Japan</td>\n",
              "      <td>South Korea</td>\n",
              "      <td>Canada</td>\n",
              "      <td>Spain</td>\n",
              "      <td>France</td>\n",
              "      <td>Egypt</td>\n",
              "      <td>Turkey</td>\n",
              "      <td>...</td>\n",
              "      <td>United States, South Korea, Japan</td>\n",
              "      <td>Lebanon, United Arab Emirates, France, Switzer...</td>\n",
              "      <td>France, Australia, Germany</td>\n",
              "      <td>Ireland, United States</td>\n",
              "      <td>United States, Canada, Germany</td>\n",
              "      <td>Russia, United States, China</td>\n",
              "      <td>Italy, Switzerland, France, Germany</td>\n",
              "      <td>United States, United Kingdom, Canada</td>\n",
              "      <td>United States, United Kingdom, Japan</td>\n",
              "      <td>Sweden, Czech Republic, United Kingdom, Denmar...</td>\n",
              "    </tr>\n",
              "    <tr>\n",
              "      <th>counts</th>\n",
              "      <td>2555</td>\n",
              "      <td>923</td>\n",
              "      <td>397</td>\n",
              "      <td>226</td>\n",
              "      <td>183</td>\n",
              "      <td>177</td>\n",
              "      <td>134</td>\n",
              "      <td>115</td>\n",
              "      <td>101</td>\n",
              "      <td>100</td>\n",
              "      <td>...</td>\n",
              "      <td>1</td>\n",
              "      <td>1</td>\n",
              "      <td>1</td>\n",
              "      <td>1</td>\n",
              "      <td>1</td>\n",
              "      <td>1</td>\n",
              "      <td>1</td>\n",
              "      <td>1</td>\n",
              "      <td>1</td>\n",
              "      <td>1</td>\n",
              "    </tr>\n",
              "  </tbody>\n",
              "</table>\n",
              "<p>2 rows × 681 columns</p>\n",
              "</div>\n",
              "      <button class=\"colab-df-convert\" onclick=\"convertToInteractive('df-aa0bb726-73d4-4c5d-b59b-9a4d0f2b0a64')\"\n",
              "              title=\"Convert this dataframe to an interactive table.\"\n",
              "              style=\"display:none;\">\n",
              "        \n",
              "  <svg xmlns=\"http://www.w3.org/2000/svg\" height=\"24px\"viewBox=\"0 0 24 24\"\n",
              "       width=\"24px\">\n",
              "    <path d=\"M0 0h24v24H0V0z\" fill=\"none\"/>\n",
              "    <path d=\"M18.56 5.44l.94 2.06.94-2.06 2.06-.94-2.06-.94-.94-2.06-.94 2.06-2.06.94zm-11 1L8.5 8.5l.94-2.06 2.06-.94-2.06-.94L8.5 2.5l-.94 2.06-2.06.94zm10 10l.94 2.06.94-2.06 2.06-.94-2.06-.94-.94-2.06-.94 2.06-2.06.94z\"/><path d=\"M17.41 7.96l-1.37-1.37c-.4-.4-.92-.59-1.43-.59-.52 0-1.04.2-1.43.59L10.3 9.45l-7.72 7.72c-.78.78-.78 2.05 0 2.83L4 21.41c.39.39.9.59 1.41.59.51 0 1.02-.2 1.41-.59l7.78-7.78 2.81-2.81c.8-.78.8-2.07 0-2.86zM5.41 20L4 18.59l7.72-7.72 1.47 1.35L5.41 20z\"/>\n",
              "  </svg>\n",
              "      </button>\n",
              "      \n",
              "  <style>\n",
              "    .colab-df-container {\n",
              "      display:flex;\n",
              "      flex-wrap:wrap;\n",
              "      gap: 12px;\n",
              "    }\n",
              "\n",
              "    .colab-df-convert {\n",
              "      background-color: #E8F0FE;\n",
              "      border: none;\n",
              "      border-radius: 50%;\n",
              "      cursor: pointer;\n",
              "      display: none;\n",
              "      fill: #1967D2;\n",
              "      height: 32px;\n",
              "      padding: 0 0 0 0;\n",
              "      width: 32px;\n",
              "    }\n",
              "\n",
              "    .colab-df-convert:hover {\n",
              "      background-color: #E2EBFA;\n",
              "      box-shadow: 0px 1px 2px rgba(60, 64, 67, 0.3), 0px 1px 3px 1px rgba(60, 64, 67, 0.15);\n",
              "      fill: #174EA6;\n",
              "    }\n",
              "\n",
              "    [theme=dark] .colab-df-convert {\n",
              "      background-color: #3B4455;\n",
              "      fill: #D2E3FC;\n",
              "    }\n",
              "\n",
              "    [theme=dark] .colab-df-convert:hover {\n",
              "      background-color: #434B5C;\n",
              "      box-shadow: 0px 1px 3px 1px rgba(0, 0, 0, 0.15);\n",
              "      filter: drop-shadow(0px 1px 2px rgba(0, 0, 0, 0.3));\n",
              "      fill: #FFFFFF;\n",
              "    }\n",
              "  </style>\n",
              "\n",
              "      <script>\n",
              "        const buttonEl =\n",
              "          document.querySelector('#df-aa0bb726-73d4-4c5d-b59b-9a4d0f2b0a64 button.colab-df-convert');\n",
              "        buttonEl.style.display =\n",
              "          google.colab.kernel.accessAllowed ? 'block' : 'none';\n",
              "\n",
              "        async function convertToInteractive(key) {\n",
              "          const element = document.querySelector('#df-aa0bb726-73d4-4c5d-b59b-9a4d0f2b0a64');\n",
              "          const dataTable =\n",
              "            await google.colab.kernel.invokeFunction('convertToInteractive',\n",
              "                                                     [key], {});\n",
              "          if (!dataTable) return;\n",
              "\n",
              "          const docLinkHtml = 'Like what you see? Visit the ' +\n",
              "            '<a target=\"_blank\" href=https://colab.research.google.com/notebooks/data_table.ipynb>data table notebook</a>'\n",
              "            + ' to learn more about interactive tables.';\n",
              "          element.innerHTML = '';\n",
              "          dataTable['output_type'] = 'display_data';\n",
              "          await google.colab.output.renderOutput(dataTable, element);\n",
              "          const docLink = document.createElement('div');\n",
              "          docLink.innerHTML = docLinkHtml;\n",
              "          element.appendChild(docLink);\n",
              "        }\n",
              "      </script>\n",
              "    </div>\n",
              "  </div>\n",
              "  "
            ]
          },
          "metadata": {},
          "execution_count": 32
        }
      ]
    },
    {
      "cell_type": "code",
      "source": [
        "#checking number of nan values\n",
        "df.country.isna().sum()"
      ],
      "metadata": {
        "colab": {
          "base_uri": "https://localhost:8080/"
        },
        "id": "1npnFE4MQvLm",
        "outputId": "fd43f1d6-b050-4616-a90d-5befcdf1d3e8"
      },
      "execution_count": 33,
      "outputs": [
        {
          "output_type": "execute_result",
          "data": {
            "text/plain": [
              "507"
            ]
          },
          "metadata": {},
          "execution_count": 33
        }
      ]
    },
    {
      "cell_type": "code",
      "source": [
        "#mode value of country column\n",
        "df.country.mode()[0]"
      ],
      "metadata": {
        "colab": {
          "base_uri": "https://localhost:8080/",
          "height": 36
        },
        "id": "Eu0lXyHfQ3ug",
        "outputId": "f005d91a-705f-4c57-e13c-5487f440e526"
      },
      "execution_count": 34,
      "outputs": [
        {
          "output_type": "execute_result",
          "data": {
            "text/plain": [
              "'United States'"
            ],
            "application/vnd.google.colaboratory.intrinsic+json": {
              "type": "string"
            }
          },
          "metadata": {},
          "execution_count": 34
        }
      ]
    },
    {
      "cell_type": "code",
      "source": [
        "df.country[df.country.isna()] = df.country.mode()[0]"
      ],
      "metadata": {
        "id": "1pdeMQwgQ7mg"
      },
      "execution_count": 35,
      "outputs": []
    },
    {
      "cell_type": "code",
      "source": [
        "df.country[df.country.isna()]"
      ],
      "metadata": {
        "colab": {
          "base_uri": "https://localhost:8080/"
        },
        "id": "_57T1tOAQ-aY",
        "outputId": "dd8cc810-f2aa-46f0-ddee-f61c908739d2"
      },
      "execution_count": 36,
      "outputs": [
        {
          "output_type": "execute_result",
          "data": {
            "text/plain": [
              "Series([], Name: country, dtype: object)"
            ]
          },
          "metadata": {},
          "execution_count": 36
        }
      ]
    },
    {
      "cell_type": "code",
      "source": [
        "df.country.isna().sum()"
      ],
      "metadata": {
        "colab": {
          "base_uri": "https://localhost:8080/"
        },
        "id": "rjrwWisERBXH",
        "outputId": "92657b89-f949-4412-c966-43dc94b11cfc"
      },
      "execution_count": 37,
      "outputs": [
        {
          "output_type": "execute_result",
          "data": {
            "text/plain": [
              "0"
            ]
          },
          "metadata": {},
          "execution_count": 37
        }
      ]
    },
    {
      "cell_type": "code",
      "source": [
        "country_list=[]\n",
        "tv_show=[]\n",
        "movies=[]\n",
        "for i in range(0,len(df)):\n",
        "  if isinstance(df['country'].iloc[i] , str):\n",
        "    split=df['country'].iloc[i].split(',')\n",
        "    for k in split:\n",
        "      country_list.append(k.strip())\n",
        "      if df['type'].iloc[i]=='TV Show':\n",
        "        tv_show.append(k.strip())\n",
        "      if df['type'].iloc[i]== 'Movie':\n",
        "        movies.append(k.strip())\n",
        "production_country=list(set([(i,country_list.count(i),tv_show.count(i),movies.count(i)) for i in country_list]))"
      ],
      "metadata": {
        "id": "lb2mFY9cRHNA"
      },
      "execution_count": 38,
      "outputs": []
    },
    {
      "cell_type": "code",
      "source": [
        "production_country[:5]"
      ],
      "metadata": {
        "colab": {
          "base_uri": "https://localhost:8080/"
        },
        "id": "o1Kl_KCMRNFy",
        "outputId": "4803e5d9-f975-4911-e3fe-a6509ccd91ed"
      },
      "execution_count": 39,
      "outputs": [
        {
          "output_type": "execute_result",
          "data": {
            "text/plain": [
              "[('Malaysia', 26, 8, 18),\n",
              " ('', 4, 0, 4),\n",
              " ('Belarus', 1, 1, 0),\n",
              " ('Guatemala', 2, 0, 2),\n",
              " ('Czech Republic', 20, 6, 14)]"
            ]
          },
          "metadata": {},
          "execution_count": 39
        }
      ]
    },
    {
      "cell_type": "code",
      "source": [
        "country_df= pd.DataFrame(production_country,columns=['country','Productions','TV-Shows','Movies'])\n",
        "country_df=country_df.sort_values('Productions',ascending=False)\n",
        "country_df=country_df.reset_index()\n",
        "country_df=country_df.drop('index',axis=1)"
      ],
      "metadata": {
        "id": "r-aSjDFPRQIw"
      },
      "execution_count": 40,
      "outputs": []
    },
    {
      "cell_type": "code",
      "source": [
        "#Top 5 countries\n",
        "top_countries=country_df.head()\n",
        "top_countries"
      ],
      "metadata": {
        "colab": {
          "base_uri": "https://localhost:8080/",
          "height": 206
        },
        "id": "aFKTdd5ORSyt",
        "outputId": "4cee5c53-f684-4d1f-bc93-fd758f0594ec"
      },
      "execution_count": 41,
      "outputs": [
        {
          "output_type": "execute_result",
          "data": {
            "text/plain": [
              "          country  Productions  TV-Shows  Movies\n",
              "0   United States         3804      1143    2661\n",
              "1           India          990        75     915\n",
              "2  United Kingdom          723       256     467\n",
              "3          Canada          412       126     286\n",
              "4          France          349        84     265"
            ],
            "text/html": [
              "\n",
              "  <div id=\"df-f1f0e797-e58d-4010-b7c8-00f1f26a4e7d\">\n",
              "    <div class=\"colab-df-container\">\n",
              "      <div>\n",
              "<style scoped>\n",
              "    .dataframe tbody tr th:only-of-type {\n",
              "        vertical-align: middle;\n",
              "    }\n",
              "\n",
              "    .dataframe tbody tr th {\n",
              "        vertical-align: top;\n",
              "    }\n",
              "\n",
              "    .dataframe thead th {\n",
              "        text-align: right;\n",
              "    }\n",
              "</style>\n",
              "<table border=\"1\" class=\"dataframe\">\n",
              "  <thead>\n",
              "    <tr style=\"text-align: right;\">\n",
              "      <th></th>\n",
              "      <th>country</th>\n",
              "      <th>Productions</th>\n",
              "      <th>TV-Shows</th>\n",
              "      <th>Movies</th>\n",
              "    </tr>\n",
              "  </thead>\n",
              "  <tbody>\n",
              "    <tr>\n",
              "      <th>0</th>\n",
              "      <td>United States</td>\n",
              "      <td>3804</td>\n",
              "      <td>1143</td>\n",
              "      <td>2661</td>\n",
              "    </tr>\n",
              "    <tr>\n",
              "      <th>1</th>\n",
              "      <td>India</td>\n",
              "      <td>990</td>\n",
              "      <td>75</td>\n",
              "      <td>915</td>\n",
              "    </tr>\n",
              "    <tr>\n",
              "      <th>2</th>\n",
              "      <td>United Kingdom</td>\n",
              "      <td>723</td>\n",
              "      <td>256</td>\n",
              "      <td>467</td>\n",
              "    </tr>\n",
              "    <tr>\n",
              "      <th>3</th>\n",
              "      <td>Canada</td>\n",
              "      <td>412</td>\n",
              "      <td>126</td>\n",
              "      <td>286</td>\n",
              "    </tr>\n",
              "    <tr>\n",
              "      <th>4</th>\n",
              "      <td>France</td>\n",
              "      <td>349</td>\n",
              "      <td>84</td>\n",
              "      <td>265</td>\n",
              "    </tr>\n",
              "  </tbody>\n",
              "</table>\n",
              "</div>\n",
              "      <button class=\"colab-df-convert\" onclick=\"convertToInteractive('df-f1f0e797-e58d-4010-b7c8-00f1f26a4e7d')\"\n",
              "              title=\"Convert this dataframe to an interactive table.\"\n",
              "              style=\"display:none;\">\n",
              "        \n",
              "  <svg xmlns=\"http://www.w3.org/2000/svg\" height=\"24px\"viewBox=\"0 0 24 24\"\n",
              "       width=\"24px\">\n",
              "    <path d=\"M0 0h24v24H0V0z\" fill=\"none\"/>\n",
              "    <path d=\"M18.56 5.44l.94 2.06.94-2.06 2.06-.94-2.06-.94-.94-2.06-.94 2.06-2.06.94zm-11 1L8.5 8.5l.94-2.06 2.06-.94-2.06-.94L8.5 2.5l-.94 2.06-2.06.94zm10 10l.94 2.06.94-2.06 2.06-.94-2.06-.94-.94-2.06-.94 2.06-2.06.94z\"/><path d=\"M17.41 7.96l-1.37-1.37c-.4-.4-.92-.59-1.43-.59-.52 0-1.04.2-1.43.59L10.3 9.45l-7.72 7.72c-.78.78-.78 2.05 0 2.83L4 21.41c.39.39.9.59 1.41.59.51 0 1.02-.2 1.41-.59l7.78-7.78 2.81-2.81c.8-.78.8-2.07 0-2.86zM5.41 20L4 18.59l7.72-7.72 1.47 1.35L5.41 20z\"/>\n",
              "  </svg>\n",
              "      </button>\n",
              "      \n",
              "  <style>\n",
              "    .colab-df-container {\n",
              "      display:flex;\n",
              "      flex-wrap:wrap;\n",
              "      gap: 12px;\n",
              "    }\n",
              "\n",
              "    .colab-df-convert {\n",
              "      background-color: #E8F0FE;\n",
              "      border: none;\n",
              "      border-radius: 50%;\n",
              "      cursor: pointer;\n",
              "      display: none;\n",
              "      fill: #1967D2;\n",
              "      height: 32px;\n",
              "      padding: 0 0 0 0;\n",
              "      width: 32px;\n",
              "    }\n",
              "\n",
              "    .colab-df-convert:hover {\n",
              "      background-color: #E2EBFA;\n",
              "      box-shadow: 0px 1px 2px rgba(60, 64, 67, 0.3), 0px 1px 3px 1px rgba(60, 64, 67, 0.15);\n",
              "      fill: #174EA6;\n",
              "    }\n",
              "\n",
              "    [theme=dark] .colab-df-convert {\n",
              "      background-color: #3B4455;\n",
              "      fill: #D2E3FC;\n",
              "    }\n",
              "\n",
              "    [theme=dark] .colab-df-convert:hover {\n",
              "      background-color: #434B5C;\n",
              "      box-shadow: 0px 1px 3px 1px rgba(0, 0, 0, 0.15);\n",
              "      filter: drop-shadow(0px 1px 2px rgba(0, 0, 0, 0.3));\n",
              "      fill: #FFFFFF;\n",
              "    }\n",
              "  </style>\n",
              "\n",
              "      <script>\n",
              "        const buttonEl =\n",
              "          document.querySelector('#df-f1f0e797-e58d-4010-b7c8-00f1f26a4e7d button.colab-df-convert');\n",
              "        buttonEl.style.display =\n",
              "          google.colab.kernel.accessAllowed ? 'block' : 'none';\n",
              "\n",
              "        async function convertToInteractive(key) {\n",
              "          const element = document.querySelector('#df-f1f0e797-e58d-4010-b7c8-00f1f26a4e7d');\n",
              "          const dataTable =\n",
              "            await google.colab.kernel.invokeFunction('convertToInteractive',\n",
              "                                                     [key], {});\n",
              "          if (!dataTable) return;\n",
              "\n",
              "          const docLinkHtml = 'Like what you see? Visit the ' +\n",
              "            '<a target=\"_blank\" href=https://colab.research.google.com/notebooks/data_table.ipynb>data table notebook</a>'\n",
              "            + ' to learn more about interactive tables.';\n",
              "          element.innerHTML = '';\n",
              "          dataTable['output_type'] = 'display_data';\n",
              "          await google.colab.output.renderOutput(dataTable, element);\n",
              "          const docLink = document.createElement('div');\n",
              "          docLink.innerHTML = docLinkHtml;\n",
              "          element.appendChild(docLink);\n",
              "        }\n",
              "      </script>\n",
              "    </div>\n",
              "  </div>\n",
              "  "
            ]
          },
          "metadata": {},
          "execution_count": 41
        }
      ]
    },
    {
      "cell_type": "code",
      "source": [
        "top_countries.T"
      ],
      "metadata": {
        "colab": {
          "base_uri": "https://localhost:8080/",
          "height": 175
        },
        "id": "SjwpI3XtRS6E",
        "outputId": "e8f4e89c-1c2d-4390-d634-eac937fb119c"
      },
      "execution_count": 42,
      "outputs": [
        {
          "output_type": "execute_result",
          "data": {
            "text/plain": [
              "                         0      1               2       3       4\n",
              "country      United States  India  United Kingdom  Canada  France\n",
              "Productions           3804    990             723     412     349\n",
              "TV-Shows              1143     75             256     126      84\n",
              "Movies                2661    915             467     286     265"
            ],
            "text/html": [
              "\n",
              "  <div id=\"df-aceec7b7-4f96-448e-a3a6-c2b60594d68b\">\n",
              "    <div class=\"colab-df-container\">\n",
              "      <div>\n",
              "<style scoped>\n",
              "    .dataframe tbody tr th:only-of-type {\n",
              "        vertical-align: middle;\n",
              "    }\n",
              "\n",
              "    .dataframe tbody tr th {\n",
              "        vertical-align: top;\n",
              "    }\n",
              "\n",
              "    .dataframe thead th {\n",
              "        text-align: right;\n",
              "    }\n",
              "</style>\n",
              "<table border=\"1\" class=\"dataframe\">\n",
              "  <thead>\n",
              "    <tr style=\"text-align: right;\">\n",
              "      <th></th>\n",
              "      <th>0</th>\n",
              "      <th>1</th>\n",
              "      <th>2</th>\n",
              "      <th>3</th>\n",
              "      <th>4</th>\n",
              "    </tr>\n",
              "  </thead>\n",
              "  <tbody>\n",
              "    <tr>\n",
              "      <th>country</th>\n",
              "      <td>United States</td>\n",
              "      <td>India</td>\n",
              "      <td>United Kingdom</td>\n",
              "      <td>Canada</td>\n",
              "      <td>France</td>\n",
              "    </tr>\n",
              "    <tr>\n",
              "      <th>Productions</th>\n",
              "      <td>3804</td>\n",
              "      <td>990</td>\n",
              "      <td>723</td>\n",
              "      <td>412</td>\n",
              "      <td>349</td>\n",
              "    </tr>\n",
              "    <tr>\n",
              "      <th>TV-Shows</th>\n",
              "      <td>1143</td>\n",
              "      <td>75</td>\n",
              "      <td>256</td>\n",
              "      <td>126</td>\n",
              "      <td>84</td>\n",
              "    </tr>\n",
              "    <tr>\n",
              "      <th>Movies</th>\n",
              "      <td>2661</td>\n",
              "      <td>915</td>\n",
              "      <td>467</td>\n",
              "      <td>286</td>\n",
              "      <td>265</td>\n",
              "    </tr>\n",
              "  </tbody>\n",
              "</table>\n",
              "</div>\n",
              "      <button class=\"colab-df-convert\" onclick=\"convertToInteractive('df-aceec7b7-4f96-448e-a3a6-c2b60594d68b')\"\n",
              "              title=\"Convert this dataframe to an interactive table.\"\n",
              "              style=\"display:none;\">\n",
              "        \n",
              "  <svg xmlns=\"http://www.w3.org/2000/svg\" height=\"24px\"viewBox=\"0 0 24 24\"\n",
              "       width=\"24px\">\n",
              "    <path d=\"M0 0h24v24H0V0z\" fill=\"none\"/>\n",
              "    <path d=\"M18.56 5.44l.94 2.06.94-2.06 2.06-.94-2.06-.94-.94-2.06-.94 2.06-2.06.94zm-11 1L8.5 8.5l.94-2.06 2.06-.94-2.06-.94L8.5 2.5l-.94 2.06-2.06.94zm10 10l.94 2.06.94-2.06 2.06-.94-2.06-.94-.94-2.06-.94 2.06-2.06.94z\"/><path d=\"M17.41 7.96l-1.37-1.37c-.4-.4-.92-.59-1.43-.59-.52 0-1.04.2-1.43.59L10.3 9.45l-7.72 7.72c-.78.78-.78 2.05 0 2.83L4 21.41c.39.39.9.59 1.41.59.51 0 1.02-.2 1.41-.59l7.78-7.78 2.81-2.81c.8-.78.8-2.07 0-2.86zM5.41 20L4 18.59l7.72-7.72 1.47 1.35L5.41 20z\"/>\n",
              "  </svg>\n",
              "      </button>\n",
              "      \n",
              "  <style>\n",
              "    .colab-df-container {\n",
              "      display:flex;\n",
              "      flex-wrap:wrap;\n",
              "      gap: 12px;\n",
              "    }\n",
              "\n",
              "    .colab-df-convert {\n",
              "      background-color: #E8F0FE;\n",
              "      border: none;\n",
              "      border-radius: 50%;\n",
              "      cursor: pointer;\n",
              "      display: none;\n",
              "      fill: #1967D2;\n",
              "      height: 32px;\n",
              "      padding: 0 0 0 0;\n",
              "      width: 32px;\n",
              "    }\n",
              "\n",
              "    .colab-df-convert:hover {\n",
              "      background-color: #E2EBFA;\n",
              "      box-shadow: 0px 1px 2px rgba(60, 64, 67, 0.3), 0px 1px 3px 1px rgba(60, 64, 67, 0.15);\n",
              "      fill: #174EA6;\n",
              "    }\n",
              "\n",
              "    [theme=dark] .colab-df-convert {\n",
              "      background-color: #3B4455;\n",
              "      fill: #D2E3FC;\n",
              "    }\n",
              "\n",
              "    [theme=dark] .colab-df-convert:hover {\n",
              "      background-color: #434B5C;\n",
              "      box-shadow: 0px 1px 3px 1px rgba(0, 0, 0, 0.15);\n",
              "      filter: drop-shadow(0px 1px 2px rgba(0, 0, 0, 0.3));\n",
              "      fill: #FFFFFF;\n",
              "    }\n",
              "  </style>\n",
              "\n",
              "      <script>\n",
              "        const buttonEl =\n",
              "          document.querySelector('#df-aceec7b7-4f96-448e-a3a6-c2b60594d68b button.colab-df-convert');\n",
              "        buttonEl.style.display =\n",
              "          google.colab.kernel.accessAllowed ? 'block' : 'none';\n",
              "\n",
              "        async function convertToInteractive(key) {\n",
              "          const element = document.querySelector('#df-aceec7b7-4f96-448e-a3a6-c2b60594d68b');\n",
              "          const dataTable =\n",
              "            await google.colab.kernel.invokeFunction('convertToInteractive',\n",
              "                                                     [key], {});\n",
              "          if (!dataTable) return;\n",
              "\n",
              "          const docLinkHtml = 'Like what you see? Visit the ' +\n",
              "            '<a target=\"_blank\" href=https://colab.research.google.com/notebooks/data_table.ipynb>data table notebook</a>'\n",
              "            + ' to learn more about interactive tables.';\n",
              "          element.innerHTML = '';\n",
              "          dataTable['output_type'] = 'display_data';\n",
              "          await google.colab.output.renderOutput(dataTable, element);\n",
              "          const docLink = document.createElement('div');\n",
              "          docLink.innerHTML = docLinkHtml;\n",
              "          element.appendChild(docLink);\n",
              "        }\n",
              "      </script>\n",
              "    </div>\n",
              "  </div>\n",
              "  "
            ]
          },
          "metadata": {},
          "execution_count": 42
        }
      ]
    },
    {
      "cell_type": "code",
      "source": [
        "#checking nan values for duration\n",
        "df.duration.isna().sum()"
      ],
      "metadata": {
        "colab": {
          "base_uri": "https://localhost:8080/"
        },
        "id": "YVjiWcWSRX24",
        "outputId": "e25b8025-44ee-4465-c155-4d1fa344f8a1"
      },
      "execution_count": 45,
      "outputs": [
        {
          "output_type": "execute_result",
          "data": {
            "text/plain": [
              "0"
            ]
          },
          "metadata": {},
          "execution_count": 45
        }
      ]
    },
    {
      "cell_type": "code",
      "source": [
        "#checking the datatype\n",
        "df.duration.isna().sum()"
      ],
      "metadata": {
        "colab": {
          "base_uri": "https://localhost:8080/"
        },
        "id": "vCdhOyeRRvkw",
        "outputId": "07daf30b-0b7a-46a8-8797-6c9c0a4777c1"
      },
      "execution_count": 46,
      "outputs": [
        {
          "output_type": "execute_result",
          "data": {
            "text/plain": [
              "0"
            ]
          },
          "metadata": {},
          "execution_count": 46
        }
      ]
    },
    {
      "cell_type": "code",
      "source": [
        "df.duration.nunique()"
      ],
      "metadata": {
        "colab": {
          "base_uri": "https://localhost:8080/"
        },
        "id": "pHCKP2z_R3KQ",
        "outputId": "535ce7dd-5ff8-409d-ff3d-975e66ff3b69"
      },
      "execution_count": 47,
      "outputs": [
        {
          "output_type": "execute_result",
          "data": {
            "text/plain": [
              "216"
            ]
          },
          "metadata": {},
          "execution_count": 47
        }
      ]
    },
    {
      "cell_type": "code",
      "source": [
        "df.duration.value_counts().to_frame().T"
      ],
      "metadata": {
        "colab": {
          "base_uri": "https://localhost:8080/",
          "height": 154
        },
        "id": "cWz1dHVKR6Xf",
        "outputId": "9a7674d0-2b3a-4757-a33b-14578cf844ac"
      },
      "execution_count": 48,
      "outputs": [
        {
          "output_type": "execute_result",
          "data": {
            "text/plain": [
              "          1 Season  2 Seasons  3 Seasons  90 min  93 min  94 min  91 min  \\\n",
              "duration      1608        382        184     136     131     125     125   \n",
              "\n",
              "          95 min  92 min  97 min  ...  193 min  13 min  214 min  8 min  9 min  \\\n",
              "duration     119     118     117  ...        1       1        1      1      1   \n",
              "\n",
              "          182 min  224 min  233 min  196 min  191 min  \n",
              "duration        1        1        1        1        1  \n",
              "\n",
              "[1 rows x 216 columns]"
            ],
            "text/html": [
              "\n",
              "  <div id=\"df-db2bb9ca-78c7-4aab-ab6c-2acd7e35f594\">\n",
              "    <div class=\"colab-df-container\">\n",
              "      <div>\n",
              "<style scoped>\n",
              "    .dataframe tbody tr th:only-of-type {\n",
              "        vertical-align: middle;\n",
              "    }\n",
              "\n",
              "    .dataframe tbody tr th {\n",
              "        vertical-align: top;\n",
              "    }\n",
              "\n",
              "    .dataframe thead th {\n",
              "        text-align: right;\n",
              "    }\n",
              "</style>\n",
              "<table border=\"1\" class=\"dataframe\">\n",
              "  <thead>\n",
              "    <tr style=\"text-align: right;\">\n",
              "      <th></th>\n",
              "      <th>1 Season</th>\n",
              "      <th>2 Seasons</th>\n",
              "      <th>3 Seasons</th>\n",
              "      <th>90 min</th>\n",
              "      <th>93 min</th>\n",
              "      <th>94 min</th>\n",
              "      <th>91 min</th>\n",
              "      <th>95 min</th>\n",
              "      <th>92 min</th>\n",
              "      <th>97 min</th>\n",
              "      <th>...</th>\n",
              "      <th>193 min</th>\n",
              "      <th>13 min</th>\n",
              "      <th>214 min</th>\n",
              "      <th>8 min</th>\n",
              "      <th>9 min</th>\n",
              "      <th>182 min</th>\n",
              "      <th>224 min</th>\n",
              "      <th>233 min</th>\n",
              "      <th>196 min</th>\n",
              "      <th>191 min</th>\n",
              "    </tr>\n",
              "  </thead>\n",
              "  <tbody>\n",
              "    <tr>\n",
              "      <th>duration</th>\n",
              "      <td>1608</td>\n",
              "      <td>382</td>\n",
              "      <td>184</td>\n",
              "      <td>136</td>\n",
              "      <td>131</td>\n",
              "      <td>125</td>\n",
              "      <td>125</td>\n",
              "      <td>119</td>\n",
              "      <td>118</td>\n",
              "      <td>117</td>\n",
              "      <td>...</td>\n",
              "      <td>1</td>\n",
              "      <td>1</td>\n",
              "      <td>1</td>\n",
              "      <td>1</td>\n",
              "      <td>1</td>\n",
              "      <td>1</td>\n",
              "      <td>1</td>\n",
              "      <td>1</td>\n",
              "      <td>1</td>\n",
              "      <td>1</td>\n",
              "    </tr>\n",
              "  </tbody>\n",
              "</table>\n",
              "<p>1 rows × 216 columns</p>\n",
              "</div>\n",
              "      <button class=\"colab-df-convert\" onclick=\"convertToInteractive('df-db2bb9ca-78c7-4aab-ab6c-2acd7e35f594')\"\n",
              "              title=\"Convert this dataframe to an interactive table.\"\n",
              "              style=\"display:none;\">\n",
              "        \n",
              "  <svg xmlns=\"http://www.w3.org/2000/svg\" height=\"24px\"viewBox=\"0 0 24 24\"\n",
              "       width=\"24px\">\n",
              "    <path d=\"M0 0h24v24H0V0z\" fill=\"none\"/>\n",
              "    <path d=\"M18.56 5.44l.94 2.06.94-2.06 2.06-.94-2.06-.94-.94-2.06-.94 2.06-2.06.94zm-11 1L8.5 8.5l.94-2.06 2.06-.94-2.06-.94L8.5 2.5l-.94 2.06-2.06.94zm10 10l.94 2.06.94-2.06 2.06-.94-2.06-.94-.94-2.06-.94 2.06-2.06.94z\"/><path d=\"M17.41 7.96l-1.37-1.37c-.4-.4-.92-.59-1.43-.59-.52 0-1.04.2-1.43.59L10.3 9.45l-7.72 7.72c-.78.78-.78 2.05 0 2.83L4 21.41c.39.39.9.59 1.41.59.51 0 1.02-.2 1.41-.59l7.78-7.78 2.81-2.81c.8-.78.8-2.07 0-2.86zM5.41 20L4 18.59l7.72-7.72 1.47 1.35L5.41 20z\"/>\n",
              "  </svg>\n",
              "      </button>\n",
              "      \n",
              "  <style>\n",
              "    .colab-df-container {\n",
              "      display:flex;\n",
              "      flex-wrap:wrap;\n",
              "      gap: 12px;\n",
              "    }\n",
              "\n",
              "    .colab-df-convert {\n",
              "      background-color: #E8F0FE;\n",
              "      border: none;\n",
              "      border-radius: 50%;\n",
              "      cursor: pointer;\n",
              "      display: none;\n",
              "      fill: #1967D2;\n",
              "      height: 32px;\n",
              "      padding: 0 0 0 0;\n",
              "      width: 32px;\n",
              "    }\n",
              "\n",
              "    .colab-df-convert:hover {\n",
              "      background-color: #E2EBFA;\n",
              "      box-shadow: 0px 1px 2px rgba(60, 64, 67, 0.3), 0px 1px 3px 1px rgba(60, 64, 67, 0.15);\n",
              "      fill: #174EA6;\n",
              "    }\n",
              "\n",
              "    [theme=dark] .colab-df-convert {\n",
              "      background-color: #3B4455;\n",
              "      fill: #D2E3FC;\n",
              "    }\n",
              "\n",
              "    [theme=dark] .colab-df-convert:hover {\n",
              "      background-color: #434B5C;\n",
              "      box-shadow: 0px 1px 3px 1px rgba(0, 0, 0, 0.15);\n",
              "      filter: drop-shadow(0px 1px 2px rgba(0, 0, 0, 0.3));\n",
              "      fill: #FFFFFF;\n",
              "    }\n",
              "  </style>\n",
              "\n",
              "      <script>\n",
              "        const buttonEl =\n",
              "          document.querySelector('#df-db2bb9ca-78c7-4aab-ab6c-2acd7e35f594 button.colab-df-convert');\n",
              "        buttonEl.style.display =\n",
              "          google.colab.kernel.accessAllowed ? 'block' : 'none';\n",
              "\n",
              "        async function convertToInteractive(key) {\n",
              "          const element = document.querySelector('#df-db2bb9ca-78c7-4aab-ab6c-2acd7e35f594');\n",
              "          const dataTable =\n",
              "            await google.colab.kernel.invokeFunction('convertToInteractive',\n",
              "                                                     [key], {});\n",
              "          if (!dataTable) return;\n",
              "\n",
              "          const docLinkHtml = 'Like what you see? Visit the ' +\n",
              "            '<a target=\"_blank\" href=https://colab.research.google.com/notebooks/data_table.ipynb>data table notebook</a>'\n",
              "            + ' to learn more about interactive tables.';\n",
              "          element.innerHTML = '';\n",
              "          dataTable['output_type'] = 'display_data';\n",
              "          await google.colab.output.renderOutput(dataTable, element);\n",
              "          const docLink = document.createElement('div');\n",
              "          docLink.innerHTML = docLinkHtml;\n",
              "          element.appendChild(docLink);\n",
              "        }\n",
              "      </script>\n",
              "    </div>\n",
              "  </div>\n",
              "  "
            ]
          },
          "metadata": {},
          "execution_count": 48
        }
      ]
    },
    {
      "cell_type": "code",
      "source": [
        "def convert_seasons_to_min(value):\n",
        "  \"\"\"\n",
        "  This function will calculate no of total mins as per season no.\n",
        "  Here our assumptions are\n",
        "    1. on average 5 episodes are there in a season.\n",
        "    2. each episode avg time is 55 mins.\n",
        "  \"\"\"\n",
        "  no_of_avg_episode = 5\n",
        "  if \"Seasons\" in value:\n",
        "    #containing more than 1 seasons\n",
        "    value = value.replace(\"Seasons\",'')\n",
        "    value = value.replace(\" \",\"\")\n",
        "    total_seasons = int(value)\n",
        "    each_season_mins = ( no_of_avg_episode * 55 )\n",
        "    total_mins = (total_seasons * each_season_mins)\n",
        "    return total_mins\n",
        "\n",
        "  elif \"Season\" in value:\n",
        "    # containing only 1 season\n",
        "    value = value.replace(\"Season\",'')\n",
        "    value = value.replace(\" \",\"\")\n",
        "    total_mins = (no_of_avg_episode * 55)\n",
        "    return total_mins"
      ],
      "metadata": {
        "id": "bzobaI5GSGQL"
      },
      "execution_count": 49,
      "outputs": []
    },
    {
      "cell_type": "code",
      "source": [
        "#Checking the function\n",
        "convert_seasons_to_min(\"4 Seasons\")"
      ],
      "metadata": {
        "colab": {
          "base_uri": "https://localhost:8080/"
        },
        "id": "cRDNLTGcSJp6",
        "outputId": "ac3ae55b-d2a3-4988-dd2a-62aa6185489b"
      },
      "execution_count": 50,
      "outputs": [
        {
          "output_type": "execute_result",
          "data": {
            "text/plain": [
              "1100"
            ]
          },
          "metadata": {},
          "execution_count": 50
        }
      ]
    },
    {
      "cell_type": "markdown",
      "source": [
        "\"4 Seasons\" :\n",
        "4 Seasons = (45) or 20 episodes\n",
        "Each episode avg. time is 55 mins.\n",
        "Total time (in minutes. ) = (5520) min\n",
        "= 1100 mins"
      ],
      "metadata": {
        "id": "--Ep_2YoSMqP"
      }
    },
    {
      "cell_type": "code",
      "source": [
        "def all_the_duration_in_minutes():\n",
        "  \"\"\"\n",
        "  This function will convert all the duration\n",
        "  whether it's in minutes or season format to minute\n",
        "  \"\"\"\n",
        "  # replaced all the min with null string\n",
        "  df['duration'] = df.duration.str.replace(\" min\" , \"\")\n",
        "  # this time_list will contain all the value\n",
        "  time_list =[]\n",
        "  for time in df.duration.values:\n",
        "    if \"Season\" in time:\n",
        "      #time is containing Season\n",
        "      # calling convert_seasons_to_min function to convert\n",
        "      # season to total min\n",
        "      time = convert_seasons_to_min(time)\n",
        "    else:\n",
        "      #replacing single space with \"\"\n",
        "      time = time.replace(\" \",\"\")\n",
        "    #appending time (it's not containing words like min or seasons)\n",
        "    time_list.append(time)\n",
        "\n",
        "  #converting all the time into integer format\n",
        "  time_list = [ int(Time) for Time in time_list]\n",
        "\n",
        "  #Assigning time_list to df.duration\n",
        "  df.duration = time_list"
      ],
      "metadata": {
        "id": "56qSHR0bSRmi"
      },
      "execution_count": 51,
      "outputs": []
    },
    {
      "cell_type": "code",
      "source": [
        "df.duration.value_counts().to_frame().T"
      ],
      "metadata": {
        "colab": {
          "base_uri": "https://localhost:8080/",
          "height": 154
        },
        "id": "TSHIg2JXSVoA",
        "outputId": "54a36799-26ec-4752-8f0c-b6e5fafea708"
      },
      "execution_count": 52,
      "outputs": [
        {
          "output_type": "execute_result",
          "data": {
            "text/plain": [
              "          1 Season  2 Seasons  3 Seasons  90 min  93 min  94 min  91 min  \\\n",
              "duration      1608        382        184     136     131     125     125   \n",
              "\n",
              "          95 min  92 min  97 min  ...  193 min  13 min  214 min  8 min  9 min  \\\n",
              "duration     119     118     117  ...        1       1        1      1      1   \n",
              "\n",
              "          182 min  224 min  233 min  196 min  191 min  \n",
              "duration        1        1        1        1        1  \n",
              "\n",
              "[1 rows x 216 columns]"
            ],
            "text/html": [
              "\n",
              "  <div id=\"df-71011f75-15cb-4ad9-8a01-1c9c3830ea4a\">\n",
              "    <div class=\"colab-df-container\">\n",
              "      <div>\n",
              "<style scoped>\n",
              "    .dataframe tbody tr th:only-of-type {\n",
              "        vertical-align: middle;\n",
              "    }\n",
              "\n",
              "    .dataframe tbody tr th {\n",
              "        vertical-align: top;\n",
              "    }\n",
              "\n",
              "    .dataframe thead th {\n",
              "        text-align: right;\n",
              "    }\n",
              "</style>\n",
              "<table border=\"1\" class=\"dataframe\">\n",
              "  <thead>\n",
              "    <tr style=\"text-align: right;\">\n",
              "      <th></th>\n",
              "      <th>1 Season</th>\n",
              "      <th>2 Seasons</th>\n",
              "      <th>3 Seasons</th>\n",
              "      <th>90 min</th>\n",
              "      <th>93 min</th>\n",
              "      <th>94 min</th>\n",
              "      <th>91 min</th>\n",
              "      <th>95 min</th>\n",
              "      <th>92 min</th>\n",
              "      <th>97 min</th>\n",
              "      <th>...</th>\n",
              "      <th>193 min</th>\n",
              "      <th>13 min</th>\n",
              "      <th>214 min</th>\n",
              "      <th>8 min</th>\n",
              "      <th>9 min</th>\n",
              "      <th>182 min</th>\n",
              "      <th>224 min</th>\n",
              "      <th>233 min</th>\n",
              "      <th>196 min</th>\n",
              "      <th>191 min</th>\n",
              "    </tr>\n",
              "  </thead>\n",
              "  <tbody>\n",
              "    <tr>\n",
              "      <th>duration</th>\n",
              "      <td>1608</td>\n",
              "      <td>382</td>\n",
              "      <td>184</td>\n",
              "      <td>136</td>\n",
              "      <td>131</td>\n",
              "      <td>125</td>\n",
              "      <td>125</td>\n",
              "      <td>119</td>\n",
              "      <td>118</td>\n",
              "      <td>117</td>\n",
              "      <td>...</td>\n",
              "      <td>1</td>\n",
              "      <td>1</td>\n",
              "      <td>1</td>\n",
              "      <td>1</td>\n",
              "      <td>1</td>\n",
              "      <td>1</td>\n",
              "      <td>1</td>\n",
              "      <td>1</td>\n",
              "      <td>1</td>\n",
              "      <td>1</td>\n",
              "    </tr>\n",
              "  </tbody>\n",
              "</table>\n",
              "<p>1 rows × 216 columns</p>\n",
              "</div>\n",
              "      <button class=\"colab-df-convert\" onclick=\"convertToInteractive('df-71011f75-15cb-4ad9-8a01-1c9c3830ea4a')\"\n",
              "              title=\"Convert this dataframe to an interactive table.\"\n",
              "              style=\"display:none;\">\n",
              "        \n",
              "  <svg xmlns=\"http://www.w3.org/2000/svg\" height=\"24px\"viewBox=\"0 0 24 24\"\n",
              "       width=\"24px\">\n",
              "    <path d=\"M0 0h24v24H0V0z\" fill=\"none\"/>\n",
              "    <path d=\"M18.56 5.44l.94 2.06.94-2.06 2.06-.94-2.06-.94-.94-2.06-.94 2.06-2.06.94zm-11 1L8.5 8.5l.94-2.06 2.06-.94-2.06-.94L8.5 2.5l-.94 2.06-2.06.94zm10 10l.94 2.06.94-2.06 2.06-.94-2.06-.94-.94-2.06-.94 2.06-2.06.94z\"/><path d=\"M17.41 7.96l-1.37-1.37c-.4-.4-.92-.59-1.43-.59-.52 0-1.04.2-1.43.59L10.3 9.45l-7.72 7.72c-.78.78-.78 2.05 0 2.83L4 21.41c.39.39.9.59 1.41.59.51 0 1.02-.2 1.41-.59l7.78-7.78 2.81-2.81c.8-.78.8-2.07 0-2.86zM5.41 20L4 18.59l7.72-7.72 1.47 1.35L5.41 20z\"/>\n",
              "  </svg>\n",
              "      </button>\n",
              "      \n",
              "  <style>\n",
              "    .colab-df-container {\n",
              "      display:flex;\n",
              "      flex-wrap:wrap;\n",
              "      gap: 12px;\n",
              "    }\n",
              "\n",
              "    .colab-df-convert {\n",
              "      background-color: #E8F0FE;\n",
              "      border: none;\n",
              "      border-radius: 50%;\n",
              "      cursor: pointer;\n",
              "      display: none;\n",
              "      fill: #1967D2;\n",
              "      height: 32px;\n",
              "      padding: 0 0 0 0;\n",
              "      width: 32px;\n",
              "    }\n",
              "\n",
              "    .colab-df-convert:hover {\n",
              "      background-color: #E2EBFA;\n",
              "      box-shadow: 0px 1px 2px rgba(60, 64, 67, 0.3), 0px 1px 3px 1px rgba(60, 64, 67, 0.15);\n",
              "      fill: #174EA6;\n",
              "    }\n",
              "\n",
              "    [theme=dark] .colab-df-convert {\n",
              "      background-color: #3B4455;\n",
              "      fill: #D2E3FC;\n",
              "    }\n",
              "\n",
              "    [theme=dark] .colab-df-convert:hover {\n",
              "      background-color: #434B5C;\n",
              "      box-shadow: 0px 1px 3px 1px rgba(0, 0, 0, 0.15);\n",
              "      filter: drop-shadow(0px 1px 2px rgba(0, 0, 0, 0.3));\n",
              "      fill: #FFFFFF;\n",
              "    }\n",
              "  </style>\n",
              "\n",
              "      <script>\n",
              "        const buttonEl =\n",
              "          document.querySelector('#df-71011f75-15cb-4ad9-8a01-1c9c3830ea4a button.colab-df-convert');\n",
              "        buttonEl.style.display =\n",
              "          google.colab.kernel.accessAllowed ? 'block' : 'none';\n",
              "\n",
              "        async function convertToInteractive(key) {\n",
              "          const element = document.querySelector('#df-71011f75-15cb-4ad9-8a01-1c9c3830ea4a');\n",
              "          const dataTable =\n",
              "            await google.colab.kernel.invokeFunction('convertToInteractive',\n",
              "                                                     [key], {});\n",
              "          if (!dataTable) return;\n",
              "\n",
              "          const docLinkHtml = 'Like what you see? Visit the ' +\n",
              "            '<a target=\"_blank\" href=https://colab.research.google.com/notebooks/data_table.ipynb>data table notebook</a>'\n",
              "            + ' to learn more about interactive tables.';\n",
              "          element.innerHTML = '';\n",
              "          dataTable['output_type'] = 'display_data';\n",
              "          await google.colab.output.renderOutput(dataTable, element);\n",
              "          const docLink = document.createElement('div');\n",
              "          docLink.innerHTML = docLinkHtml;\n",
              "          element.appendChild(docLink);\n",
              "        }\n",
              "      </script>\n",
              "    </div>\n",
              "  </div>\n",
              "  "
            ]
          },
          "metadata": {},
          "execution_count": 52
        }
      ]
    },
    {
      "cell_type": "code",
      "source": [
        "all_the_duration_in_minutes()"
      ],
      "metadata": {
        "id": "rd5iv_lUSYNp"
      },
      "execution_count": 53,
      "outputs": []
    },
    {
      "cell_type": "code",
      "source": [
        "df.duration.value_counts().to_frame().T"
      ],
      "metadata": {
        "colab": {
          "base_uri": "https://localhost:8080/",
          "height": 110
        },
        "id": "S9QXP8beSbUW",
        "outputId": "9a23f707-c45f-4414-dcb4-3d30f727a084"
      },
      "execution_count": 54,
      "outputs": [
        {
          "output_type": "execute_result",
          "data": {
            "text/plain": [
              "           275  550  825  90   93   94   91   95   92   97   ...  193  13   \\\n",
              "duration  1608  382  184  136  131  125  125  119  118  117  ...    1    1   \n",
              "\n",
              "          214  8    9    182  224  233  196  191  \n",
              "duration    1    1    1    1    1    1    1    1  \n",
              "\n",
              "[1 rows x 216 columns]"
            ],
            "text/html": [
              "\n",
              "  <div id=\"df-57be052d-c3bb-4964-a930-1151c900a307\">\n",
              "    <div class=\"colab-df-container\">\n",
              "      <div>\n",
              "<style scoped>\n",
              "    .dataframe tbody tr th:only-of-type {\n",
              "        vertical-align: middle;\n",
              "    }\n",
              "\n",
              "    .dataframe tbody tr th {\n",
              "        vertical-align: top;\n",
              "    }\n",
              "\n",
              "    .dataframe thead th {\n",
              "        text-align: right;\n",
              "    }\n",
              "</style>\n",
              "<table border=\"1\" class=\"dataframe\">\n",
              "  <thead>\n",
              "    <tr style=\"text-align: right;\">\n",
              "      <th></th>\n",
              "      <th>275</th>\n",
              "      <th>550</th>\n",
              "      <th>825</th>\n",
              "      <th>90</th>\n",
              "      <th>93</th>\n",
              "      <th>94</th>\n",
              "      <th>91</th>\n",
              "      <th>95</th>\n",
              "      <th>92</th>\n",
              "      <th>97</th>\n",
              "      <th>...</th>\n",
              "      <th>193</th>\n",
              "      <th>13</th>\n",
              "      <th>214</th>\n",
              "      <th>8</th>\n",
              "      <th>9</th>\n",
              "      <th>182</th>\n",
              "      <th>224</th>\n",
              "      <th>233</th>\n",
              "      <th>196</th>\n",
              "      <th>191</th>\n",
              "    </tr>\n",
              "  </thead>\n",
              "  <tbody>\n",
              "    <tr>\n",
              "      <th>duration</th>\n",
              "      <td>1608</td>\n",
              "      <td>382</td>\n",
              "      <td>184</td>\n",
              "      <td>136</td>\n",
              "      <td>131</td>\n",
              "      <td>125</td>\n",
              "      <td>125</td>\n",
              "      <td>119</td>\n",
              "      <td>118</td>\n",
              "      <td>117</td>\n",
              "      <td>...</td>\n",
              "      <td>1</td>\n",
              "      <td>1</td>\n",
              "      <td>1</td>\n",
              "      <td>1</td>\n",
              "      <td>1</td>\n",
              "      <td>1</td>\n",
              "      <td>1</td>\n",
              "      <td>1</td>\n",
              "      <td>1</td>\n",
              "      <td>1</td>\n",
              "    </tr>\n",
              "  </tbody>\n",
              "</table>\n",
              "<p>1 rows × 216 columns</p>\n",
              "</div>\n",
              "      <button class=\"colab-df-convert\" onclick=\"convertToInteractive('df-57be052d-c3bb-4964-a930-1151c900a307')\"\n",
              "              title=\"Convert this dataframe to an interactive table.\"\n",
              "              style=\"display:none;\">\n",
              "        \n",
              "  <svg xmlns=\"http://www.w3.org/2000/svg\" height=\"24px\"viewBox=\"0 0 24 24\"\n",
              "       width=\"24px\">\n",
              "    <path d=\"M0 0h24v24H0V0z\" fill=\"none\"/>\n",
              "    <path d=\"M18.56 5.44l.94 2.06.94-2.06 2.06-.94-2.06-.94-.94-2.06-.94 2.06-2.06.94zm-11 1L8.5 8.5l.94-2.06 2.06-.94-2.06-.94L8.5 2.5l-.94 2.06-2.06.94zm10 10l.94 2.06.94-2.06 2.06-.94-2.06-.94-.94-2.06-.94 2.06-2.06.94z\"/><path d=\"M17.41 7.96l-1.37-1.37c-.4-.4-.92-.59-1.43-.59-.52 0-1.04.2-1.43.59L10.3 9.45l-7.72 7.72c-.78.78-.78 2.05 0 2.83L4 21.41c.39.39.9.59 1.41.59.51 0 1.02-.2 1.41-.59l7.78-7.78 2.81-2.81c.8-.78.8-2.07 0-2.86zM5.41 20L4 18.59l7.72-7.72 1.47 1.35L5.41 20z\"/>\n",
              "  </svg>\n",
              "      </button>\n",
              "      \n",
              "  <style>\n",
              "    .colab-df-container {\n",
              "      display:flex;\n",
              "      flex-wrap:wrap;\n",
              "      gap: 12px;\n",
              "    }\n",
              "\n",
              "    .colab-df-convert {\n",
              "      background-color: #E8F0FE;\n",
              "      border: none;\n",
              "      border-radius: 50%;\n",
              "      cursor: pointer;\n",
              "      display: none;\n",
              "      fill: #1967D2;\n",
              "      height: 32px;\n",
              "      padding: 0 0 0 0;\n",
              "      width: 32px;\n",
              "    }\n",
              "\n",
              "    .colab-df-convert:hover {\n",
              "      background-color: #E2EBFA;\n",
              "      box-shadow: 0px 1px 2px rgba(60, 64, 67, 0.3), 0px 1px 3px 1px rgba(60, 64, 67, 0.15);\n",
              "      fill: #174EA6;\n",
              "    }\n",
              "\n",
              "    [theme=dark] .colab-df-convert {\n",
              "      background-color: #3B4455;\n",
              "      fill: #D2E3FC;\n",
              "    }\n",
              "\n",
              "    [theme=dark] .colab-df-convert:hover {\n",
              "      background-color: #434B5C;\n",
              "      box-shadow: 0px 1px 3px 1px rgba(0, 0, 0, 0.15);\n",
              "      filter: drop-shadow(0px 1px 2px rgba(0, 0, 0, 0.3));\n",
              "      fill: #FFFFFF;\n",
              "    }\n",
              "  </style>\n",
              "\n",
              "      <script>\n",
              "        const buttonEl =\n",
              "          document.querySelector('#df-57be052d-c3bb-4964-a930-1151c900a307 button.colab-df-convert');\n",
              "        buttonEl.style.display =\n",
              "          google.colab.kernel.accessAllowed ? 'block' : 'none';\n",
              "\n",
              "        async function convertToInteractive(key) {\n",
              "          const element = document.querySelector('#df-57be052d-c3bb-4964-a930-1151c900a307');\n",
              "          const dataTable =\n",
              "            await google.colab.kernel.invokeFunction('convertToInteractive',\n",
              "                                                     [key], {});\n",
              "          if (!dataTable) return;\n",
              "\n",
              "          const docLinkHtml = 'Like what you see? Visit the ' +\n",
              "            '<a target=\"_blank\" href=https://colab.research.google.com/notebooks/data_table.ipynb>data table notebook</a>'\n",
              "            + ' to learn more about interactive tables.';\n",
              "          element.innerHTML = '';\n",
              "          dataTable['output_type'] = 'display_data';\n",
              "          await google.colab.output.renderOutput(dataTable, element);\n",
              "          const docLink = document.createElement('div');\n",
              "          docLink.innerHTML = docLinkHtml;\n",
              "          element.appendChild(docLink);\n",
              "        }\n",
              "      </script>\n",
              "    </div>\n",
              "  </div>\n",
              "  "
            ]
          },
          "metadata": {},
          "execution_count": 54
        }
      ]
    },
    {
      "cell_type": "code",
      "source": [
        "#Unique values present in the listed in\n",
        "df.listed_in.nunique()"
      ],
      "metadata": {
        "colab": {
          "base_uri": "https://localhost:8080/"
        },
        "id": "byxG4EHOTIKb",
        "outputId": "4795c8f9-5e09-4a5d-88c2-466a2ea97386"
      },
      "execution_count": 60,
      "outputs": [
        {
          "output_type": "execute_result",
          "data": {
            "text/plain": [
              "492"
            ]
          },
          "metadata": {},
          "execution_count": 60
        }
      ]
    },
    {
      "cell_type": "code",
      "source": [
        "#checking nan values in the listed in\n",
        "df.listed_in.isna().sum()"
      ],
      "metadata": {
        "colab": {
          "base_uri": "https://localhost:8080/"
        },
        "id": "SVCPfUg6TSXC",
        "outputId": "a0d37527-898e-4f8c-f8d8-47de1041ac17"
      },
      "execution_count": 61,
      "outputs": [
        {
          "output_type": "execute_result",
          "data": {
            "text/plain": [
              "0"
            ]
          },
          "metadata": {},
          "execution_count": 61
        }
      ]
    },
    {
      "cell_type": "code",
      "source": [
        "df.listed_in.value_counts().to_frame().T"
      ],
      "metadata": {
        "colab": {
          "base_uri": "https://localhost:8080/",
          "height": 296
        },
        "id": "EnSXIx3bTZdq",
        "outputId": "f0f07f8c-1939-4100-d572-db4153a3086c"
      },
      "execution_count": 62,
      "outputs": [
        {
          "output_type": "execute_result",
          "data": {
            "text/plain": [
              "           Documentaries  Stand-Up Comedy  Dramas, International Movies  \\\n",
              "listed_in            334              321                           320   \n",
              "\n",
              "           Comedies, Dramas, International Movies  \\\n",
              "listed_in                                     243   \n",
              "\n",
              "           Dramas, Independent Movies, International Movies  Kids' TV  \\\n",
              "listed_in                                               215       205   \n",
              "\n",
              "           Children & Family Movies  Documentaries, International Movies  \\\n",
              "listed_in                       177                                  172   \n",
              "\n",
              "           Children & Family Movies, Comedies  Comedies, International Movies  \\\n",
              "listed_in                                 169                             161   \n",
              "\n",
              "           ...  Action & Adventure, International Movies, Thrillers  \\\n",
              "listed_in  ...                                                  1     \n",
              "\n",
              "           Anime Series, TV Horror, TV Thrillers  \\\n",
              "listed_in                                      1   \n",
              "\n",
              "           Anime Series, Crime TV Shows, TV Thrillers  \\\n",
              "listed_in                                           1   \n",
              "\n",
              "           Action & Adventure, Faith & Spirituality, Sci-Fi & Fantasy  \\\n",
              "listed_in                                                  1            \n",
              "\n",
              "           TV Dramas, TV Sci-Fi & Fantasy, Teen TV Shows  \\\n",
              "listed_in                                              1   \n",
              "\n",
              "           Crime TV Shows, Romantic TV Shows, Spanish-Language TV Shows  \\\n",
              "listed_in                                                  1              \n",
              "\n",
              "           Crime TV Shows, International TV Shows, Reality TV  \\\n",
              "listed_in                                                  1    \n",
              "\n",
              "           International Movies, Romantic Movies, Sci-Fi & Fantasy  \\\n",
              "listed_in                                                  1         \n",
              "\n",
              "           Stand-Up Comedy & Talk Shows, TV Mysteries, TV Sci-Fi & Fantasy  \\\n",
              "listed_in                                                  1                 \n",
              "\n",
              "           International TV Shows, Spanish-Language TV Shows, Stand-Up Comedy & Talk Shows  \n",
              "listed_in                                                  1                                \n",
              "\n",
              "[1 rows x 492 columns]"
            ],
            "text/html": [
              "\n",
              "  <div id=\"df-e9964fe5-1f7c-44bc-bbd0-fcb263e18e46\">\n",
              "    <div class=\"colab-df-container\">\n",
              "      <div>\n",
              "<style scoped>\n",
              "    .dataframe tbody tr th:only-of-type {\n",
              "        vertical-align: middle;\n",
              "    }\n",
              "\n",
              "    .dataframe tbody tr th {\n",
              "        vertical-align: top;\n",
              "    }\n",
              "\n",
              "    .dataframe thead th {\n",
              "        text-align: right;\n",
              "    }\n",
              "</style>\n",
              "<table border=\"1\" class=\"dataframe\">\n",
              "  <thead>\n",
              "    <tr style=\"text-align: right;\">\n",
              "      <th></th>\n",
              "      <th>Documentaries</th>\n",
              "      <th>Stand-Up Comedy</th>\n",
              "      <th>Dramas, International Movies</th>\n",
              "      <th>Comedies, Dramas, International Movies</th>\n",
              "      <th>Dramas, Independent Movies, International Movies</th>\n",
              "      <th>Kids' TV</th>\n",
              "      <th>Children &amp; Family Movies</th>\n",
              "      <th>Documentaries, International Movies</th>\n",
              "      <th>Children &amp; Family Movies, Comedies</th>\n",
              "      <th>Comedies, International Movies</th>\n",
              "      <th>...</th>\n",
              "      <th>Action &amp; Adventure, International Movies, Thrillers</th>\n",
              "      <th>Anime Series, TV Horror, TV Thrillers</th>\n",
              "      <th>Anime Series, Crime TV Shows, TV Thrillers</th>\n",
              "      <th>Action &amp; Adventure, Faith &amp; Spirituality, Sci-Fi &amp; Fantasy</th>\n",
              "      <th>TV Dramas, TV Sci-Fi &amp; Fantasy, Teen TV Shows</th>\n",
              "      <th>Crime TV Shows, Romantic TV Shows, Spanish-Language TV Shows</th>\n",
              "      <th>Crime TV Shows, International TV Shows, Reality TV</th>\n",
              "      <th>International Movies, Romantic Movies, Sci-Fi &amp; Fantasy</th>\n",
              "      <th>Stand-Up Comedy &amp; Talk Shows, TV Mysteries, TV Sci-Fi &amp; Fantasy</th>\n",
              "      <th>International TV Shows, Spanish-Language TV Shows, Stand-Up Comedy &amp; Talk Shows</th>\n",
              "    </tr>\n",
              "  </thead>\n",
              "  <tbody>\n",
              "    <tr>\n",
              "      <th>listed_in</th>\n",
              "      <td>334</td>\n",
              "      <td>321</td>\n",
              "      <td>320</td>\n",
              "      <td>243</td>\n",
              "      <td>215</td>\n",
              "      <td>205</td>\n",
              "      <td>177</td>\n",
              "      <td>172</td>\n",
              "      <td>169</td>\n",
              "      <td>161</td>\n",
              "      <td>...</td>\n",
              "      <td>1</td>\n",
              "      <td>1</td>\n",
              "      <td>1</td>\n",
              "      <td>1</td>\n",
              "      <td>1</td>\n",
              "      <td>1</td>\n",
              "      <td>1</td>\n",
              "      <td>1</td>\n",
              "      <td>1</td>\n",
              "      <td>1</td>\n",
              "    </tr>\n",
              "  </tbody>\n",
              "</table>\n",
              "<p>1 rows × 492 columns</p>\n",
              "</div>\n",
              "      <button class=\"colab-df-convert\" onclick=\"convertToInteractive('df-e9964fe5-1f7c-44bc-bbd0-fcb263e18e46')\"\n",
              "              title=\"Convert this dataframe to an interactive table.\"\n",
              "              style=\"display:none;\">\n",
              "        \n",
              "  <svg xmlns=\"http://www.w3.org/2000/svg\" height=\"24px\"viewBox=\"0 0 24 24\"\n",
              "       width=\"24px\">\n",
              "    <path d=\"M0 0h24v24H0V0z\" fill=\"none\"/>\n",
              "    <path d=\"M18.56 5.44l.94 2.06.94-2.06 2.06-.94-2.06-.94-.94-2.06-.94 2.06-2.06.94zm-11 1L8.5 8.5l.94-2.06 2.06-.94-2.06-.94L8.5 2.5l-.94 2.06-2.06.94zm10 10l.94 2.06.94-2.06 2.06-.94-2.06-.94-.94-2.06-.94 2.06-2.06.94z\"/><path d=\"M17.41 7.96l-1.37-1.37c-.4-.4-.92-.59-1.43-.59-.52 0-1.04.2-1.43.59L10.3 9.45l-7.72 7.72c-.78.78-.78 2.05 0 2.83L4 21.41c.39.39.9.59 1.41.59.51 0 1.02-.2 1.41-.59l7.78-7.78 2.81-2.81c.8-.78.8-2.07 0-2.86zM5.41 20L4 18.59l7.72-7.72 1.47 1.35L5.41 20z\"/>\n",
              "  </svg>\n",
              "      </button>\n",
              "      \n",
              "  <style>\n",
              "    .colab-df-container {\n",
              "      display:flex;\n",
              "      flex-wrap:wrap;\n",
              "      gap: 12px;\n",
              "    }\n",
              "\n",
              "    .colab-df-convert {\n",
              "      background-color: #E8F0FE;\n",
              "      border: none;\n",
              "      border-radius: 50%;\n",
              "      cursor: pointer;\n",
              "      display: none;\n",
              "      fill: #1967D2;\n",
              "      height: 32px;\n",
              "      padding: 0 0 0 0;\n",
              "      width: 32px;\n",
              "    }\n",
              "\n",
              "    .colab-df-convert:hover {\n",
              "      background-color: #E2EBFA;\n",
              "      box-shadow: 0px 1px 2px rgba(60, 64, 67, 0.3), 0px 1px 3px 1px rgba(60, 64, 67, 0.15);\n",
              "      fill: #174EA6;\n",
              "    }\n",
              "\n",
              "    [theme=dark] .colab-df-convert {\n",
              "      background-color: #3B4455;\n",
              "      fill: #D2E3FC;\n",
              "    }\n",
              "\n",
              "    [theme=dark] .colab-df-convert:hover {\n",
              "      background-color: #434B5C;\n",
              "      box-shadow: 0px 1px 3px 1px rgba(0, 0, 0, 0.15);\n",
              "      filter: drop-shadow(0px 1px 2px rgba(0, 0, 0, 0.3));\n",
              "      fill: #FFFFFF;\n",
              "    }\n",
              "  </style>\n",
              "\n",
              "      <script>\n",
              "        const buttonEl =\n",
              "          document.querySelector('#df-e9964fe5-1f7c-44bc-bbd0-fcb263e18e46 button.colab-df-convert');\n",
              "        buttonEl.style.display =\n",
              "          google.colab.kernel.accessAllowed ? 'block' : 'none';\n",
              "\n",
              "        async function convertToInteractive(key) {\n",
              "          const element = document.querySelector('#df-e9964fe5-1f7c-44bc-bbd0-fcb263e18e46');\n",
              "          const dataTable =\n",
              "            await google.colab.kernel.invokeFunction('convertToInteractive',\n",
              "                                                     [key], {});\n",
              "          if (!dataTable) return;\n",
              "\n",
              "          const docLinkHtml = 'Like what you see? Visit the ' +\n",
              "            '<a target=\"_blank\" href=https://colab.research.google.com/notebooks/data_table.ipynb>data table notebook</a>'\n",
              "            + ' to learn more about interactive tables.';\n",
              "          element.innerHTML = '';\n",
              "          dataTable['output_type'] = 'display_data';\n",
              "          await google.colab.output.renderOutput(dataTable, element);\n",
              "          const docLink = document.createElement('div');\n",
              "          docLink.innerHTML = docLinkHtml;\n",
              "          element.appendChild(docLink);\n",
              "        }\n",
              "      </script>\n",
              "    </div>\n",
              "  </div>\n",
              "  "
            ]
          },
          "metadata": {},
          "execution_count": 62
        }
      ]
    },
    {
      "cell_type": "code",
      "source": [
        "#making categories\n",
        "categories = \", \".join(df['listed_in']).split(\", \")\n",
        "categories[:5]"
      ],
      "metadata": {
        "colab": {
          "base_uri": "https://localhost:8080/"
        },
        "id": "6XK3gpEFTdMM",
        "outputId": "af402701-3374-4e46-db57-4109184c41f3"
      },
      "execution_count": 63,
      "outputs": [
        {
          "output_type": "execute_result",
          "data": {
            "text/plain": [
              "['International TV Shows',\n",
              " 'TV Dramas',\n",
              " 'TV Sci-Fi & Fantasy',\n",
              " 'Dramas',\n",
              " 'International Movies']"
            ]
          },
          "metadata": {},
          "execution_count": 63
        }
      ]
    },
    {
      "cell_type": "code",
      "source": [
        "len(categories)"
      ],
      "metadata": {
        "colab": {
          "base_uri": "https://localhost:8080/"
        },
        "id": "uaFBxT4-TjAo",
        "outputId": "e5c3fd77-92bb-4908-fbda-e970b12a1a6f"
      },
      "execution_count": 64,
      "outputs": [
        {
          "output_type": "execute_result",
          "data": {
            "text/plain": [
              "17071"
            ]
          },
          "metadata": {},
          "execution_count": 64
        }
      ]
    },
    {
      "cell_type": "code",
      "source": [
        "len(set(categories))"
      ],
      "metadata": {
        "colab": {
          "base_uri": "https://localhost:8080/"
        },
        "id": "2ZxmoCXvTm14",
        "outputId": "f2a74c06-6aa3-41ef-cfcb-c3bec29629f0"
      },
      "execution_count": 65,
      "outputs": [
        {
          "output_type": "execute_result",
          "data": {
            "text/plain": [
              "42"
            ]
          },
          "metadata": {},
          "execution_count": 65
        }
      ]
    },
    {
      "cell_type": "code",
      "source": [
        "category_wise_count = {}\n",
        "for category in set(categories):\n",
        "  category_wise_count[category] = categories.count(category)"
      ],
      "metadata": {
        "id": "-o8Px6zSTwoV"
      },
      "execution_count": 66,
      "outputs": []
    },
    {
      "cell_type": "code",
      "source": [
        "category_wise_count"
      ],
      "metadata": {
        "colab": {
          "base_uri": "https://localhost:8080/"
        },
        "id": "Pr7NJB6lT1Qy",
        "outputId": "38167756-49b3-4c7d-ecc9-f7df72e95112"
      },
      "execution_count": 67,
      "outputs": [
        {
          "output_type": "execute_result",
          "data": {
            "text/plain": [
              "{'Science & Nature TV': 85,\n",
              " 'Movies': 56,\n",
              " 'Spanish-Language TV Shows': 147,\n",
              " 'Korean TV Shows': 150,\n",
              " 'Faith & Spirituality': 57,\n",
              " 'Classic & Cult TV': 27,\n",
              " 'British TV Shows': 232,\n",
              " 'TV Mysteries': 90,\n",
              " 'LGBTQ Movies': 90,\n",
              " \"Kids' TV\": 414,\n",
              " 'Stand-Up Comedy': 329,\n",
              " 'Romantic Movies': 531,\n",
              " 'Classic Movies': 103,\n",
              " 'Independent Movies': 673,\n",
              " 'Documentaries': 786,\n",
              " 'Music & Musicals': 321,\n",
              " 'TV Comedies': 525,\n",
              " 'Comedies': 1471,\n",
              " 'Sci-Fi & Fantasy': 218,\n",
              " 'Sports Movies': 196,\n",
              " 'Action & Adventure': 721,\n",
              " 'TV Sci-Fi & Fantasy': 76,\n",
              " 'TV Dramas': 704,\n",
              " 'Stand-Up Comedy & Talk Shows': 52,\n",
              " 'TV Thrillers': 50,\n",
              " 'Docuseries': 353,\n",
              " 'Teen TV Shows': 60,\n",
              " 'Romantic TV Shows': 333,\n",
              " 'International Movies': 2437,\n",
              " 'Horror Movies': 312,\n",
              " 'Reality TV': 222,\n",
              " 'TV Action & Adventure': 150,\n",
              " 'Anime Features': 57,\n",
              " 'Anime Series': 148,\n",
              " 'International TV Shows': 1199,\n",
              " 'Children & Family Movies': 532,\n",
              " 'TV Horror': 69,\n",
              " 'Thrillers': 491,\n",
              " 'TV Shows': 12,\n",
              " 'Cult Movies': 59,\n",
              " 'Dramas': 2106,\n",
              " 'Crime TV Shows': 427}"
            ]
          },
          "metadata": {},
          "execution_count": 67
        }
      ]
    },
    {
      "cell_type": "code",
      "source": [
        "#sorting category wise count by value\n",
        "sorted_category_wise_count = sorted(category_wise_count.items(), key=lambda x: x[1])\n",
        "sorted_category_wise_count[:4]"
      ],
      "metadata": {
        "colab": {
          "base_uri": "https://localhost:8080/"
        },
        "id": "GYK4RVfrT6BL",
        "outputId": "31d06693-d4c1-420f-98c1-09f621cb66b1"
      },
      "execution_count": 68,
      "outputs": [
        {
          "output_type": "execute_result",
          "data": {
            "text/plain": [
              "[('TV Shows', 12),\n",
              " ('Classic & Cult TV', 27),\n",
              " ('TV Thrillers', 50),\n",
              " ('Stand-Up Comedy & Talk Shows', 52)]"
            ]
          },
          "metadata": {},
          "execution_count": 68
        }
      ]
    },
    {
      "cell_type": "code",
      "source": [
        "#Top 5 least occured category\n",
        "sorted_category_wise_count[:5]"
      ],
      "metadata": {
        "colab": {
          "base_uri": "https://localhost:8080/"
        },
        "id": "1zmG1GnrUEK6",
        "outputId": "71ce3778-de7e-4877-c411-55fff94afac5"
      },
      "execution_count": 69,
      "outputs": [
        {
          "output_type": "execute_result",
          "data": {
            "text/plain": [
              "[('TV Shows', 12),\n",
              " ('Classic & Cult TV', 27),\n",
              " ('TV Thrillers', 50),\n",
              " ('Stand-Up Comedy & Talk Shows', 52),\n",
              " ('Movies', 56)]"
            ]
          },
          "metadata": {},
          "execution_count": 69
        }
      ]
    },
    {
      "cell_type": "code",
      "source": [
        "#Top 5 mostoccured category\n",
        "sorted_category_wise_count[-5:]"
      ],
      "metadata": {
        "colab": {
          "base_uri": "https://localhost:8080/"
        },
        "id": "SDj4jKZxULzw",
        "outputId": "5bdd403e-92a5-4ed2-b74c-bc437072c878"
      },
      "execution_count": 70,
      "outputs": [
        {
          "output_type": "execute_result",
          "data": {
            "text/plain": [
              "[('Documentaries', 786),\n",
              " ('International TV Shows', 1199),\n",
              " ('Comedies', 1471),\n",
              " ('Dramas', 2106),\n",
              " ('International Movies', 2437)]"
            ]
          },
          "metadata": {},
          "execution_count": 70
        }
      ]
    },
    {
      "cell_type": "code",
      "source": [
        " #Top 10 most occured category\n",
        " top_10_most_occurred_categories = sorted_category_wise_count[-10:]"
      ],
      "metadata": {
        "id": "jix9B80UUU3i"
      },
      "execution_count": 71,
      "outputs": []
    },
    {
      "cell_type": "code",
      "source": [
        "top_10_most_occurred_categories"
      ],
      "metadata": {
        "colab": {
          "base_uri": "https://localhost:8080/"
        },
        "id": "O5TbnR6uUbIK",
        "outputId": "015c1124-6151-422c-ac0e-74e2f4bc71a2"
      },
      "execution_count": 72,
      "outputs": [
        {
          "output_type": "execute_result",
          "data": {
            "text/plain": [
              "[('Romantic Movies', 531),\n",
              " ('Children & Family Movies', 532),\n",
              " ('Independent Movies', 673),\n",
              " ('TV Dramas', 704),\n",
              " ('Action & Adventure', 721),\n",
              " ('Documentaries', 786),\n",
              " ('International TV Shows', 1199),\n",
              " ('Comedies', 1471),\n",
              " ('Dramas', 2106),\n",
              " ('International Movies', 2437)]"
            ]
          },
          "metadata": {},
          "execution_count": 72
        }
      ]
    },
    {
      "cell_type": "code",
      "source": [
        "top_10_most_occurred_category_name = []\n",
        "top_10_most_occurred_category_count = []\n",
        "for tup in top_10_most_occurred_categories:\n",
        "  top_10_most_occurred_category_name.append(tup[0])\n",
        "  top_10_most_occurred_category_count.append(tup[1])"
      ],
      "metadata": {
        "id": "_dHpkJ2AUfqS"
      },
      "execution_count": 73,
      "outputs": []
    },
    {
      "cell_type": "code",
      "source": [
        "top_10_most_occurred_category_name"
      ],
      "metadata": {
        "colab": {
          "base_uri": "https://localhost:8080/"
        },
        "id": "9GSUAZqGUiax",
        "outputId": "130592cd-73d8-44cd-b24f-e5fdbf95c11b"
      },
      "execution_count": 74,
      "outputs": [
        {
          "output_type": "execute_result",
          "data": {
            "text/plain": [
              "['Romantic Movies',\n",
              " 'Children & Family Movies',\n",
              " 'Independent Movies',\n",
              " 'TV Dramas',\n",
              " 'Action & Adventure',\n",
              " 'Documentaries',\n",
              " 'International TV Shows',\n",
              " 'Comedies',\n",
              " 'Dramas',\n",
              " 'International Movies']"
            ]
          },
          "metadata": {},
          "execution_count": 74
        }
      ]
    },
    {
      "cell_type": "code",
      "source": [
        "top_10_most_occurred_category_count"
      ],
      "metadata": {
        "colab": {
          "base_uri": "https://localhost:8080/"
        },
        "id": "QgdlQ9u7UlZe",
        "outputId": "85d26e5e-ecb4-46c5-c8d4-35878ecda8df"
      },
      "execution_count": 75,
      "outputs": [
        {
          "output_type": "execute_result",
          "data": {
            "text/plain": [
              "[531, 532, 673, 704, 721, 786, 1199, 1471, 2106, 2437]"
            ]
          },
          "metadata": {},
          "execution_count": 75
        }
      ]
    },
    {
      "cell_type": "code",
      "source": [
        "#datatype of listed values\n",
        "type(df.listed_in.iloc[0])"
      ],
      "metadata": {
        "colab": {
          "base_uri": "https://localhost:8080/"
        },
        "id": "BpMP67OZVJ0a",
        "outputId": "573c3d95-f4e9-4469-8f12-71aa34401ef2"
      },
      "execution_count": 77,
      "outputs": [
        {
          "output_type": "execute_result",
          "data": {
            "text/plain": [
              "str"
            ]
          },
          "metadata": {},
          "execution_count": 77
        }
      ]
    },
    {
      "cell_type": "code",
      "source": [
        "(df.listed_in.iloc[0])"
      ],
      "metadata": {
        "colab": {
          "base_uri": "https://localhost:8080/",
          "height": 36
        },
        "id": "73xugWwXVPgt",
        "outputId": "463c16ed-7a80-473e-9e4c-9cc4a99fd74e"
      },
      "execution_count": 78,
      "outputs": [
        {
          "output_type": "execute_result",
          "data": {
            "text/plain": [
              "'International TV Shows, TV Dramas, TV Sci-Fi & Fantasy'"
            ],
            "application/vnd.google.colaboratory.intrinsic+json": {
              "type": "string"
            }
          },
          "metadata": {},
          "execution_count": 78
        }
      ]
    },
    {
      "cell_type": "code",
      "source": [
        "(df.listed_in.iloc[0]).split(\",\")"
      ],
      "metadata": {
        "colab": {
          "base_uri": "https://localhost:8080/"
        },
        "id": "1_CUn0DDVSPZ",
        "outputId": "93c115ee-05f5-4b38-ec6a-77c8bbca05f0"
      },
      "execution_count": 79,
      "outputs": [
        {
          "output_type": "execute_result",
          "data": {
            "text/plain": [
              "['International TV Shows', ' TV Dramas', ' TV Sci-Fi & Fantasy']"
            ]
          },
          "metadata": {},
          "execution_count": 79
        }
      ]
    },
    {
      "cell_type": "code",
      "source": [
        "len((df.listed_in.iloc[0]).split(\",\"))"
      ],
      "metadata": {
        "colab": {
          "base_uri": "https://localhost:8080/"
        },
        "id": "7u-_RFdLVUyT",
        "outputId": "5ab34dd9-ead8-4bf3-9aca-7b3fc8c627f2"
      },
      "execution_count": 80,
      "outputs": [
        {
          "output_type": "execute_result",
          "data": {
            "text/plain": [
              "3"
            ]
          },
          "metadata": {},
          "execution_count": 80
        }
      ]
    },
    {
      "cell_type": "code",
      "source": [
        "no_of_category = []\n",
        "for categories in df.listed_in.values:\n",
        "  len_categories = len(categories.split(\",\"))\n",
        "  no_of_category.append(len_categories)"
      ],
      "metadata": {
        "id": "PQmoPnOcVXbj"
      },
      "execution_count": 81,
      "outputs": []
    },
    {
      "cell_type": "code",
      "source": [
        "df['no_of_category'] = no_of_category"
      ],
      "metadata": {
        "id": "57ENycOfVZ_j"
      },
      "execution_count": 82,
      "outputs": []
    },
    {
      "cell_type": "code",
      "source": [
        "df[['listed_in' , 'no_of_category']].head()"
      ],
      "metadata": {
        "colab": {
          "base_uri": "https://localhost:8080/",
          "height": 237
        },
        "id": "dKxNNqR2Vczy",
        "outputId": "5c926625-9726-446a-d20d-3f1caaa5293b"
      },
      "execution_count": 83,
      "outputs": [
        {
          "output_type": "execute_result",
          "data": {
            "text/plain": [
              "                                                 listed_in  no_of_category\n",
              "show_id                                                                   \n",
              "s1       International TV Shows, TV Dramas, TV Sci-Fi &...               3\n",
              "s2                            Dramas, International Movies               2\n",
              "s3                     Horror Movies, International Movies               2\n",
              "s4       Action & Adventure, Independent Movies, Sci-Fi...               3\n",
              "s5                                                  Dramas               1"
            ],
            "text/html": [
              "\n",
              "  <div id=\"df-18ea1009-eeda-417d-a00c-ee7b457c76d6\">\n",
              "    <div class=\"colab-df-container\">\n",
              "      <div>\n",
              "<style scoped>\n",
              "    .dataframe tbody tr th:only-of-type {\n",
              "        vertical-align: middle;\n",
              "    }\n",
              "\n",
              "    .dataframe tbody tr th {\n",
              "        vertical-align: top;\n",
              "    }\n",
              "\n",
              "    .dataframe thead th {\n",
              "        text-align: right;\n",
              "    }\n",
              "</style>\n",
              "<table border=\"1\" class=\"dataframe\">\n",
              "  <thead>\n",
              "    <tr style=\"text-align: right;\">\n",
              "      <th></th>\n",
              "      <th>listed_in</th>\n",
              "      <th>no_of_category</th>\n",
              "    </tr>\n",
              "    <tr>\n",
              "      <th>show_id</th>\n",
              "      <th></th>\n",
              "      <th></th>\n",
              "    </tr>\n",
              "  </thead>\n",
              "  <tbody>\n",
              "    <tr>\n",
              "      <th>s1</th>\n",
              "      <td>International TV Shows, TV Dramas, TV Sci-Fi &amp;...</td>\n",
              "      <td>3</td>\n",
              "    </tr>\n",
              "    <tr>\n",
              "      <th>s2</th>\n",
              "      <td>Dramas, International Movies</td>\n",
              "      <td>2</td>\n",
              "    </tr>\n",
              "    <tr>\n",
              "      <th>s3</th>\n",
              "      <td>Horror Movies, International Movies</td>\n",
              "      <td>2</td>\n",
              "    </tr>\n",
              "    <tr>\n",
              "      <th>s4</th>\n",
              "      <td>Action &amp; Adventure, Independent Movies, Sci-Fi...</td>\n",
              "      <td>3</td>\n",
              "    </tr>\n",
              "    <tr>\n",
              "      <th>s5</th>\n",
              "      <td>Dramas</td>\n",
              "      <td>1</td>\n",
              "    </tr>\n",
              "  </tbody>\n",
              "</table>\n",
              "</div>\n",
              "      <button class=\"colab-df-convert\" onclick=\"convertToInteractive('df-18ea1009-eeda-417d-a00c-ee7b457c76d6')\"\n",
              "              title=\"Convert this dataframe to an interactive table.\"\n",
              "              style=\"display:none;\">\n",
              "        \n",
              "  <svg xmlns=\"http://www.w3.org/2000/svg\" height=\"24px\"viewBox=\"0 0 24 24\"\n",
              "       width=\"24px\">\n",
              "    <path d=\"M0 0h24v24H0V0z\" fill=\"none\"/>\n",
              "    <path d=\"M18.56 5.44l.94 2.06.94-2.06 2.06-.94-2.06-.94-.94-2.06-.94 2.06-2.06.94zm-11 1L8.5 8.5l.94-2.06 2.06-.94-2.06-.94L8.5 2.5l-.94 2.06-2.06.94zm10 10l.94 2.06.94-2.06 2.06-.94-2.06-.94-.94-2.06-.94 2.06-2.06.94z\"/><path d=\"M17.41 7.96l-1.37-1.37c-.4-.4-.92-.59-1.43-.59-.52 0-1.04.2-1.43.59L10.3 9.45l-7.72 7.72c-.78.78-.78 2.05 0 2.83L4 21.41c.39.39.9.59 1.41.59.51 0 1.02-.2 1.41-.59l7.78-7.78 2.81-2.81c.8-.78.8-2.07 0-2.86zM5.41 20L4 18.59l7.72-7.72 1.47 1.35L5.41 20z\"/>\n",
              "  </svg>\n",
              "      </button>\n",
              "      \n",
              "  <style>\n",
              "    .colab-df-container {\n",
              "      display:flex;\n",
              "      flex-wrap:wrap;\n",
              "      gap: 12px;\n",
              "    }\n",
              "\n",
              "    .colab-df-convert {\n",
              "      background-color: #E8F0FE;\n",
              "      border: none;\n",
              "      border-radius: 50%;\n",
              "      cursor: pointer;\n",
              "      display: none;\n",
              "      fill: #1967D2;\n",
              "      height: 32px;\n",
              "      padding: 0 0 0 0;\n",
              "      width: 32px;\n",
              "    }\n",
              "\n",
              "    .colab-df-convert:hover {\n",
              "      background-color: #E2EBFA;\n",
              "      box-shadow: 0px 1px 2px rgba(60, 64, 67, 0.3), 0px 1px 3px 1px rgba(60, 64, 67, 0.15);\n",
              "      fill: #174EA6;\n",
              "    }\n",
              "\n",
              "    [theme=dark] .colab-df-convert {\n",
              "      background-color: #3B4455;\n",
              "      fill: #D2E3FC;\n",
              "    }\n",
              "\n",
              "    [theme=dark] .colab-df-convert:hover {\n",
              "      background-color: #434B5C;\n",
              "      box-shadow: 0px 1px 3px 1px rgba(0, 0, 0, 0.15);\n",
              "      filter: drop-shadow(0px 1px 2px rgba(0, 0, 0, 0.3));\n",
              "      fill: #FFFFFF;\n",
              "    }\n",
              "  </style>\n",
              "\n",
              "      <script>\n",
              "        const buttonEl =\n",
              "          document.querySelector('#df-18ea1009-eeda-417d-a00c-ee7b457c76d6 button.colab-df-convert');\n",
              "        buttonEl.style.display =\n",
              "          google.colab.kernel.accessAllowed ? 'block' : 'none';\n",
              "\n",
              "        async function convertToInteractive(key) {\n",
              "          const element = document.querySelector('#df-18ea1009-eeda-417d-a00c-ee7b457c76d6');\n",
              "          const dataTable =\n",
              "            await google.colab.kernel.invokeFunction('convertToInteractive',\n",
              "                                                     [key], {});\n",
              "          if (!dataTable) return;\n",
              "\n",
              "          const docLinkHtml = 'Like what you see? Visit the ' +\n",
              "            '<a target=\"_blank\" href=https://colab.research.google.com/notebooks/data_table.ipynb>data table notebook</a>'\n",
              "            + ' to learn more about interactive tables.';\n",
              "          element.innerHTML = '';\n",
              "          dataTable['output_type'] = 'display_data';\n",
              "          await google.colab.output.renderOutput(dataTable, element);\n",
              "          const docLink = document.createElement('div');\n",
              "          docLink.innerHTML = docLinkHtml;\n",
              "          element.appendChild(docLink);\n",
              "        }\n",
              "      </script>\n",
              "    </div>\n",
              "  </div>\n",
              "  "
            ]
          },
          "metadata": {},
          "execution_count": 83
        }
      ]
    },
    {
      "cell_type": "markdown",
      "source": [
        "### What all manipulations have you done and insights you found?"
      ],
      "metadata": {
        "id": "MSa1f5Uengrz"
      }
    },
    {
      "cell_type": "markdown",
      "source": [
        "We have figured out production growth based on content and release year.And also unique values present in the release year.As we have seen earlier before 2014 the production growth for Movies & Tv Shows were very less ,that's why it's showing those values(release_year less than 2009) as outliers.Therefore replacing ouliers with mean values.We dont have any release year greater than 2018.There are **42 unique categories**  present & in this dataset **all the categories occured in total 17051 times**"
      ],
      "metadata": {
        "id": "LbyXE7I1olp8"
      }
    },
    {
      "cell_type": "markdown",
      "source": [
        "## ***4. Data Vizualization, Storytelling & Experimenting with charts : Understand the relationships between variables***"
      ],
      "metadata": {
        "id": "GF8Ens_Soomf"
      }
    },
    {
      "cell_type": "markdown",
      "source": [
        "#### Chart - 1"
      ],
      "metadata": {
        "id": "0wOQAZs5pc--"
      }
    },
    {
      "cell_type": "code",
      "source": [
        "# Chart - 1 visualization code\n",
        "sns.set(font_scale=1.4)\n",
        "total_content.plot(figsize=(12, 6), linewidth=3, color='black',label=\"Total Content / year\")\n",
        "yearly_movies.plot(figsize=(12, 6), linewidth=3, color='green',label=\"Movies / year\",ms=3)\n",
        "yearly_shows.plot(figsize=(12, 6), linewidth=3, color='yellow',label=\"TV Shows / year\")\n",
        "plt.xlabel(\"Years\", labelpad=15)\n",
        "plt.ylabel(\"Number\", labelpad=15)\n",
        "plt.legend()\n",
        "plt.title(\"Production Growth Yearly\", y=1.02, fontsize=22);"
      ],
      "metadata": {
        "id": "7v_ESjsspbW7",
        "colab": {
          "base_uri": "https://localhost:8080/",
          "height": 616
        },
        "outputId": "28a23c40-b2be-46c8-c129-2394c45e23f8"
      },
      "execution_count": 16,
      "outputs": [
        {
          "output_type": "display_data",
          "data": {
            "text/plain": [
              "<Figure size 1200x600 with 1 Axes>"
            ],
            "image/png": "[encoded data removed]"
          },
          "metadata": {}
        }
      ]
    },
    {
      "cell_type": "markdown",
      "source": [
        "##### 1. Why did you pick the specific chart?"
      ],
      "metadata": {
        "id": "K5QZ13OEpz2H"
      }
    },
    {
      "cell_type": "markdown",
      "source": [
        "Answer Here."
      ],
      "metadata": {
        "id": "XESiWehPqBRc"
      }
    },
    {
      "cell_type": "markdown",
      "source": [
        "##### 2. What is/are the insight(s) found from the chart?"
      ],
      "metadata": {
        "id": "lQ7QKXXCp7Bj"
      }
    },
    {
      "cell_type": "markdown",
      "source": [
        "Answer Here"
      ],
      "metadata": {
        "id": "C_j1G7yiqdRP"
      }
    },
    {
      "cell_type": "markdown",
      "source": [
        "##### 3. Will the gained insights help creating a positive business impact?\n",
        "Are there any insights that lead to negative growth? Justify with specific reason."
      ],
      "metadata": {
        "id": "448CDAPjqfQr"
      }
    },
    {
      "cell_type": "markdown",
      "source": [
        "Answer Here"
      ],
      "metadata": {
        "id": "3cspy4FjqxJW"
      }
    },
    {
      "cell_type": "markdown",
      "source": [
        "#### Chart - 2"
      ],
      "metadata": {
        "id": "KSlN3yHqYklG"
      }
    },
    {
      "cell_type": "code",
      "source": [
        "# Chart - 2 visualization code\n",
        "sns.boxplot(df.release_year)"
      ],
      "metadata": {
        "id": "R4YgtaqtYklH",
        "colab": {
          "base_uri": "https://localhost:8080/",
          "height": 456
        },
        "outputId": "f90a281a-c2cc-486e-a5ce-f42bf752086f"
      },
      "execution_count": 27,
      "outputs": [
        {
          "output_type": "execute_result",
          "data": {
            "text/plain": [
              "<Axes: >"
            ]
          },
          "metadata": {},
          "execution_count": 27
        },
        {
          "output_type": "display_data",
          "data": {
            "text/plain": [
              "<Figure size 640x480 with 1 Axes>"
            ],
            "image/png": "[encoded data removed]"
          },
          "metadata": {}
        }
      ]
    },
    {
      "cell_type": "markdown",
      "source": [
        "##### 1. Why did you pick the specific chart?"
      ],
      "metadata": {
        "id": "t6dVpIINYklI"
      }
    },
    {
      "cell_type": "markdown",
      "source": [
        "Answer Here."
      ],
      "metadata": {
        "id": "5aaW0BYyYklI"
      }
    },
    {
      "cell_type": "markdown",
      "source": [
        "##### 2. What is/are the insight(s) found from the chart?"
      ],
      "metadata": {
        "id": "ijmpgYnKYklI"
      }
    },
    {
      "cell_type": "markdown",
      "source": [
        "Answer Here"
      ],
      "metadata": {
        "id": "PSx9atu2YklI"
      }
    },
    {
      "cell_type": "markdown",
      "source": [
        "##### 3. Will the gained insights help creating a positive business impact?\n",
        "Are there any insights that lead to negative growth? Justify with specific reason."
      ],
      "metadata": {
        "id": "-JiQyfWJYklI"
      }
    },
    {
      "cell_type": "markdown",
      "source": [
        "Answer Here"
      ],
      "metadata": {
        "id": "BcBbebzrYklV"
      }
    },
    {
      "cell_type": "markdown",
      "source": [
        "#### Chart - 3"
      ],
      "metadata": {
        "id": "EM7whBJCYoAo"
      }
    },
    {
      "cell_type": "code",
      "source": [
        "# Chart - 3 visualization code\n",
        "#subsetting df\n",
        "df_wordcloud = df['title']\n",
        "text = \" \".join(word for word in df_wordcloud)\n",
        "# Create stopword list:\n",
        "stopwords = set(STOPWORDS)\n",
        "# Generate a word cloud image\n",
        "wordcloud = WordCloud(stopwords=stopwords, background_color=\"white\").generate(text)\n",
        "# Display the generated image:\n",
        "# the matplotlib way:\n",
        "plt.imshow(wordcloud, interpolation='bilinear')\n",
        "plt.axis(\"off\")\n",
        "plt.show()"
      ],
      "metadata": {
        "id": "t6GMdE67YoAp",
        "colab": {
          "base_uri": "https://localhost:8080/",
          "height": 285
        },
        "outputId": "48b90dd8-6707-4951-c236-88b0a3123a57"
      },
      "execution_count": 30,
      "outputs": [
        {
          "output_type": "display_data",
          "data": {
            "text/plain": [
              "<Figure size 640x480 with 1 Axes>"
            ],
            "image/png": "[encoded data removed]"
          },
          "metadata": {}
        }
      ]
    },
    {
      "cell_type": "markdown",
      "source": [
        "##### 1. Why did you pick the specific chart?"
      ],
      "metadata": {
        "id": "fge-S5ZAYoAp"
      }
    },
    {
      "cell_type": "markdown",
      "source": [
        "Answer Here."
      ],
      "metadata": {
        "id": "5dBItgRVYoAp"
      }
    },
    {
      "cell_type": "markdown",
      "source": [
        "##### 2. What is/are the insight(s) found from the chart?"
      ],
      "metadata": {
        "id": "85gYPyotYoAp"
      }
    },
    {
      "cell_type": "markdown",
      "source": [
        "Answer Here"
      ],
      "metadata": {
        "id": "4jstXR6OYoAp"
      }
    },
    {
      "cell_type": "markdown",
      "source": [
        "##### 3. Will the gained insights help creating a positive business impact?\n",
        "Are there any insights that lead to negative growth? Justify with specific reason."
      ],
      "metadata": {
        "id": "RoGjAbkUYoAp"
      }
    },
    {
      "cell_type": "markdown",
      "source": [
        "Answer Here"
      ],
      "metadata": {
        "id": "zfJ8IqMcYoAp"
      }
    },
    {
      "cell_type": "markdown",
      "source": [
        "#### Chart - 4"
      ],
      "metadata": {
        "id": "4Of9eVA-YrdM"
      }
    },
    {
      "cell_type": "code",
      "source": [
        "# Chart - 4 visualization code\n",
        "top_countries.head(9).plot(x=\"country\", y=['Productions','TV-Shows','Movies'], kind=\"bar\")"
      ],
      "metadata": {
        "id": "irlUoxc8YrdO",
        "colab": {
          "base_uri": "https://localhost:8080/",
          "height": 636
        },
        "outputId": "0a296955-82b3-45f8-831d-387cfbf38536"
      },
      "execution_count": 43,
      "outputs": [
        {
          "output_type": "execute_result",
          "data": {
            "text/plain": [
              "<Axes: xlabel='country'>"
            ]
          },
          "metadata": {},
          "execution_count": 43
        },
        {
          "output_type": "display_data",
          "data": {
            "text/plain": [
              "<Figure size 640x480 with 1 Axes>"
            ],
            "image/png": "[encoded data removed]"
          },
          "metadata": {}
        }
      ]
    },
    {
      "cell_type": "markdown",
      "source": [
        "##### 1. Why did you pick the specific chart?"
      ],
      "metadata": {
        "id": "iky9q4vBYrdO"
      }
    },
    {
      "cell_type": "markdown",
      "source": [
        "Answer Here."
      ],
      "metadata": {
        "id": "aJRCwT6DYrdO"
      }
    },
    {
      "cell_type": "markdown",
      "source": [
        "##### 2. What is/are the insight(s) found from the chart?"
      ],
      "metadata": {
        "id": "F6T5p64dYrdO"
      }
    },
    {
      "cell_type": "markdown",
      "source": [
        "Answer Here"
      ],
      "metadata": {
        "id": "Xx8WAJvtYrdO"
      }
    },
    {
      "cell_type": "markdown",
      "source": [
        "##### 3. Will the gained insights help creating a positive business impact?\n",
        "Are there any insights that lead to negative growth? Justify with specific reason."
      ],
      "metadata": {
        "id": "y-Ehk30pYrdP"
      }
    },
    {
      "cell_type": "markdown",
      "source": [
        "Answer Here"
      ],
      "metadata": {
        "id": "jLNxxz7MYrdP"
      }
    },
    {
      "cell_type": "markdown",
      "source": [
        "#### Chart - 5"
      ],
      "metadata": {
        "id": "bamQiAODYuh1"
      }
    },
    {
      "cell_type": "code",
      "source": [
        "# Chart - 5 visualization code\n",
        "#Plotting pie chart on type feature\n",
        "plt.figure(figsize=(14, 7))\n",
        "labels=['TV Show', 'Movie']\n",
        "plt.pie(df['type'].value_counts().sort_values(),labels=labels,explode=[0.01,0.01],\n",
        "        autopct='%1.2f%%', startangle=90)\n",
        "plt.title('Type of Netflix Content')\n",
        "plt.axis('equal')\n",
        "plt.show()"
      ],
      "metadata": {
        "id": "TIJwrbroYuh3",
        "colab": {
          "base_uri": "https://localhost:8080/",
          "height": 602
        },
        "outputId": "29cde2cf-a201-4d88-8033-02d15963b0e1"
      },
      "execution_count": 44,
      "outputs": [
        {
          "output_type": "display_data",
          "data": {
            "text/plain": [
              "<Figure size 1400x700 with 1 Axes>"
            ],
            "image/png": "[encoded data removed]"
          },
          "metadata": {}
        }
      ]
    },
    {
      "cell_type": "markdown",
      "source": [
        "##### 1. Why did you pick the specific chart?"
      ],
      "metadata": {
        "id": "QHF8YVU7Yuh3"
      }
    },
    {
      "cell_type": "markdown",
      "source": [
        "Answer Here."
      ],
      "metadata": {
        "id": "dcxuIMRPYuh3"
      }
    },
    {
      "cell_type": "markdown",
      "source": [
        "##### 2. What is/are the insight(s) found from the chart?"
      ],
      "metadata": {
        "id": "GwzvFGzlYuh3"
      }
    },
    {
      "cell_type": "markdown",
      "source": [
        "Answer Here"
      ],
      "metadata": {
        "id": "uyqkiB8YYuh3"
      }
    },
    {
      "cell_type": "markdown",
      "source": [
        "##### 3. Will the gained insights help creating a positive business impact?\n",
        "Are there any insights that lead to negative growth? Justify with specific reason."
      ],
      "metadata": {
        "id": "qYpmQ266Yuh3"
      }
    },
    {
      "cell_type": "markdown",
      "source": [
        "Answer Here"
      ],
      "metadata": {
        "id": "_WtzZ_hCYuh4"
      }
    },
    {
      "cell_type": "markdown",
      "source": [
        "#### Chart - 6"
      ],
      "metadata": {
        "id": "OH-pJp9IphqM"
      }
    },
    {
      "cell_type": "code",
      "source": [
        "# Chart - 6 visualization code\n",
        "sns.set(style=\"darkgrid\")\n",
        "plt.figure(figsize = (8,5))\n",
        "sns.kdeplot(data = df.duration[df['type'] == 'Movie'] , shade=True)"
      ],
      "metadata": {
        "id": "kuRf4wtuphqN",
        "colab": {
          "base_uri": "https://localhost:8080/",
          "height": 490
        },
        "outputId": "b3a744b6-df41-4fef-a044-fdf1e745a75b"
      },
      "execution_count": 56,
      "outputs": [
        {
          "output_type": "execute_result",
          "data": {
            "text/plain": [
              "<Axes: xlabel='duration', ylabel='Density'>"
            ]
          },
          "metadata": {},
          "execution_count": 56
        },
        {
          "output_type": "display_data",
          "data": {
            "text/plain": [
              "<Figure size 800x500 with 1 Axes>"
            ],
            "image/png": "[encoded data removed]"
          },
          "metadata": {}
        }
      ]
    },
    {
      "cell_type": "markdown",
      "source": [
        "##### 1. Why did you pick the specific chart?"
      ],
      "metadata": {
        "id": "bbFf2-_FphqN"
      }
    },
    {
      "cell_type": "markdown",
      "source": [
        "Answer Here."
      ],
      "metadata": {
        "id": "loh7H2nzphqN"
      }
    },
    {
      "cell_type": "markdown",
      "source": [
        "##### 2. What is/are the insight(s) found from the chart?"
      ],
      "metadata": {
        "id": "_ouA3fa0phqN"
      }
    },
    {
      "cell_type": "markdown",
      "source": [
        "Answer Here"
      ],
      "metadata": {
        "id": "VECbqPI7phqN"
      }
    },
    {
      "cell_type": "markdown",
      "source": [
        "##### 3. Will the gained insights help creating a positive business impact?\n",
        "Are there any insights that lead to negative growth? Justify with specific reason."
      ],
      "metadata": {
        "id": "Seke61FWphqN"
      }
    },
    {
      "cell_type": "markdown",
      "source": [
        "Answer Here"
      ],
      "metadata": {
        "id": "DW4_bGpfphqN"
      }
    },
    {
      "cell_type": "markdown",
      "source": [
        "#### Chart - 7"
      ],
      "metadata": {
        "id": "PIIx-8_IphqN"
      }
    },
    {
      "cell_type": "code",
      "source": [
        "# Chart - 7 visualization code\n",
        "#Analysis on the duration of TV shows\n",
        "df['type'].value_counts()"
      ],
      "metadata": {
        "id": "lqAIGUfyphqO",
        "colab": {
          "base_uri": "https://localhost:8080/"
        },
        "outputId": "c3fad12d-993e-4a9d-b48d-37112de72155"
      },
      "execution_count": 57,
      "outputs": [
        {
          "output_type": "execute_result",
          "data": {
            "text/plain": [
              "Movie      5377\n",
              "TV Show    2410\n",
              "Name: type, dtype: int64"
            ]
          },
          "metadata": {},
          "execution_count": 57
        }
      ]
    },
    {
      "cell_type": "code",
      "source": [
        "sns.set(style=\"darkgrid\")\n",
        "plt.figure(figsize = (12,5))\n",
        "sns.kdeplot(data = df.duration[df['type'] == 'TV Show'] , shade=True)"
      ],
      "metadata": {
        "colab": {
          "base_uri": "https://localhost:8080/",
          "height": 493
        },
        "id": "2dLs6AQNS_wq",
        "outputId": "0b5b1cd5-baf6-4a89-f0f1-23c313998aeb"
      },
      "execution_count": 58,
      "outputs": [
        {
          "output_type": "execute_result",
          "data": {
            "text/plain": [
              "<Axes: xlabel='duration', ylabel='Density'>"
            ]
          },
          "metadata": {},
          "execution_count": 58
        },
        {
          "output_type": "display_data",
          "data": {
            "text/plain": [
              "<Figure size 1200x500 with 1 Axes>"
            ],
            "image/png": "[encoded data removed]"
          },
          "metadata": {}
        }
      ]
    },
    {
      "cell_type": "markdown",
      "source": [
        "##### 1. Why did you pick the specific chart?"
      ],
      "metadata": {
        "id": "t27r6nlMphqO"
      }
    },
    {
      "cell_type": "markdown",
      "source": [
        "Answer Here."
      ],
      "metadata": {
        "id": "iv6ro40sphqO"
      }
    },
    {
      "cell_type": "markdown",
      "source": [
        "##### 2. What is/are the insight(s) found from the chart?"
      ],
      "metadata": {
        "id": "r2jJGEOYphqO"
      }
    },
    {
      "cell_type": "markdown",
      "source": [
        "Answer Here"
      ],
      "metadata": {
        "id": "Po6ZPi4hphqO"
      }
    },
    {
      "cell_type": "markdown",
      "source": [
        "##### 3. Will the gained insights help creating a positive business impact?\n",
        "Are there any insights that lead to negative growth? Justify with specific reason."
      ],
      "metadata": {
        "id": "b0JNsNcRphqO"
      }
    },
    {
      "cell_type": "markdown",
      "source": [
        "Answer Here"
      ],
      "metadata": {
        "id": "xvSq8iUTphqO"
      }
    },
    {
      "cell_type": "markdown",
      "source": [
        "#### Chart - 8"
      ],
      "metadata": {
        "id": "BZR9WyysphqO"
      }
    },
    {
      "cell_type": "code",
      "source": [
        "# Chart - 8 visualization code\n",
        "plt.figure( figsize = (16,8))\n",
        "color=['pink', 'blue', 'green', 'yellow', 'cyan' , \"orange\" ,'red', 'lightblue', 'grey', 'purple']\n",
        "plt.barh(top_10_most_occurred_category_name , top_10_most_occurred_category_count ,\n",
        "        color= color)\n",
        "plt.title(\"Top 10 Most Popular Categories\",fontsize = 19)\n",
        "plt.xlabel(\"Count\", fontsize = 14 )\n",
        "plt.ylabel(\"Category Name\" , fontsize = 14 )\n",
        "plt.figure( figsize = (16,8))"
      ],
      "metadata": {
        "id": "TdPTWpAVphqO",
        "colab": {
          "base_uri": "https://localhost:8080/",
          "height": 732
        },
        "outputId": "f9bdb46f-adef-4b2b-99a7-47b6f1903f16"
      },
      "execution_count": 76,
      "outputs": [
        {
          "output_type": "execute_result",
          "data": {
            "text/plain": [
              "<Figure size 1600x800 with 0 Axes>"
            ]
          },
          "metadata": {},
          "execution_count": 76
        },
        {
          "output_type": "display_data",
          "data": {
            "text/plain": [
              "<Figure size 1600x800 with 1 Axes>"
            ],
            "image/png": "[encoded data removed]"
          },
          "metadata": {}
        },
        {
          "output_type": "display_data",
          "data": {
            "text/plain": [
              "<Figure size 1600x800 with 0 Axes>"
            ]
          },
          "metadata": {}
        }
      ]
    },
    {
      "cell_type": "markdown",
      "source": [
        "##### 1. Why did you pick the specific chart?"
      ],
      "metadata": {
        "id": "jj7wYXLtphqO"
      }
    },
    {
      "cell_type": "markdown",
      "source": [
        "Answer Here."
      ],
      "metadata": {
        "id": "Ob8u6rCTphqO"
      }
    },
    {
      "cell_type": "markdown",
      "source": [
        "##### 2. What is/are the insight(s) found from the chart?"
      ],
      "metadata": {
        "id": "eZrbJ2SmphqO"
      }
    },
    {
      "cell_type": "markdown",
      "source": [
        "Answer Here"
      ],
      "metadata": {
        "id": "mZtgC_hjphqO"
      }
    },
    {
      "cell_type": "markdown",
      "source": [
        "##### 3. Will the gained insights help creating a positive business impact?\n",
        "Are there any insights that lead to negative growth? Justify with specific reason."
      ],
      "metadata": {
        "id": "rFu4xreNphqO"
      }
    },
    {
      "cell_type": "markdown",
      "source": [
        "Answer Here"
      ],
      "metadata": {
        "id": "ey_0qi68phqO"
      }
    },
    {
      "cell_type": "markdown",
      "source": [
        "#### Chart - 9"
      ],
      "metadata": {
        "id": "YJ55k-q6phqO"
      }
    },
    {
      "cell_type": "code",
      "source": [
        "# Chart - 9 visualization code"
      ],
      "metadata": {
        "id": "B2aS4O1ophqO"
      },
      "execution_count": null,
      "outputs": []
    },
    {
      "cell_type": "markdown",
      "source": [
        "##### 1. Why did you pick the specific chart?"
      ],
      "metadata": {
        "id": "gCFgpxoyphqP"
      }
    },
    {
      "cell_type": "markdown",
      "source": [
        "Answer Here."
      ],
      "metadata": {
        "id": "TVxDimi2phqP"
      }
    },
    {
      "cell_type": "markdown",
      "source": [
        "##### 2. What is/are the insight(s) found from the chart?"
      ],
      "metadata": {
        "id": "OVtJsKN_phqQ"
      }
    },
    {
      "cell_type": "markdown",
      "source": [
        "Answer Here"
      ],
      "metadata": {
        "id": "ngGi97qjphqQ"
      }
    },
    {
      "cell_type": "markdown",
      "source": [
        "##### 3. Will the gained insights help creating a positive business impact?\n",
        "Are there any insights that lead to negative growth? Justify with specific reason."
      ],
      "metadata": {
        "id": "lssrdh5qphqQ"
      }
    },
    {
      "cell_type": "markdown",
      "source": [
        "Answer Here"
      ],
      "metadata": {
        "id": "tBpY5ekJphqQ"
      }
    },
    {
      "cell_type": "markdown",
      "source": [
        "#### Chart - 10"
      ],
      "metadata": {
        "id": "U2RJ9gkRphqQ"
      }
    },
    {
      "cell_type": "code",
      "source": [
        "# Chart - 10 visualization code"
      ],
      "metadata": {
        "id": "GM7a4YP4phqQ"
      },
      "execution_count": null,
      "outputs": []
    },
    {
      "cell_type": "markdown",
      "source": [
        "##### 1. Why did you pick the specific chart?"
      ],
      "metadata": {
        "id": "1M8mcRywphqQ"
      }
    },
    {
      "cell_type": "markdown",
      "source": [
        "Answer Here."
      ],
      "metadata": {
        "id": "8agQvks0phqQ"
      }
    },
    {
      "cell_type": "markdown",
      "source": [
        "##### 2. What is/are the insight(s) found from the chart?"
      ],
      "metadata": {
        "id": "tgIPom80phqQ"
      }
    },
    {
      "cell_type": "markdown",
      "source": [
        "Answer Here"
      ],
      "metadata": {
        "id": "Qp13pnNzphqQ"
      }
    },
    {
      "cell_type": "markdown",
      "source": [
        "##### 3. Will the gained insights help creating a positive business impact?\n",
        "Are there any insights that lead to negative growth? Justify with specific reason."
      ],
      "metadata": {
        "id": "JMzcOPDDphqR"
      }
    },
    {
      "cell_type": "markdown",
      "source": [
        "Answer Here"
      ],
      "metadata": {
        "id": "R4Ka1PC2phqR"
      }
    },
    {
      "cell_type": "markdown",
      "source": [
        "#### Chart - 11"
      ],
      "metadata": {
        "id": "x-EpHcCOp1ci"
      }
    },
    {
      "cell_type": "code",
      "source": [
        "# Chart - 11 visualization code"
      ],
      "metadata": {
        "id": "mAQTIvtqp1cj"
      },
      "execution_count": null,
      "outputs": []
    },
    {
      "cell_type": "markdown",
      "source": [
        "##### 1. Why did you pick the specific chart?"
      ],
      "metadata": {
        "id": "X_VqEhTip1ck"
      }
    },
    {
      "cell_type": "markdown",
      "source": [
        "Answer Here."
      ],
      "metadata": {
        "id": "-vsMzt_np1ck"
      }
    },
    {
      "cell_type": "markdown",
      "source": [
        "##### 2. What is/are the insight(s) found from the chart?"
      ],
      "metadata": {
        "id": "8zGJKyg5p1ck"
      }
    },
    {
      "cell_type": "markdown",
      "source": [
        "Answer Here"
      ],
      "metadata": {
        "id": "ZYdMsrqVp1ck"
      }
    },
    {
      "cell_type": "markdown",
      "source": [
        "##### 3. Will the gained insights help creating a positive business impact?\n",
        "Are there any insights that lead to negative growth? Justify with specific reason."
      ],
      "metadata": {
        "id": "PVzmfK_Ep1ck"
      }
    },
    {
      "cell_type": "markdown",
      "source": [
        "Answer Here"
      ],
      "metadata": {
        "id": "druuKYZpp1ck"
      }
    },
    {
      "cell_type": "markdown",
      "source": [
        "#### Chart - 12"
      ],
      "metadata": {
        "id": "n3dbpmDWp1ck"
      }
    },
    {
      "cell_type": "code",
      "source": [
        "# Chart - 12 visualization code"
      ],
      "metadata": {
        "id": "bwevp1tKp1ck"
      },
      "execution_count": null,
      "outputs": []
    },
    {
      "cell_type": "markdown",
      "source": [
        "##### 1. Why did you pick the specific chart?"
      ],
      "metadata": {
        "id": "ylSl6qgtp1ck"
      }
    },
    {
      "cell_type": "markdown",
      "source": [
        "Answer Here."
      ],
      "metadata": {
        "id": "m2xqNkiQp1ck"
      }
    },
    {
      "cell_type": "markdown",
      "source": [
        "##### 2. What is/are the insight(s) found from the chart?"
      ],
      "metadata": {
        "id": "ZWILFDl5p1ck"
      }
    },
    {
      "cell_type": "markdown",
      "source": [
        "Answer Here"
      ],
      "metadata": {
        "id": "x-lUsV2mp1ck"
      }
    },
    {
      "cell_type": "markdown",
      "source": [
        "##### 3. Will the gained insights help creating a positive business impact?\n",
        "Are there any insights that lead to negative growth? Justify with specific reason."
      ],
      "metadata": {
        "id": "M7G43BXep1ck"
      }
    },
    {
      "cell_type": "markdown",
      "source": [
        "Answer Here"
      ],
      "metadata": {
        "id": "5wwDJXsLp1cl"
      }
    },
    {
      "cell_type": "markdown",
      "source": [
        "#### Chart - 13"
      ],
      "metadata": {
        "id": "Ag9LCva-p1cl"
      }
    },
    {
      "cell_type": "code",
      "source": [
        "# Chart - 13 visualization code"
      ],
      "metadata": {
        "id": "EUfxeq9-p1cl"
      },
      "execution_count": null,
      "outputs": []
    },
    {
      "cell_type": "markdown",
      "source": [
        "##### 1. Why did you pick the specific chart?"
      ],
      "metadata": {
        "id": "E6MkPsBcp1cl"
      }
    },
    {
      "cell_type": "markdown",
      "source": [
        "Answer Here."
      ],
      "metadata": {
        "id": "V22bRsFWp1cl"
      }
    },
    {
      "cell_type": "markdown",
      "source": [
        "##### 2. What is/are the insight(s) found from the chart?"
      ],
      "metadata": {
        "id": "2cELzS2fp1cl"
      }
    },
    {
      "cell_type": "markdown",
      "source": [
        "Answer Here"
      ],
      "metadata": {
        "id": "ozQPc2_Ip1cl"
      }
    },
    {
      "cell_type": "markdown",
      "source": [
        "##### 3. Will the gained insights help creating a positive business impact?\n",
        "Are there any insights that lead to negative growth? Justify with specific reason."
      ],
      "metadata": {
        "id": "3MPXvC8up1cl"
      }
    },
    {
      "cell_type": "markdown",
      "source": [
        "Answer Here"
      ],
      "metadata": {
        "id": "GL8l1tdLp1cl"
      }
    },
    {
      "cell_type": "markdown",
      "source": [
        "#### Chart - 14 - Correlation Heatmap"
      ],
      "metadata": {
        "id": "NC_X3p0fY2L0"
      }
    },
    {
      "cell_type": "code",
      "source": [
        "# Correlation Heatmap visualization code"
      ],
      "metadata": {
        "id": "xyC9zolEZNRQ"
      },
      "execution_count": null,
      "outputs": []
    },
    {
      "cell_type": "markdown",
      "source": [
        "##### 1. Why did you pick the specific chart?"
      ],
      "metadata": {
        "id": "UV0SzAkaZNRQ"
      }
    },
    {
      "cell_type": "markdown",
      "source": [
        "Answer Here."
      ],
      "metadata": {
        "id": "DVPuT8LYZNRQ"
      }
    },
    {
      "cell_type": "markdown",
      "source": [
        "##### 2. What is/are the insight(s) found from the chart?"
      ],
      "metadata": {
        "id": "YPEH6qLeZNRQ"
      }
    },
    {
      "cell_type": "markdown",
      "source": [
        "Answer Here"
      ],
      "metadata": {
        "id": "bfSqtnDqZNRR"
      }
    },
    {
      "cell_type": "markdown",
      "source": [
        "#### Chart - 15 - Pair Plot"
      ],
      "metadata": {
        "id": "q29F0dvdveiT"
      }
    },
    {
      "cell_type": "code",
      "source": [
        "# Pair Plot visualization code"
      ],
      "metadata": {
        "id": "o58-TEIhveiU"
      },
      "execution_count": null,
      "outputs": []
    },
    {
      "cell_type": "markdown",
      "source": [
        "##### 1. Why did you pick the specific chart?"
      ],
      "metadata": {
        "id": "EXh0U9oCveiU"
      }
    },
    {
      "cell_type": "markdown",
      "source": [
        "Answer Here."
      ],
      "metadata": {
        "id": "eMmPjTByveiU"
      }
    },
    {
      "cell_type": "markdown",
      "source": [
        "##### 2. What is/are the insight(s) found from the chart?"
      ],
      "metadata": {
        "id": "22aHeOlLveiV"
      }
    },
    {
      "cell_type": "markdown",
      "source": [
        "Answer Here"
      ],
      "metadata": {
        "id": "uPQ8RGwHveiV"
      }
    },
    {
      "cell_type": "markdown",
      "source": [
        "## ***5. Hypothesis Testing***"
      ],
      "metadata": {
        "id": "g-ATYxFrGrvw"
      }
    },
    {
      "cell_type": "markdown",
      "source": [
        "### Based on your chart experiments, define three hypothetical statements from the dataset. In the next three questions, perform hypothesis testing to obtain final conclusion about the statements through your code and statistical testing."
      ],
      "metadata": {
        "id": "Yfr_Vlr8HBkt"
      }
    },
    {
      "cell_type": "markdown",
      "source": [
        "Answer Here."
      ],
      "metadata": {
        "id": "-7MS06SUHkB-"
      }
    },
    {
      "cell_type": "markdown",
      "source": [
        "### Hypothetical Statement - 1"
      ],
      "metadata": {
        "id": "8yEUt7NnHlrM"
      }
    },
    {
      "cell_type": "markdown",
      "source": [
        "#### 1. State Your research hypothesis as a null hypothesis and alternate hypothesis."
      ],
      "metadata": {
        "id": "tEA2Xm5dHt1r"
      }
    },
    {
      "cell_type": "markdown",
      "source": [
        "Answer Here."
      ],
      "metadata": {
        "id": "HI9ZP0laH0D-"
      }
    },
    {
      "cell_type": "markdown",
      "source": [
        "#### 2. Perform an appropriate statistical test."
      ],
      "metadata": {
        "id": "I79__PHVH19G"
      }
    },
    {
      "cell_type": "code",
      "source": [
        "# Perform Statistical Test to obtain P-Value"
      ],
      "metadata": {
        "id": "oZrfquKtyian"
      },
      "execution_count": null,
      "outputs": []
    },
    {
      "cell_type": "markdown",
      "source": [
        "##### Which statistical test have you done to obtain P-Value?"
      ],
      "metadata": {
        "id": "Ou-I18pAyIpj"
      }
    },
    {
      "cell_type": "markdown",
      "source": [
        "Answer Here."
      ],
      "metadata": {
        "id": "s2U0kk00ygSB"
      }
    },
    {
      "cell_type": "markdown",
      "source": [
        "##### Why did you choose the specific statistical test?"
      ],
      "metadata": {
        "id": "fF3858GYyt-u"
      }
    },
    {
      "cell_type": "markdown",
      "source": [
        "Answer Here."
      ],
      "metadata": {
        "id": "HO4K0gP5y3B4"
      }
    },
    {
      "cell_type": "markdown",
      "source": [
        "### Hypothetical Statement - 2"
      ],
      "metadata": {
        "id": "4_0_7-oCpUZd"
      }
    },
    {
      "cell_type": "markdown",
      "source": [
        "#### 1. State Your research hypothesis as a null hypothesis and alternate hypothesis."
      ],
      "metadata": {
        "id": "hwyV_J3ipUZe"
      }
    },
    {
      "cell_type": "markdown",
      "source": [
        "Answer Here."
      ],
      "metadata": {
        "id": "FnpLGJ-4pUZe"
      }
    },
    {
      "cell_type": "markdown",
      "source": [
        "#### 2. Perform an appropriate statistical test."
      ],
      "metadata": {
        "id": "3yB-zSqbpUZe"
      }
    },
    {
      "cell_type": "code",
      "source": [
        "# Perform Statistical Test to obtain P-Value"
      ],
      "metadata": {
        "id": "sWxdNTXNpUZe"
      },
      "execution_count": null,
      "outputs": []
    },
    {
      "cell_type": "markdown",
      "source": [
        "##### Which statistical test have you done to obtain P-Value?"
      ],
      "metadata": {
        "id": "dEUvejAfpUZe"
      }
    },
    {
      "cell_type": "markdown",
      "source": [
        "Answer Here."
      ],
      "metadata": {
        "id": "oLDrPz7HpUZf"
      }
    },
    {
      "cell_type": "markdown",
      "source": [
        "##### Why did you choose the specific statistical test?"
      ],
      "metadata": {
        "id": "Fd15vwWVpUZf"
      }
    },
    {
      "cell_type": "markdown",
      "source": [
        "Answer Here."
      ],
      "metadata": {
        "id": "4xOGYyiBpUZf"
      }
    },
    {
      "cell_type": "markdown",
      "source": [
        "### Hypothetical Statement - 3"
      ],
      "metadata": {
        "id": "bn_IUdTipZyH"
      }
    },
    {
      "cell_type": "markdown",
      "source": [
        "#### 1. State Your research hypothesis as a null hypothesis and alternate hypothesis."
      ],
      "metadata": {
        "id": "49K5P_iCpZyH"
      }
    },
    {
      "cell_type": "markdown",
      "source": [
        "Answer Here."
      ],
      "metadata": {
        "id": "7gWI5rT9pZyH"
      }
    },
    {
      "cell_type": "markdown",
      "source": [
        "#### 2. Perform an appropriate statistical test."
      ],
      "metadata": {
        "id": "Nff-vKELpZyI"
      }
    },
    {
      "cell_type": "code",
      "source": [
        "# Perform Statistical Test to obtain P-Value"
      ],
      "metadata": {
        "id": "s6AnJQjtpZyI"
      },
      "execution_count": null,
      "outputs": []
    },
    {
      "cell_type": "markdown",
      "source": [
        "##### Which statistical test have you done to obtain P-Value?"
      ],
      "metadata": {
        "id": "kLW572S8pZyI"
      }
    },
    {
      "cell_type": "markdown",
      "source": [
        "Answer Here."
      ],
      "metadata": {
        "id": "ytWJ8v15pZyI"
      }
    },
    {
      "cell_type": "markdown",
      "source": [
        "##### Why did you choose the specific statistical test?"
      ],
      "metadata": {
        "id": "dWbDXHzopZyI"
      }
    },
    {
      "cell_type": "markdown",
      "source": [
        "Answer Here."
      ],
      "metadata": {
        "id": "M99G98V6pZyI"
      }
    },
    {
      "cell_type": "markdown",
      "source": [
        "## ***6. Feature Engineering & Data Pre-processing***"
      ],
      "metadata": {
        "id": "yLjJCtPM0KBk"
      }
    },
    {
      "cell_type": "markdown",
      "source": [
        "### 1. Handling Missing Values"
      ],
      "metadata": {
        "id": "xiyOF9F70UgQ"
      }
    },
    {
      "cell_type": "code",
      "source": [
        "# Handling Missing Values & Missing Value Imputation"
      ],
      "metadata": {
        "id": "iRsAHk1K0fpS"
      },
      "execution_count": null,
      "outputs": []
    },
    {
      "cell_type": "markdown",
      "source": [
        "#### What all missing value imputation techniques have you used and why did you use those techniques?"
      ],
      "metadata": {
        "id": "7wuGOrhz0itI"
      }
    },
    {
      "cell_type": "markdown",
      "source": [
        "Answer Here."
      ],
      "metadata": {
        "id": "1ixusLtI0pqI"
      }
    },
    {
      "cell_type": "markdown",
      "source": [
        "### 2. Handling Outliers"
      ],
      "metadata": {
        "id": "id1riN9m0vUs"
      }
    },
    {
      "cell_type": "code",
      "source": [
        "# Handling Outliers & Outlier treatments"
      ],
      "metadata": {
        "id": "M6w2CzZf04JK"
      },
      "execution_count": null,
      "outputs": []
    },
    {
      "cell_type": "markdown",
      "source": [
        "##### What all outlier treatment techniques have you used and why did you use those techniques?"
      ],
      "metadata": {
        "id": "578E2V7j08f6"
      }
    },
    {
      "cell_type": "markdown",
      "source": [
        "Answer Here."
      ],
      "metadata": {
        "id": "uGZz5OrT1HH-"
      }
    },
    {
      "cell_type": "markdown",
      "source": [
        "### 3. Categorical Encoding"
      ],
      "metadata": {
        "id": "89xtkJwZ18nB"
      }
    },
    {
      "cell_type": "code",
      "source": [
        "# Encode your categorical columns"
      ],
      "metadata": {
        "id": "21JmIYMG2hEo"
      },
      "execution_count": null,
      "outputs": []
    },
    {
      "cell_type": "markdown",
      "source": [
        "#### What all categorical encoding techniques have you used & why did you use those techniques?"
      ],
      "metadata": {
        "id": "67NQN5KX2AMe"
      }
    },
    {
      "cell_type": "markdown",
      "source": [
        "Answer Here."
      ],
      "metadata": {
        "id": "UDaue5h32n_G"
      }
    },
    {
      "cell_type": "markdown",
      "source": [
        "### 4. Textual Data Preprocessing\n",
        "(It's mandatory for textual dataset i.e., NLP, Sentiment Analysis, Text Clustering etc.)"
      ],
      "metadata": {
        "id": "Iwf50b-R2tYG"
      }
    },
    {
      "cell_type": "markdown",
      "source": [
        "#### 1. Expand Contraction"
      ],
      "metadata": {
        "id": "GMQiZwjn3iu7"
      }
    },
    {
      "cell_type": "code",
      "source": [
        "# Expand Contraction"
      ],
      "metadata": {
        "id": "PTouz10C3oNN"
      },
      "execution_count": null,
      "outputs": []
    },
    {
      "cell_type": "markdown",
      "source": [
        "#### 2. Lower Casing"
      ],
      "metadata": {
        "id": "WVIkgGqN3qsr"
      }
    },
    {
      "cell_type": "code",
      "source": [
        "# Lower Casing"
      ],
      "metadata": {
        "id": "88JnJ1jN3w7j"
      },
      "execution_count": null,
      "outputs": []
    },
    {
      "cell_type": "markdown",
      "source": [
        "#### 3. Removing Punctuations"
      ],
      "metadata": {
        "id": "XkPnILGE3zoT"
      }
    },
    {
      "cell_type": "code",
      "source": [
        "# Remove Punctuations"
      ],
      "metadata": {
        "id": "vqbBqNaA33c0"
      },
      "execution_count": null,
      "outputs": []
    },
    {
      "cell_type": "markdown",
      "source": [
        "#### 4. Removing URLs & Removing words and digits contain digits."
      ],
      "metadata": {
        "id": "Hlsf0x5436Go"
      }
    },
    {
      "cell_type": "code",
      "source": [
        "# Remove URLs & Remove words and digits contain digits"
      ],
      "metadata": {
        "id": "2sxKgKxu4Ip3"
      },
      "execution_count": null,
      "outputs": []
    },
    {
      "cell_type": "markdown",
      "source": [
        "#### 5. Removing Stopwords & Removing White spaces"
      ],
      "metadata": {
        "id": "mT9DMSJo4nBL"
      }
    },
    {
      "cell_type": "code",
      "source": [
        "# Remove Stopwords"
      ],
      "metadata": {
        "id": "T2LSJh154s8W"
      },
      "execution_count": null,
      "outputs": []
    },
    {
      "cell_type": "code",
      "source": [
        "# Remove White spaces"
      ],
      "metadata": {
        "id": "EgLJGffy4vm0"
      },
      "execution_count": null,
      "outputs": []
    },
    {
      "cell_type": "markdown",
      "source": [
        "#### 6. Rephrase Text"
      ],
      "metadata": {
        "id": "c49ITxTc407N"
      }
    },
    {
      "cell_type": "code",
      "source": [
        "# Rephrase Text"
      ],
      "metadata": {
        "id": "foqY80Qu48N2"
      },
      "execution_count": null,
      "outputs": []
    },
    {
      "cell_type": "markdown",
      "source": [
        "#### 7. Tokenization"
      ],
      "metadata": {
        "id": "OeJFEK0N496M"
      }
    },
    {
      "cell_type": "code",
      "source": [
        "# Tokenization"
      ],
      "metadata": {
        "id": "ijx1rUOS5CUU"
      },
      "execution_count": null,
      "outputs": []
    },
    {
      "cell_type": "markdown",
      "source": [
        "#### 8. Text Normalization"
      ],
      "metadata": {
        "id": "9ExmJH0g5HBk"
      }
    },
    {
      "cell_type": "code",
      "source": [
        "# Normalizing Text (i.e., Stemming, Lemmatization etc.)"
      ],
      "metadata": {
        "id": "AIJ1a-Zc5PY8"
      },
      "execution_count": null,
      "outputs": []
    },
    {
      "cell_type": "markdown",
      "source": [
        "##### Which text normalization technique have you used and why?"
      ],
      "metadata": {
        "id": "cJNqERVU536h"
      }
    },
    {
      "cell_type": "markdown",
      "source": [
        "Answer Here."
      ],
      "metadata": {
        "id": "Z9jKVxE06BC1"
      }
    },
    {
      "cell_type": "markdown",
      "source": [
        "#### 9. Part of speech tagging"
      ],
      "metadata": {
        "id": "k5UmGsbsOxih"
      }
    },
    {
      "cell_type": "code",
      "source": [
        "# POS Taging"
      ],
      "metadata": {
        "id": "btT3ZJBAO6Ik"
      },
      "execution_count": null,
      "outputs": []
    },
    {
      "cell_type": "markdown",
      "source": [
        "#### 10. Text Vectorization"
      ],
      "metadata": {
        "id": "T0VqWOYE6DLQ"
      }
    },
    {
      "cell_type": "code",
      "source": [
        "# Vectorizing Text"
      ],
      "metadata": {
        "id": "yBRtdhth6JDE"
      },
      "execution_count": null,
      "outputs": []
    },
    {
      "cell_type": "markdown",
      "source": [
        "##### Which text vectorization technique have you used and why?"
      ],
      "metadata": {
        "id": "qBMux9mC6MCf"
      }
    },
    {
      "cell_type": "markdown",
      "source": [
        "Answer Here."
      ],
      "metadata": {
        "id": "su2EnbCh6UKQ"
      }
    },
    {
      "cell_type": "markdown",
      "source": [
        "### 4. Feature Manipulation & Selection"
      ],
      "metadata": {
        "id": "-oLEiFgy-5Pf"
      }
    },
    {
      "cell_type": "markdown",
      "source": [
        "#### 1. Feature Manipulation"
      ],
      "metadata": {
        "id": "C74aWNz2AliB"
      }
    },
    {
      "cell_type": "code",
      "source": [
        "# Manipulate Features to minimize feature correlation and create new features"
      ],
      "metadata": {
        "id": "h1qC4yhBApWC"
      },
      "execution_count": null,
      "outputs": []
    },
    {
      "cell_type": "markdown",
      "source": [
        "#### 2. Feature Selection"
      ],
      "metadata": {
        "id": "2DejudWSA-a0"
      }
    },
    {
      "cell_type": "code",
      "source": [
        "# Select your features wisely to avoid overfitting"
      ],
      "metadata": {
        "id": "YLhe8UmaBCEE"
      },
      "execution_count": null,
      "outputs": []
    },
    {
      "cell_type": "markdown",
      "source": [
        "##### What all feature selection methods have you used  and why?"
      ],
      "metadata": {
        "id": "pEMng2IbBLp7"
      }
    },
    {
      "cell_type": "markdown",
      "source": [
        "Answer Here."
      ],
      "metadata": {
        "id": "rb2Lh6Z8BgGs"
      }
    },
    {
      "cell_type": "markdown",
      "source": [
        "##### Which all features you found important and why?"
      ],
      "metadata": {
        "id": "rAdphbQ9Bhjc"
      }
    },
    {
      "cell_type": "markdown",
      "source": [
        "Answer Here."
      ],
      "metadata": {
        "id": "fGgaEstsBnaf"
      }
    },
    {
      "cell_type": "markdown",
      "source": [
        "### 5. Data Transformation"
      ],
      "metadata": {
        "id": "TNVZ9zx19K6k"
      }
    },
    {
      "cell_type": "markdown",
      "source": [
        "#### Do you think that your data needs to be transformed? If yes, which transformation have you used. Explain Why?"
      ],
      "metadata": {
        "id": "nqoHp30x9hH9"
      }
    },
    {
      "cell_type": "code",
      "source": [
        "# Transform Your data"
      ],
      "metadata": {
        "id": "I6quWQ1T9rtH"
      },
      "execution_count": null,
      "outputs": []
    },
    {
      "cell_type": "markdown",
      "source": [
        "### 6. Data Scaling"
      ],
      "metadata": {
        "id": "rMDnDkt2B6du"
      }
    },
    {
      "cell_type": "code",
      "source": [
        "# Scaling your data"
      ],
      "metadata": {
        "id": "dL9LWpySC6x_"
      },
      "execution_count": null,
      "outputs": []
    },
    {
      "cell_type": "markdown",
      "source": [
        "##### Which method have you used to scale you data and why?"
      ],
      "metadata": {
        "id": "yiiVWRdJDDil"
      }
    },
    {
      "cell_type": "markdown",
      "source": [
        "### 7. Dimesionality Reduction"
      ],
      "metadata": {
        "id": "1UUpS68QDMuG"
      }
    },
    {
      "cell_type": "markdown",
      "source": [
        "##### Do you think that dimensionality reduction is needed? Explain Why?"
      ],
      "metadata": {
        "id": "kexQrXU-DjzY"
      }
    },
    {
      "cell_type": "markdown",
      "source": [
        "Answer Here."
      ],
      "metadata": {
        "id": "GGRlBsSGDtTQ"
      }
    },
    {
      "cell_type": "code",
      "source": [
        "# DImensionality Reduction (If needed)"
      ],
      "metadata": {
        "id": "kQfvxBBHDvCa"
      },
      "execution_count": null,
      "outputs": []
    },
    {
      "cell_type": "markdown",
      "source": [
        "##### Which dimensionality reduction technique have you used and why? (If dimensionality reduction done on dataset.)"
      ],
      "metadata": {
        "id": "T5CmagL3EC8N"
      }
    },
    {
      "cell_type": "markdown",
      "source": [
        "Answer Here."
      ],
      "metadata": {
        "id": "ZKr75IDuEM7t"
      }
    },
    {
      "cell_type": "markdown",
      "source": [
        "### 8. Data Splitting"
      ],
      "metadata": {
        "id": "BhH2vgX9EjGr"
      }
    },
    {
      "cell_type": "code",
      "source": [
        "# Split your data to train and test. Choose Splitting ratio wisely."
      ],
      "metadata": {
        "id": "0CTyd2UwEyNM"
      },
      "execution_count": null,
      "outputs": []
    },
    {
      "cell_type": "markdown",
      "source": [
        "##### What data splitting ratio have you used and why?"
      ],
      "metadata": {
        "id": "qjKvONjwE8ra"
      }
    },
    {
      "cell_type": "markdown",
      "source": [
        "Answer Here."
      ],
      "metadata": {
        "id": "Y2lJ8cobFDb_"
      }
    },
    {
      "cell_type": "markdown",
      "source": [
        "### 9. Handling Imbalanced Dataset"
      ],
      "metadata": {
        "id": "P1XJ9OREExlT"
      }
    },
    {
      "cell_type": "markdown",
      "source": [
        "##### Do you think the dataset is imbalanced? Explain Why."
      ],
      "metadata": {
        "id": "VFOzZv6IFROw"
      }
    },
    {
      "cell_type": "markdown",
      "source": [
        "Answer Here."
      ],
      "metadata": {
        "id": "GeKDIv7pFgcC"
      }
    },
    {
      "cell_type": "code",
      "source": [
        "# Handling Imbalanced Dataset (If needed)"
      ],
      "metadata": {
        "id": "nQsRhhZLFiDs"
      },
      "execution_count": null,
      "outputs": []
    },
    {
      "cell_type": "markdown",
      "source": [
        "##### What technique did you use to handle the imbalance dataset and why? (If needed to be balanced)"
      ],
      "metadata": {
        "id": "TIqpNgepFxVj"
      }
    },
    {
      "cell_type": "markdown",
      "source": [
        "Answer Here."
      ],
      "metadata": {
        "id": "qbet1HwdGDTz"
      }
    },
    {
      "cell_type": "markdown",
      "source": [
        "## ***7. ML Model Implementation***"
      ],
      "metadata": {
        "id": "VfCC591jGiD4"
      }
    },
    {
      "cell_type": "markdown",
      "source": [
        "### ML Model - 1"
      ],
      "metadata": {
        "id": "OB4l2ZhMeS1U"
      }
    },
    {
      "cell_type": "code",
      "source": [
        "# ML Model - 1 Implementation\n",
        "\n",
        "# Fit the Algorithm\n",
        "\n",
        "# Predict on the model"
      ],
      "metadata": {
        "id": "7ebyywQieS1U"
      },
      "execution_count": null,
      "outputs": []
    },
    {
      "cell_type": "markdown",
      "source": [
        "#### 1. Explain the ML Model used and it's performance using Evaluation metric Score Chart."
      ],
      "metadata": {
        "id": "ArJBuiUVfxKd"
      }
    },
    {
      "cell_type": "code",
      "source": [
        "# Visualizing evaluation Metric Score chart"
      ],
      "metadata": {
        "id": "rqD5ZohzfxKe"
      },
      "execution_count": null,
      "outputs": []
    },
    {
      "cell_type": "markdown",
      "source": [
        "#### 2. Cross- Validation & Hyperparameter Tuning"
      ],
      "metadata": {
        "id": "4qY1EAkEfxKe"
      }
    },
    {
      "cell_type": "code",
      "source": [
        "# ML Model - 1 Implementation with hyperparameter optimization techniques (i.e., GridSearch CV, RandomSearch CV, Bayesian Optimization etc.)\n",
        "\n",
        "# Fit the Algorithm\n",
        "\n",
        "# Predict on the model"
      ],
      "metadata": {
        "id": "Dy61ujd6fxKe"
      },
      "execution_count": null,
      "outputs": []
    },
    {
      "cell_type": "markdown",
      "source": [
        "##### Which hyperparameter optimization technique have you used and why?"
      ],
      "metadata": {
        "id": "PiV4Ypx8fxKe"
      }
    },
    {
      "cell_type": "markdown",
      "source": [
        "Answer Here."
      ],
      "metadata": {
        "id": "negyGRa7fxKf"
      }
    },
    {
      "cell_type": "markdown",
      "source": [
        "##### Have you seen any improvement? Note down the improvement with updates Evaluation metric Score Chart."
      ],
      "metadata": {
        "id": "TfvqoZmBfxKf"
      }
    },
    {
      "cell_type": "markdown",
      "source": [
        "Answer Here."
      ],
      "metadata": {
        "id": "OaLui8CcfxKf"
      }
    },
    {
      "cell_type": "markdown",
      "source": [
        "### ML Model - 2"
      ],
      "metadata": {
        "id": "dJ2tPlVmpsJ0"
      }
    },
    {
      "cell_type": "markdown",
      "source": [
        "#### 1. Explain the ML Model used and it's performance using Evaluation metric Score Chart."
      ],
      "metadata": {
        "id": "JWYfwnehpsJ1"
      }
    },
    {
      "cell_type": "code",
      "source": [
        "# Visualizing evaluation Metric Score chart"
      ],
      "metadata": {
        "id": "yEl-hgQWpsJ1"
      },
      "execution_count": null,
      "outputs": []
    },
    {
      "cell_type": "markdown",
      "source": [
        "#### 2. Cross- Validation & Hyperparameter Tuning"
      ],
      "metadata": {
        "id": "-jK_YjpMpsJ2"
      }
    },
    {
      "cell_type": "code",
      "source": [
        "# ML Model - 1 Implementation with hyperparameter optimization techniques (i.e., GridSearch CV, RandomSearch CV, Bayesian Optimization etc.)\n",
        "\n",
        "# Fit the Algorithm\n",
        "\n",
        "# Predict on the model"
      ],
      "metadata": {
        "id": "Dn0EOfS6psJ2"
      },
      "execution_count": null,
      "outputs": []
    },
    {
      "cell_type": "markdown",
      "source": [
        "##### Which hyperparameter optimization technique have you used and why?"
      ],
      "metadata": {
        "id": "HAih1iBOpsJ2"
      }
    },
    {
      "cell_type": "markdown",
      "source": [
        "Answer Here."
      ],
      "metadata": {
        "id": "9kBgjYcdpsJ2"
      }
    },
    {
      "cell_type": "markdown",
      "source": [
        "##### Have you seen any improvement? Note down the improvement with updates Evaluation metric Score Chart."
      ],
      "metadata": {
        "id": "zVGeBEFhpsJ2"
      }
    },
    {
      "cell_type": "markdown",
      "source": [
        "Answer Here."
      ],
      "metadata": {
        "id": "74yRdG6UpsJ3"
      }
    },
    {
      "cell_type": "markdown",
      "source": [
        "#### 3. Explain each evaluation metric's indication towards business and the business impact pf the ML model used."
      ],
      "metadata": {
        "id": "bmKjuQ-FpsJ3"
      }
    },
    {
      "cell_type": "markdown",
      "source": [
        "Answer Here."
      ],
      "metadata": {
        "id": "BDKtOrBQpsJ3"
      }
    },
    {
      "cell_type": "markdown",
      "source": [
        "### ML Model - 3"
      ],
      "metadata": {
        "id": "Fze-IPXLpx6K"
      }
    },
    {
      "cell_type": "code",
      "source": [
        "# ML Model - 3 Implementation\n",
        "\n",
        "# Fit the Algorithm\n",
        "\n",
        "# Predict on the model"
      ],
      "metadata": {
        "id": "FFrSXAtrpx6M"
      },
      "execution_count": null,
      "outputs": []
    },
    {
      "cell_type": "markdown",
      "source": [
        "#### 1. Explain the ML Model used and it's performance using Evaluation metric Score Chart."
      ],
      "metadata": {
        "id": "7AN1z2sKpx6M"
      }
    },
    {
      "cell_type": "code",
      "source": [
        "# Visualizing evaluation Metric Score chart"
      ],
      "metadata": {
        "id": "xIY4lxxGpx6M"
      },
      "execution_count": null,
      "outputs": []
    },
    {
      "cell_type": "markdown",
      "source": [
        "#### 2. Cross- Validation & Hyperparameter Tuning"
      ],
      "metadata": {
        "id": "9PIHJqyupx6M"
      }
    },
    {
      "cell_type": "code",
      "source": [
        "# ML Model - 3 Implementation with hyperparameter optimization techniques (i.e., GridSearch CV, RandomSearch CV, Bayesian Optimization etc.)\n",
        "\n",
        "# Fit the Algorithm\n",
        "\n",
        "# Predict on the model"
      ],
      "metadata": {
        "id": "eSVXuaSKpx6M"
      },
      "execution_count": null,
      "outputs": []
    },
    {
      "cell_type": "markdown",
      "source": [
        "##### Which hyperparameter optimization technique have you used and why?"
      ],
      "metadata": {
        "id": "_-qAgymDpx6N"
      }
    },
    {
      "cell_type": "markdown",
      "source": [
        "Answer Here."
      ],
      "metadata": {
        "id": "lQMffxkwpx6N"
      }
    },
    {
      "cell_type": "markdown",
      "source": [
        "##### Have you seen any improvement? Note down the improvement with updates Evaluation metric Score Chart."
      ],
      "metadata": {
        "id": "Z-hykwinpx6N"
      }
    },
    {
      "cell_type": "markdown",
      "source": [
        "Answer Here."
      ],
      "metadata": {
        "id": "MzVzZC6opx6N"
      }
    },
    {
      "cell_type": "markdown",
      "source": [
        "### 1. Which Evaluation metrics did you consider for a positive business impact and why?"
      ],
      "metadata": {
        "id": "h_CCil-SKHpo"
      }
    },
    {
      "cell_type": "markdown",
      "source": [
        "Answer Here."
      ],
      "metadata": {
        "id": "jHVz9hHDKFms"
      }
    },
    {
      "cell_type": "markdown",
      "source": [
        "### 2. Which ML model did you choose from the above created models as your final prediction model and why?"
      ],
      "metadata": {
        "id": "cBFFvTBNJzUa"
      }
    },
    {
      "cell_type": "markdown",
      "source": [
        "Answer Here."
      ],
      "metadata": {
        "id": "6ksF5Q1LKTVm"
      }
    },
    {
      "cell_type": "markdown",
      "source": [
        "### 3. Explain the model which you have used and the feature importance using any model explainability tool?"
      ],
      "metadata": {
        "id": "HvGl1hHyA_VK"
      }
    },
    {
      "cell_type": "markdown",
      "source": [
        "Answer Here."
      ],
      "metadata": {
        "id": "YnvVTiIxBL-C"
      }
    },
    {
      "cell_type": "markdown",
      "source": [
        "## ***8.*** ***Future Work (Optional)***"
      ],
      "metadata": {
        "id": "EyNgTHvd2WFk"
      }
    },
    {
      "cell_type": "markdown",
      "source": [
        "### 1. Save the best performing ml model in a pickle file or joblib file format for deployment process.\n"
      ],
      "metadata": {
        "id": "KH5McJBi2d8v"
      }
    },
    {
      "cell_type": "code",
      "source": [
        "# Save the File"
      ],
      "metadata": {
        "id": "bQIANRl32f4J"
      },
      "execution_count": null,
      "outputs": []
    },
    {
      "cell_type": "markdown",
      "source": [
        "### 2. Again Load the saved model file and try to predict unseen data for a sanity check.\n"
      ],
      "metadata": {
        "id": "iW_Lq9qf2h6X"
      }
    },
    {
      "cell_type": "code",
      "source": [
        "# Load the File and predict unseen data."
      ],
      "metadata": {
        "id": "oEXk9ydD2nVC"
      },
      "execution_count": null,
      "outputs": []
    },
    {
      "cell_type": "markdown",
      "source": [
        "### ***Congrats! Your model is successfully created and ready for deployment on a live server for a real user interaction !!!***"
      ],
      "metadata": {
        "id": "-Kee-DAl2viO"
      }
    },
    {
      "cell_type": "markdown",
      "source": [
        "# **Conclusion**"
      ],
      "metadata": {
        "id": "gCX9965dhzqZ"
      }
    },
    {
      "cell_type": "markdown",
      "source": [
        "Write the conclusion here."
      ],
      "metadata": {
        "id": "Fjb1IsQkh3yE"
      }
    },
    {
      "cell_type": "markdown",
      "source": [
        "### ***Hurrah! You have successfully completed your Machine Learning Capstone Project !!!***"
      ],
      "metadata": {
        "id": "gIfDvo9L0UH2"
      }
    }
  ]
}